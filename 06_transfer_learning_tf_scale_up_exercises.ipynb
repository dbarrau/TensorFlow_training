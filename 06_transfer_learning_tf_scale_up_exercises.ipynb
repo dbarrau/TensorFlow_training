{
  "nbformat": 4,
  "nbformat_minor": 0,
  "metadata": {
    "colab": {
      "provenance": [],
      "collapsed_sections": [],
      "machine_shape": "hm",
      "authorship_tag": "ABX9TyPiLgUSIoJUx3MGfyIHPRjS",
      "include_colab_link": true
    },
    "kernelspec": {
      "name": "python3",
      "display_name": "Python 3"
    },
    "language_info": {
      "name": "python"
    },
    "accelerator": "GPU",
    "gpuClass": "standard"
  },
  "cells": [
    {
      "cell_type": "markdown",
      "metadata": {
        "id": "view-in-github",
        "colab_type": "text"
      },
      "source": [
        "<a href=\"https://colab.research.google.com/github/dbarrau/TensorFlow_training/blob/main/06_transfer_learning_tf_scale_up_exercises.ipynb\" target=\"_parent\"><img src=\"https://colab.research.google.com/assets/colab-badge.svg\" alt=\"Open In Colab\"/></a>"
      ]
    },
    {
      "cell_type": "code",
      "execution_count": null,
      "metadata": {
        "colab": {
          "base_uri": "https://localhost:8080/"
        },
        "id": "mcq76VaSCt1e",
        "outputId": "1690624e-19de-43d6-f494-e7d076a7d731"
      },
      "outputs": [
        {
          "output_type": "stream",
          "name": "stdout",
          "text": [
            "--2022-07-27 10:40:23--  https://raw.githubusercontent.com/mrdbourke/tensorflow-deep-learning/main/extras/helper_functions.py\n",
            "Resolving raw.githubusercontent.com (raw.githubusercontent.com)... 185.199.111.133, 185.199.108.133, 185.199.110.133, ...\n",
            "Connecting to raw.githubusercontent.com (raw.githubusercontent.com)|185.199.111.133|:443... connected.\n",
            "HTTP request sent, awaiting response... 200 OK\n",
            "Length: 10246 (10K) [text/plain]\n",
            "Saving to: ‘helper_functions.py’\n",
            "\n",
            "\rhelper_functions.py   0%[                    ]       0  --.-KB/s               \rhelper_functions.py 100%[===================>]  10.01K  --.-KB/s    in 0s      \n",
            "\n",
            "2022-07-27 10:40:23 (52.7 MB/s) - ‘helper_functions.py’ saved [10246/10246]\n",
            "\n"
          ]
        }
      ],
      "source": [
        "!wget https://raw.githubusercontent.com/mrdbourke/tensorflow-deep-learning/main/extras/helper_functions.py"
      ]
    },
    {
      "cell_type": "markdown",
      "source": [
        "## Import packages, download and unzip data"
      ],
      "metadata": {
        "id": "ScwIoCyKHgWZ"
      }
    },
    {
      "cell_type": "code",
      "source": [
        "import tensorflow as tf\n",
        "from helper_functions import create_tensorboard_callback, plot_loss_curves, unzip_data, compare_historys, walk_through_dir\n",
        "from tensorflow.keras import layers\n",
        "from tensorflow.keras.layers.experimental import preprocessing\n",
        "from tensorflow.keras.models import Sequential\n",
        "\n",
        "IMG_SIZE=(224,224)"
      ],
      "metadata": {
        "id": "AMsnJ8VTEgGH"
      },
      "execution_count": null,
      "outputs": []
    },
    {
      "cell_type": "code",
      "source": [
        "!wget https://storage.googleapis.com/ztm_tf_course/food_vision/101_food_classes_10_percent.zip\n",
        "unzip_data(\"101_food_classes_10_percent.zip\")\n",
        "\n",
        "train_dir = \"101_food_classes_10_percent/train/\"\n",
        "test_dir = \"101_food_classes_10_percent/test/\"\n",
        "\n"
      ],
      "metadata": {
        "colab": {
          "base_uri": "https://localhost:8080/"
        },
        "id": "J0MkPiMTG3wK",
        "outputId": "1739d0e6-9403-4b1a-8978-fe5863268357"
      },
      "execution_count": null,
      "outputs": [
        {
          "output_type": "stream",
          "name": "stdout",
          "text": [
            "--2022-07-27 10:40:27--  https://storage.googleapis.com/ztm_tf_course/food_vision/101_food_classes_10_percent.zip\n",
            "Resolving storage.googleapis.com (storage.googleapis.com)... 173.194.215.128, 108.177.11.128, 108.177.12.128, ...\n",
            "Connecting to storage.googleapis.com (storage.googleapis.com)|173.194.215.128|:443... connected.\n",
            "HTTP request sent, awaiting response... 200 OK\n",
            "Length: 1625420029 (1.5G) [application/zip]\n",
            "Saving to: ‘101_food_classes_10_percent.zip’\n",
            "\n",
            "101_food_classes_10 100%[===================>]   1.51G  96.9MB/s    in 14s     \n",
            "\n",
            "2022-07-27 10:40:42 (107 MB/s) - ‘101_food_classes_10_percent.zip’ saved [1625420029/1625420029]\n",
            "\n"
          ]
        }
      ]
    },
    {
      "cell_type": "markdown",
      "source": [
        "## Setup data loaders for train and test data"
      ],
      "metadata": {
        "id": "iSyXnQjPJRRi"
      }
    },
    {
      "cell_type": "code",
      "source": [
        "\n",
        "train_data = tf.keras.preprocessing.image_dataset_from_directory(train_dir,\n",
        "                                                                 label_mode=\"categorical\",\n",
        "                                                                 image_size=IMG_SIZE)\n",
        "\n",
        "test_data = tf.keras.preprocessing.image_dataset_from_directory(test_dir,\n",
        "                                                                label_mode=\"categorical\",\n",
        "                                                                image_size=IMG_SIZE)\n"
      ],
      "metadata": {
        "colab": {
          "base_uri": "https://localhost:8080/"
        },
        "id": "38F2tELCHeus",
        "outputId": "869e99ea-6cc2-40fc-b2ba-a13e5665bd71"
      },
      "execution_count": null,
      "outputs": [
        {
          "output_type": "stream",
          "name": "stdout",
          "text": [
            "Found 7575 files belonging to 101 classes.\n",
            "Found 25250 files belonging to 101 classes.\n"
          ]
        }
      ]
    },
    {
      "cell_type": "markdown",
      "source": [
        "# Setup Model Checkpoint and augment the data\n",
        "\n",
        "We have to compare a feature extractor for 10 epochs, against a 5-epoch feature extractor consecuted by another 5 epochs of a fined tuned model.\n",
        "\n",
        "Therefore we will set up a checkpoint after 5 epochs. "
      ],
      "metadata": {
        "id": "ckkhp1GvJgrd"
      }
    },
    {
      "cell_type": "code",
      "source": [
        "checkpoint_path = \"101_classes_10_percent_data_model_checkpoint\"\n",
        "checkpoint_callback = tf.keras.callbacks.ModelCheckpoint(checkpoint_path,\n",
        "                                                       save_weights_only=True,\n",
        "                                                       monitor=\"val_accuracy\",\n",
        "                                                       save_best_only=True)"
      ],
      "metadata": {
        "id": "Gsj-FT3fJies"
      },
      "execution_count": null,
      "outputs": []
    },
    {
      "cell_type": "markdown",
      "source": [
        "### Data Augmentation "
      ],
      "metadata": {
        "id": "JMY7sWR5LV5-"
      }
    },
    {
      "cell_type": "code",
      "source": [
        "data_augmentation = Sequential([\n",
        "  preprocessing.RandomFlip(\"horizontal\"),\n",
        "  preprocessing.RandomRotation(0.2),\n",
        "  preprocessing.RandomHeight(0.2),\n",
        "  preprocessing.RandomWidth(0.2),\n",
        "  preprocessing.RandomZoom(0.2),\n",
        "], name=\"data_augmentation\")"
      ],
      "metadata": {
        "id": "lT2hCyfcKxeJ"
      },
      "execution_count": null,
      "outputs": []
    },
    {
      "cell_type": "markdown",
      "source": [
        "## Setup model architecture"
      ],
      "metadata": {
        "id": "N-ytOXN_Lcvb"
      }
    },
    {
      "cell_type": "code",
      "source": [
        "# Setup base model (with no top) and freeze its layers\n",
        "base_model = tf.keras.applications.EfficientNetB0(include_top=False)\n",
        "base_model.trainable = False"
      ],
      "metadata": {
        "colab": {
          "base_uri": "https://localhost:8080/"
        },
        "id": "HvgdPynXLgkX",
        "outputId": "8acf327e-a915-45c2-acca-375344a62b2d"
      },
      "execution_count": null,
      "outputs": [
        {
          "output_type": "stream",
          "name": "stdout",
          "text": [
            "Downloading data from https://storage.googleapis.com/keras-applications/efficientnetb0_notop.h5\n",
            "16711680/16705208 [==============================] - 0s 0us/step\n",
            "16719872/16705208 [==============================] - 0s 0us/step\n"
          ]
        }
      ]
    },
    {
      "cell_type": "code",
      "source": [
        "# Setup model architecture with trainable top layers\n",
        "inputs = layers.Input(shape=IMG_SIZE + (3,), name=\"inptu_layer\")\n",
        "\n",
        "x = data_augmentation(inputs)\n",
        "x = base_model(x, training=False)\n",
        "x = layers.GlobalAveragePooling2D(name=\"global_avg_pool_layer\")(x)\n",
        "outputs = layers.Dense(len(train_data.class_names), activation=\"softmax\", name=\"output_layer\")(x)\n",
        "\n",
        "model = tf.keras.Model(inputs,outputs)"
      ],
      "metadata": {
        "id": "jIgOH3xPMZRI"
      },
      "execution_count": null,
      "outputs": []
    },
    {
      "cell_type": "markdown",
      "source": [
        "## Compile, train and evalaute model"
      ],
      "metadata": {
        "id": "CZV4kbZrNSpR"
      }
    },
    {
      "cell_type": "code",
      "source": [
        "model.compile(loss=\"categorical_crossentropy\",\n",
        "              optimizer=tf.keras.optimizers.Adam(),\n",
        "              metrics=[\"accuracy\"])\n",
        "\n",
        "model.summary()"
      ],
      "metadata": {
        "colab": {
          "base_uri": "https://localhost:8080/"
        },
        "id": "JRacpSL7NWu8",
        "outputId": "af6c7cc2-8268-4e3a-9fb7-21930a66c39e"
      },
      "execution_count": null,
      "outputs": [
        {
          "output_type": "stream",
          "name": "stdout",
          "text": [
            "Model: \"model\"\n",
            "_________________________________________________________________\n",
            " Layer (type)                Output Shape              Param #   \n",
            "=================================================================\n",
            " inptu_layer (InputLayer)    [(None, 224, 224, 3)]     0         \n",
            "                                                                 \n",
            " data_augmentation (Sequenti  (None, 224, 224, 3)      0         \n",
            " al)                                                             \n",
            "                                                                 \n",
            " efficientnetb0 (Functional)  (None, None, None, 1280)  4049571  \n",
            "                                                                 \n",
            " global_avg_pool_layer (Glob  (None, 1280)             0         \n",
            " alAveragePooling2D)                                             \n",
            "                                                                 \n",
            " output_layer (Dense)        (None, 101)               129381    \n",
            "                                                                 \n",
            "=================================================================\n",
            "Total params: 4,178,952\n",
            "Trainable params: 129,381\n",
            "Non-trainable params: 4,049,571\n",
            "_________________________________________________________________\n"
          ]
        }
      ]
    },
    {
      "cell_type": "markdown",
      "source": [
        "### Train model for first 5 epochs "
      ],
      "metadata": {
        "id": "cb9OZO1ZTsiZ"
      }
    },
    {
      "cell_type": "code",
      "source": [
        "initial_epochs = 5\n",
        "\n",
        "history_common = model.fit(train_data,\n",
        "                           epochs=initial_epochs,\n",
        "                           steps_per_epoch=len(train_data),\n",
        "                           validation_data=test_data,\n",
        "                           validation_steps=int(0.25*len(test_data)),\n",
        "                           callbacks=[checkpoint_callback])"
      ],
      "metadata": {
        "colab": {
          "base_uri": "https://localhost:8080/"
        },
        "id": "4T8BfrkMNpVr",
        "outputId": "ebfd15b1-98ed-4ffa-e5dd-1e9aa6889a84"
      },
      "execution_count": null,
      "outputs": [
        {
          "output_type": "stream",
          "name": "stdout",
          "text": [
            "Epoch 1/5\n",
            "237/237 [==============================] - 55s 156ms/step - loss: 3.4854 - accuracy: 0.2418 - val_loss: 2.4551 - val_accuracy: 0.4370\n",
            "Epoch 2/5\n",
            "237/237 [==============================] - 31s 129ms/step - loss: 2.3524 - accuracy: 0.4553 - val_loss: 2.0217 - val_accuracy: 0.5051\n",
            "Epoch 3/5\n",
            "237/237 [==============================] - 30s 126ms/step - loss: 1.9932 - accuracy: 0.5241 - val_loss: 1.8595 - val_accuracy: 0.5287\n",
            "Epoch 4/5\n",
            "237/237 [==============================] - 29s 120ms/step - loss: 1.7615 - accuracy: 0.5694 - val_loss: 1.7658 - val_accuracy: 0.5436\n",
            "Epoch 5/5\n",
            "237/237 [==============================] - 28s 117ms/step - loss: 1.6064 - accuracy: 0.6025 - val_loss: 1.7156 - val_accuracy: 0.5504\n"
          ]
        }
      ]
    },
    {
      "cell_type": "code",
      "source": [
        "model.evaluate(test_data)"
      ],
      "metadata": {
        "colab": {
          "base_uri": "https://localhost:8080/"
        },
        "id": "IISOk3xbOVLr",
        "outputId": "01fa836c-c0be-44f6-e126-70a464e86a98"
      },
      "execution_count": null,
      "outputs": [
        {
          "output_type": "stream",
          "name": "stdout",
          "text": [
            "790/790 [==============================] - 40s 50ms/step - loss: 1.7328 - accuracy: 0.5480\n"
          ]
        },
        {
          "output_type": "execute_result",
          "data": {
            "text/plain": [
              "[1.7327840328216553, 0.5479999780654907]"
            ]
          },
          "metadata": {},
          "execution_count": 11
        }
      ]
    },
    {
      "cell_type": "markdown",
      "source": [
        "### Train model for next five epochs\n",
        "\n",
        "Model weights are loaded for formalities"
      ],
      "metadata": {
        "id": "0alQM1s0Tw9A"
      }
    },
    {
      "cell_type": "code",
      "source": [
        "model.load_weights(\"101_classes_10_percent_data_model_checkpoint\")"
      ],
      "metadata": {
        "colab": {
          "base_uri": "https://localhost:8080/"
        },
        "id": "KhVf1ivuRMg1",
        "outputId": "a211cffe-f12e-4391-f267-dd7c8bf21657"
      },
      "execution_count": null,
      "outputs": [
        {
          "output_type": "execute_result",
          "data": {
            "text/plain": [
              "<tensorflow.python.training.tracking.util.CheckpointLoadStatus at 0x7f4ca8de6950>"
            ]
          },
          "metadata": {},
          "execution_count": 19
        }
      ]
    },
    {
      "cell_type": "code",
      "source": [
        "history_featex_next_5 = model.fit(train_data,\n",
        "                                  epochs=10,\n",
        "                                  validation_data=test_data,\n",
        "                                  validation_steps=int(0.25*len(test_data)),\n",
        "                                  initial_epoch=history_common.epoch[-1])"
      ],
      "metadata": {
        "colab": {
          "base_uri": "https://localhost:8080/"
        },
        "id": "0ZkJlM4ERbRZ",
        "outputId": "d02fa19b-d17a-4f47-e627-460d7fc81424"
      },
      "execution_count": null,
      "outputs": [
        {
          "output_type": "stream",
          "name": "stdout",
          "text": [
            "Epoch 5/10\n",
            "237/237 [==============================] - 27s 111ms/step - loss: 1.4836 - accuracy: 0.6382 - val_loss: 1.6852 - val_accuracy: 0.5554\n",
            "Epoch 6/10\n",
            "237/237 [==============================] - 26s 110ms/step - loss: 1.3716 - accuracy: 0.6632 - val_loss: 1.6613 - val_accuracy: 0.5530\n",
            "Epoch 7/10\n",
            "237/237 [==============================] - 26s 108ms/step - loss: 1.2909 - accuracy: 0.6764 - val_loss: 1.6465 - val_accuracy: 0.5635\n",
            "Epoch 8/10\n",
            "237/237 [==============================] - 26s 108ms/step - loss: 1.2159 - accuracy: 0.6970 - val_loss: 1.6457 - val_accuracy: 0.5606\n",
            "Epoch 9/10\n",
            "237/237 [==============================] - 26s 107ms/step - loss: 1.1498 - accuracy: 0.7114 - val_loss: 1.6279 - val_accuracy: 0.5688\n",
            "Epoch 10/10\n",
            "237/237 [==============================] - 25s 106ms/step - loss: 1.0758 - accuracy: 0.7340 - val_loss: 1.6319 - val_accuracy: 0.5652\n"
          ]
        }
      ]
    },
    {
      "cell_type": "markdown",
      "source": [
        "### Evaluate Model"
      ],
      "metadata": {
        "id": "ODFsv7DTT3et"
      }
    },
    {
      "cell_type": "code",
      "source": [
        "compare_historys(history_common, \n",
        "                 history_featex_next_5,\n",
        "                 initial_epochs=5)"
      ],
      "metadata": {
        "colab": {
          "base_uri": "https://localhost:8080/",
          "height": 513
        },
        "id": "fT9JIMpISB3q",
        "outputId": "859596c9-b6f0-4558-be1a-222fd0afe77d"
      },
      "execution_count": null,
      "outputs": [
        {
          "output_type": "display_data",
          "data": {
            "text/plain": [
              "<Figure size 576x576 with 2 Axes>"
            ],
            "image/png": "[encoded data removed]"
          },
          "metadata": {
            "needs_background": "light"
          }
        }
      ]
    },
    {
      "cell_type": "code",
      "source": [
        "model.evaluate(test_data)"
      ],
      "metadata": {
        "colab": {
          "base_uri": "https://localhost:8080/"
        },
        "id": "gXk77aInSkF2",
        "outputId": "4930955b-2e9a-4139-a67c-616287581542"
      },
      "execution_count": null,
      "outputs": [
        {
          "output_type": "stream",
          "name": "stdout",
          "text": [
            "790/790 [==============================] - 39s 49ms/step - loss: 1.6984 - accuracy: 0.5566\n"
          ]
        },
        {
          "output_type": "execute_result",
          "data": {
            "text/plain": [
              "[1.698429822921753, 0.5566336512565613]"
            ]
          },
          "metadata": {},
          "execution_count": 18
        }
      ]
    },
    {
      "cell_type": "markdown",
      "source": [
        "We observe that after continuing training the model for another five epochs, accuracy kept improving only in the train data. Slight improvement is observed in the validation data and no noticeable change was perceived after the start of the fine tuning, because there was no fine tuning in this case. Next we will compare accuracies with fine tuning."
      ],
      "metadata": {
        "id": "lxm5upE6T-1L"
      }
    },
    {
      "cell_type": "markdown",
      "source": [
        "## Fine-tuned model \n",
        "\n",
        "Finetuning a model normally starts off a feature extractor.\n",
        "For fine tuning, we need to be able to change some weights from the pretrained base model, and therefore we need to access its layers and make them trainable. \n",
        "\n",
        "For ease, we first declare all base model's layers as trainable, then loop through the base model's layers until the last x number of layers we want to allow to be fine tuned to our dataset. Fine tuning should improve model overfitting that was experienced after 10 epochs from our trained feature extractor model.\n",
        "\n",
        "Now we make the last 30 layers from the base model as trainable"
      ],
      "metadata": {
        "id": "ro0pY1UlVUL0"
      }
    },
    {
      "cell_type": "code",
      "source": [
        "base_model.trainable = False\n",
        "\n",
        "for layer in model.layers[2].layers[:30]:\n",
        "  layer.trainable = False\n"
      ],
      "metadata": {
        "id": "yX-nfh1rVzCr"
      },
      "execution_count": null,
      "outputs": []
    },
    {
      "cell_type": "code",
      "source": [
        "model.load_weights(\"101_classes_10_percent_data_model_checkpoint\")"
      ],
      "metadata": {
        "colab": {
          "base_uri": "https://localhost:8080/"
        },
        "id": "EH5Dgc_uW14T",
        "outputId": "7a12c810-b940-45af-90f3-c928378d4e2c"
      },
      "execution_count": null,
      "outputs": [
        {
          "output_type": "execute_result",
          "data": {
            "text/plain": [
              "<tensorflow.python.training.tracking.util.CheckpointLoadStatus at 0x7f4bb33b4ed0>"
            ]
          },
          "metadata": {},
          "execution_count": 23
        }
      ]
    },
    {
      "cell_type": "code",
      "source": [
        "model.compile(loss=\"categorical_crossentropy\",\n",
        "              optimizer=tf.keras.optimizers.Adam(0.0001),\n",
        "              metrics=[\"accuracy\"])"
      ],
      "metadata": {
        "id": "CuV-4qt9W9a2"
      },
      "execution_count": null,
      "outputs": []
    },
    {
      "cell_type": "code",
      "source": [
        "history_finetuned_next5 = model.fit(train_data,\n",
        "                                    epochs=10,\n",
        "                                    validation_data=test_data,\n",
        "                                    validation_steps=int(0.25*len(test_data)),\n",
        "                                    initial_epoch=history_common.epoch[-1])"
      ],
      "metadata": {
        "colab": {
          "base_uri": "https://localhost:8080/"
        },
        "id": "ILhMv4htXacM",
        "outputId": "60da2f5e-11ec-4865-a773-bf2fdbdf84db"
      },
      "execution_count": null,
      "outputs": [
        {
          "output_type": "stream",
          "name": "stdout",
          "text": [
            "Epoch 5/10\n",
            "237/237 [==============================] - 33s 111ms/step - loss: 1.4293 - accuracy: 0.6570 - val_loss: 1.6798 - val_accuracy: 0.5562\n",
            "Epoch 6/10\n",
            "237/237 [==============================] - 25s 105ms/step - loss: 1.4136 - accuracy: 0.6677 - val_loss: 1.6676 - val_accuracy: 0.5608\n",
            "Epoch 7/10\n",
            "237/237 [==============================] - 25s 103ms/step - loss: 1.4117 - accuracy: 0.6640 - val_loss: 1.6615 - val_accuracy: 0.5609\n",
            "Epoch 8/10\n",
            "237/237 [==============================] - 25s 103ms/step - loss: 1.3924 - accuracy: 0.6730 - val_loss: 1.6571 - val_accuracy: 0.5619\n",
            "Epoch 9/10\n",
            "237/237 [==============================] - 24s 101ms/step - loss: 1.3777 - accuracy: 0.6700 - val_loss: 1.6543 - val_accuracy: 0.5641\n",
            "Epoch 10/10\n",
            "237/237 [==============================] - 24s 102ms/step - loss: 1.3598 - accuracy: 0.6751 - val_loss: 1.6521 - val_accuracy: 0.5642\n"
          ]
        }
      ]
    },
    {
      "cell_type": "code",
      "source": [
        "model.evaluate(test_data)"
      ],
      "metadata": {
        "colab": {
          "base_uri": "https://localhost:8080/"
        },
        "id": "w24ZjGC1Xy23",
        "outputId": "a0596266-df52-4961-c179-34bcc193a1f6"
      },
      "execution_count": null,
      "outputs": [
        {
          "output_type": "stream",
          "name": "stdout",
          "text": [
            "790/790 [==============================] - 41s 51ms/step - loss: 1.6692 - accuracy: 0.5647\n"
          ]
        },
        {
          "output_type": "execute_result",
          "data": {
            "text/plain": [
              "[1.6692438125610352, 0.5646732449531555]"
            ]
          },
          "metadata": {},
          "execution_count": 27
        }
      ]
    },
    {
      "cell_type": "code",
      "source": [
        "compare_historys(history_common,\n",
        "                 history_finetuned_next5,\n",
        "                 initial_epochs=5)"
      ],
      "metadata": {
        "colab": {
          "base_uri": "https://localhost:8080/",
          "height": 513
        },
        "id": "Bo0xXnKlYtal",
        "outputId": "843201bc-c570-4089-d607-fc84952e3585"
      },
      "execution_count": null,
      "outputs": [
        {
          "output_type": "display_data",
          "data": {
            "text/plain": [
              "<Figure size 576x576 with 2 Axes>"
            ],
            "image/png": "[encoded data removed]"
          },
          "metadata": {
            "needs_background": "light"
          }
        }
      ]
    },
    {
      "cell_type": "markdown",
      "source": [
        "comparing both results, one can notice that fine-tuning did improve accuracy and loss, there is still overfitting observed. However, when the feature extractor continued, the improvement in accuracy was only observed in the training set. With the fine tuning model, accuracy and losses reached were lower, but more consistent between training and validation dataset than the continued feature extractor.\n",
        "\n",
        "When we include more data, we will have lesser issues with overfitting. since now we are using 10% of a dataset meant for 101 categories."
      ],
      "metadata": {
        "id": "HGw6QoBnY_TI"
      }
    },
    {
      "cell_type": "markdown",
      "source": [
        "## Evaluate model training speed with mixed precision"
      ],
      "metadata": {
        "id": "4J82Dj_Lbzor"
      }
    },
    {
      "cell_type": "code",
      "source": [
        "from tensorflow.keras import mixed_precision\n",
        "\n",
        "# Set up mixed precision policy\n",
        "policy = mixed_precision.Policy(\"float32\")\n",
        "mixed_precision.set_global_policy(policy)\n"
      ],
      "metadata": {
        "id": "VN_We5VSc1eg"
      },
      "execution_count": null,
      "outputs": []
    },
    {
      "cell_type": "code",
      "source": [
        "base_model.trainable = False"
      ],
      "metadata": {
        "id": "QpHy-cPqdGk4"
      },
      "execution_count": null,
      "outputs": []
    },
    {
      "cell_type": "code",
      "source": [
        "model.load_weights(\"101_classes_10_percent_data_model_checkpoint\")"
      ],
      "metadata": {
        "colab": {
          "base_uri": "https://localhost:8080/"
        },
        "id": "1j14_gUdeSzO",
        "outputId": "66d67b55-3f2a-4378-d6f9-e8030789dd5a"
      },
      "execution_count": null,
      "outputs": [
        {
          "output_type": "execute_result",
          "data": {
            "text/plain": [
              "<tensorflow.python.training.tracking.util.CheckpointLoadStatus at 0x7f4c9411b110>"
            ]
          },
          "metadata": {},
          "execution_count": 39
        }
      ]
    },
    {
      "cell_type": "code",
      "source": [
        "model.compile(loss=\"categorical_crossentropy\",\n",
        "              optimizer=tf.keras.optimizers.Adam(),\n",
        "              metrics=[\"accuracy\"])"
      ],
      "metadata": {
        "id": "UH29mK5oeYI6"
      },
      "execution_count": null,
      "outputs": []
    },
    {
      "cell_type": "code",
      "source": [
        "history_mixed_precision = model.fit(train_data,\n",
        "                                    epochs=10,\n",
        "                                    validation_data=test_data,\n",
        "                                    validation_steps=int(0.25*len(test_data)),\n",
        "                                    initial_epoch=history_common.epoch[-1])"
      ],
      "metadata": {
        "colab": {
          "base_uri": "https://localhost:8080/"
        },
        "id": "-QQym6JSepZU",
        "outputId": "8f6283ea-ec79-4c82-d30a-f7f28e535d1b"
      },
      "execution_count": null,
      "outputs": [
        {
          "output_type": "stream",
          "name": "stdout",
          "text": [
            "Epoch 5/10\n",
            "237/237 [==============================] - 31s 103ms/step - loss: 1.4979 - accuracy: 0.6304 - val_loss: 1.6859 - val_accuracy: 0.5527\n",
            "Epoch 6/10\n",
            "237/237 [==============================] - 23s 96ms/step - loss: 1.3841 - accuracy: 0.6533 - val_loss: 1.6635 - val_accuracy: 0.5566\n",
            "Epoch 7/10\n",
            "237/237 [==============================] - 23s 96ms/step - loss: 1.3003 - accuracy: 0.6716 - val_loss: 1.6469 - val_accuracy: 0.5622\n",
            "Epoch 8/10\n",
            "237/237 [==============================] - 23s 97ms/step - loss: 1.1986 - accuracy: 0.7026 - val_loss: 1.6405 - val_accuracy: 0.5660\n",
            "Epoch 9/10\n",
            "237/237 [==============================] - 23s 97ms/step - loss: 1.1524 - accuracy: 0.7143 - val_loss: 1.6156 - val_accuracy: 0.5707\n",
            "Epoch 10/10\n",
            "237/237 [==============================] - 23s 96ms/step - loss: 1.0619 - accuracy: 0.7415 - val_loss: 1.6308 - val_accuracy: 0.5660\n"
          ]
        }
      ]
    },
    {
      "cell_type": "code",
      "source": [
        "mixed_precision_next = model.fit(train_data,\n",
        "                                    epochs=20,\n",
        "                                    validation_data=test_data,\n",
        "                                    validation_steps=int(0.25*len(test_data)),\n",
        "                                    initial_epoch=history_mixed_precision.epoch[-1])"
      ],
      "metadata": {
        "colab": {
          "base_uri": "https://localhost:8080/"
        },
        "id": "F8iikHEoe6JL",
        "outputId": "63a9add3-2644-43b3-93b3-e045f8226c93"
      },
      "execution_count": null,
      "outputs": [
        {
          "output_type": "stream",
          "name": "stdout",
          "text": [
            "Epoch 10/20\n",
            "237/237 [==============================] - 23s 95ms/step - loss: 1.0218 - accuracy: 0.7459 - val_loss: 1.6486 - val_accuracy: 0.5627\n",
            "Epoch 11/20\n",
            "237/237 [==============================] - 23s 97ms/step - loss: 0.9726 - accuracy: 0.7585 - val_loss: 1.6452 - val_accuracy: 0.5654\n",
            "Epoch 12/20\n",
            "237/237 [==============================] - 23s 95ms/step - loss: 0.9336 - accuracy: 0.7679 - val_loss: 1.6433 - val_accuracy: 0.5650\n",
            "Epoch 13/20\n",
            "237/237 [==============================] - 23s 97ms/step - loss: 0.8785 - accuracy: 0.7831 - val_loss: 1.6270 - val_accuracy: 0.5714\n",
            "Epoch 14/20\n",
            "237/237 [==============================] - 23s 96ms/step - loss: 0.8460 - accuracy: 0.7888 - val_loss: 1.6280 - val_accuracy: 0.5712\n",
            "Epoch 15/20\n",
            "237/237 [==============================] - 23s 96ms/step - loss: 0.8121 - accuracy: 0.8046 - val_loss: 1.6234 - val_accuracy: 0.5712\n",
            "Epoch 16/20\n",
            "237/237 [==============================] - 23s 95ms/step - loss: 0.7839 - accuracy: 0.8100 - val_loss: 1.6515 - val_accuracy: 0.5668\n",
            "Epoch 17/20\n",
            "237/237 [==============================] - 23s 96ms/step - loss: 0.7552 - accuracy: 0.8202 - val_loss: 1.6504 - val_accuracy: 0.5677\n",
            "Epoch 18/20\n",
            "237/237 [==============================] - 23s 96ms/step - loss: 0.7214 - accuracy: 0.8308 - val_loss: 1.6593 - val_accuracy: 0.5631\n",
            "Epoch 19/20\n",
            "237/237 [==============================] - 23s 95ms/step - loss: 0.6967 - accuracy: 0.8345 - val_loss: 1.6596 - val_accuracy: 0.5673\n",
            "Epoch 20/20\n",
            "237/237 [==============================] - 23s 95ms/step - loss: 0.6567 - accuracy: 0.8446 - val_loss: 1.6583 - val_accuracy: 0.5625\n"
          ]
        }
      ]
    },
    {
      "cell_type": "code",
      "source": [],
      "metadata": {
        "id": "OU2tdNcHfvi9"
      },
      "execution_count": null,
      "outputs": []
    }
  ]
}
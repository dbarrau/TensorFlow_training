{
  "nbformat": 4,
  "nbformat_minor": 0,
  "metadata": {
    "colab": {
      "provenance": [],
      "authorship_tag": "ABX9TyP6Sp0dElovgNiAauwdBFxt",
      "include_colab_link": true
    },
    "kernelspec": {
      "name": "python3",
      "display_name": "Python 3"
    },
    "language_info": {
      "name": "python"
    },
    "accelerator": "GPU",
    "gpuClass": "standard"
  },
  "cells": [
    {
      "cell_type": "markdown",
      "metadata": {
        "id": "view-in-github",
        "colab_type": "text"
      },
      "source": [
        "<a href=\"https://colab.research.google.com/github/dbarrau/TensorFlow_training/blob/main/04_transfer_learning_in_tensorflow_part_1_feature_extraction.ipynb\" target=\"_parent\"><img src=\"https://colab.research.google.com/assets/colab-badge.svg\" alt=\"Open In Colab\"/></a>"
      ]
    },
    {
      "cell_type": "markdown",
      "source": [
        "# Transfer learning with TensorFlow P. 1: Feature Extraction\n",
        "\n",
        "Transfer learning is leveraging a working model's existing architecture and learned patterns for our own problem.\n",
        "\n",
        "There are two main benefits:\n",
        "1. Can leverage an existing neural network architecture proven to work on problems similar to ours.\n",
        "2. Can leverage a working neural network architecture which has already learned patterns on similar data to our own, then we can adapt those patterns to our own data."
      ],
      "metadata": {
        "id": "oPz4pkvGGk91"
      }
    },
    {
      "cell_type": "code",
      "source": [
        "# Are we using a gpu?\n",
        "!nvidia-smi"
      ],
      "metadata": {
        "colab": {
          "base_uri": "https://localhost:8080/"
        },
        "id": "ZLAEuLszHVaA",
        "outputId": "816bf73b-44e3-44b7-f890-89099c1b9c7a"
      },
      "execution_count": null,
      "outputs": [
        {
          "output_type": "stream",
          "name": "stdout",
          "text": [
            "Thu Jul  7 17:11:38 2022       \n",
            "+-----------------------------------------------------------------------------+\n",
            "| NVIDIA-SMI 460.32.03    Driver Version: 460.32.03    CUDA Version: 11.2     |\n",
            "|-------------------------------+----------------------+----------------------+\n",
            "| GPU  Name        Persistence-M| Bus-Id        Disp.A | Volatile Uncorr. ECC |\n",
            "| Fan  Temp  Perf  Pwr:Usage/Cap|         Memory-Usage | GPU-Util  Compute M. |\n",
            "|                               |                      |               MIG M. |\n",
            "|===============================+======================+======================|\n",
            "|   0  Tesla T4            Off  | 00000000:00:04.0 Off |                    0 |\n",
            "| N/A   52C    P8    10W /  70W |      0MiB / 15109MiB |      0%      Default |\n",
            "|                               |                      |                  N/A |\n",
            "+-------------------------------+----------------------+----------------------+\n",
            "                                                                               \n",
            "+-----------------------------------------------------------------------------+\n",
            "| Processes:                                                                  |\n",
            "|  GPU   GI   CI        PID   Type   Process name                  GPU Memory |\n",
            "|        ID   ID                                                   Usage      |\n",
            "|=============================================================================|\n",
            "|  No running processes found                                                 |\n",
            "+-----------------------------------------------------------------------------+\n"
          ]
        }
      ]
    },
    {
      "cell_type": "markdown",
      "source": [
        "## Download and become one with the data\n",
        "\n"
      ],
      "metadata": {
        "id": "AulOfk0_HJYV"
      }
    },
    {
      "cell_type": "code",
      "source": [
        "# Get data (10% of food classes from Food101)\n",
        "import zipfile\n",
        "\n",
        "# download data\n",
        "!wget https://storage.googleapis.com/ztm_tf_course/food_vision/10_food_classes_10_percent.zip\n",
        "\n",
        "# Unzip the downloaded file\n",
        "zip_ref =zipfile.ZipFile(\"10_food_classes_10_percent.zip\")\n",
        "zip_ref.extractall()\n",
        "zip_ref.close()\n"
      ],
      "metadata": {
        "colab": {
          "base_uri": "https://localhost:8080/"
        },
        "id": "b-z9gH9eHi48",
        "outputId": "3e3152e0-5972-47f9-9fd9-7bb8beece7ad"
      },
      "execution_count": null,
      "outputs": [
        {
          "output_type": "stream",
          "name": "stdout",
          "text": [
            "--2022-07-07 17:11:38--  https://storage.googleapis.com/ztm_tf_course/food_vision/10_food_classes_10_percent.zip\n",
            "Resolving storage.googleapis.com (storage.googleapis.com)... 142.250.4.128, 74.125.200.128, 74.125.68.128, ...\n",
            "Connecting to storage.googleapis.com (storage.googleapis.com)|142.250.4.128|:443... connected.\n",
            "HTTP request sent, awaiting response... 200 OK\n",
            "Length: 168546183 (161M) [application/zip]\n",
            "Saving to: ‘10_food_classes_10_percent.zip’\n",
            "\n",
            "10_food_classes_10_ 100%[===================>] 160.74M  46.1MB/s    in 3.5s    \n",
            "\n",
            "2022-07-07 17:11:42 (46.1 MB/s) - ‘10_food_classes_10_percent.zip’ saved [168546183/168546183]\n",
            "\n"
          ]
        }
      ]
    },
    {
      "cell_type": "code",
      "source": [
        "# How many images in each folder?\n",
        "import os\n",
        "\n",
        "# Walk through 10 percent data directory and list number of files\n",
        "\n",
        "for dirpath, dirnames, filenames in os.walk(\"10_food_classes_10_percent\"):\n",
        "  print(f\"There are {len(dirnames)} directories and {len(filenames)} images in '{dirpath}'\")"
      ],
      "metadata": {
        "colab": {
          "base_uri": "https://localhost:8080/"
        },
        "id": "10hzhUTcH7WW",
        "outputId": "b0a19247-7101-4113-db15-bb5a9c613861"
      },
      "execution_count": null,
      "outputs": [
        {
          "output_type": "stream",
          "name": "stdout",
          "text": [
            "There are 2 directories and 0 images in '10_food_classes_10_percent'\n",
            "There are 10 directories and 0 images in '10_food_classes_10_percent/test'\n",
            "There are 0 directories and 250 images in '10_food_classes_10_percent/test/grilled_salmon'\n",
            "There are 0 directories and 250 images in '10_food_classes_10_percent/test/ice_cream'\n",
            "There are 0 directories and 250 images in '10_food_classes_10_percent/test/fried_rice'\n",
            "There are 0 directories and 250 images in '10_food_classes_10_percent/test/chicken_curry'\n",
            "There are 0 directories and 250 images in '10_food_classes_10_percent/test/hamburger'\n",
            "There are 0 directories and 250 images in '10_food_classes_10_percent/test/pizza'\n",
            "There are 0 directories and 250 images in '10_food_classes_10_percent/test/ramen'\n",
            "There are 0 directories and 250 images in '10_food_classes_10_percent/test/chicken_wings'\n",
            "There are 0 directories and 250 images in '10_food_classes_10_percent/test/sushi'\n",
            "There are 0 directories and 250 images in '10_food_classes_10_percent/test/steak'\n",
            "There are 10 directories and 0 images in '10_food_classes_10_percent/train'\n",
            "There are 0 directories and 75 images in '10_food_classes_10_percent/train/grilled_salmon'\n",
            "There are 0 directories and 75 images in '10_food_classes_10_percent/train/ice_cream'\n",
            "There are 0 directories and 75 images in '10_food_classes_10_percent/train/fried_rice'\n",
            "There are 0 directories and 75 images in '10_food_classes_10_percent/train/chicken_curry'\n",
            "There are 0 directories and 75 images in '10_food_classes_10_percent/train/hamburger'\n",
            "There are 0 directories and 75 images in '10_food_classes_10_percent/train/pizza'\n",
            "There are 0 directories and 75 images in '10_food_classes_10_percent/train/ramen'\n",
            "There are 0 directories and 75 images in '10_food_classes_10_percent/train/chicken_wings'\n",
            "There are 0 directories and 75 images in '10_food_classes_10_percent/train/sushi'\n",
            "There are 0 directories and 75 images in '10_food_classes_10_percent/train/steak'\n"
          ]
        }
      ]
    },
    {
      "cell_type": "markdown",
      "source": [
        "## Creating data loaders (preparing the data)\n",
        "\n",
        "We'll use `ImageDataGenerator` class to load in our images in batches."
      ],
      "metadata": {
        "id": "u_AbcFwzIakb"
      }
    },
    {
      "cell_type": "code",
      "source": [
        "# setup data inputs\n",
        "from tensorflow.keras.preprocessing.image import ImageDataGenerator\n",
        "\n",
        "IMG_SHAPE = (224,224)\n",
        "BATCH_SIZE = 32\n",
        "\n",
        "train_dir = \"10_food_classes_10_percent/train/\"\n",
        "test_dir = \"10_food_classes_10_percent/test/\"\n",
        "\n",
        "train_datagen = ImageDataGenerator(rescale=1/255.)\n",
        "test_datagen = ImageDataGenerator(rescale=1/255.)\n",
        "\n",
        "print(\"Training Images:\")\n",
        "train_data_10_percent = train_datagen.flow_from_directory(train_dir,\n",
        "                                                          target_size=IMG_SHAPE,\n",
        "                                                          batch_size=BATCH_SIZE,\n",
        "                                                          class_mode=\"categorical\")\n",
        "\n",
        "print(\"Testing images:\")\n",
        "test_data = test_datagen.flow_from_directory(test_dir,\n",
        "                                                        target_size=IMG_SHAPE,\n",
        "                                                        batch_size=BATCH_SIZE)"
      ],
      "metadata": {
        "colab": {
          "base_uri": "https://localhost:8080/"
        },
        "id": "Qsa9qZjyIwDt",
        "outputId": "a4b1a148-08b1-400b-c0f8-52e129e251b7"
      },
      "execution_count": null,
      "outputs": [
        {
          "output_type": "stream",
          "name": "stdout",
          "text": [
            "Training Images:\n",
            "Found 750 images belonging to 10 classes.\n",
            "Testing images:\n",
            "Found 2500 images belonging to 10 classes.\n"
          ]
        }
      ]
    },
    {
      "cell_type": "markdown",
      "source": [
        "## Setting up callbacks (functions to run while our mode trains)\n",
        "\n",
        "Callbacks are extra functionality we can add to our models to be performed during or after training. Some of the most popular callbacks:\n",
        "* Tracking experiments with the TensorBoard callback\n",
        "* Model checkpoint with the ModelCheckpoint callback\n",
        "* Stopping a model from training (before it trains too long and overfits) with the EarlyStopping callback."
      ],
      "metadata": {
        "id": "nkTOZditJ0MN"
      }
    },
    {
      "cell_type": "code",
      "source": [
        "# Create TensorBoard callback (Functionized because we need to create a new one for each model)\n",
        "import datetime\n",
        "\n",
        "\n",
        "def create_tensorboard_callback(dir_name, experiment_name):\n",
        "  log_dir = dir_name + \"/\" + experiment_name + \"/\" + datetime.datetime.now().strftime(\"%Y%m%d-%H%M%S\")\n",
        "  tensorboard_callback = tf.keras.callbacks.TensorBoard(log_dir=log_dir)\n",
        "  print(f\"Saving TensorBoard log files to: {log_dir}\")\n",
        "  return tensorboard_callback"
      ],
      "metadata": {
        "id": "DKv14rfAKQB7"
      },
      "execution_count": null,
      "outputs": []
    },
    {
      "cell_type": "markdown",
      "source": [
        "## Creating models using TensorFlow Hubs\n",
        "\n",
        "In the past we've used TensorFlow to create our own models layer by layer from scratch.\n",
        "\n",
        "Now we're going to do a similar process, except the majority of our model's layers are going to come from TensorFlow Hub.\n",
        "\n",
        "We can access pretrained models on: https://tfhub.dev/\n",
        "\n",
        "Browsing the TensorFlow Hub page and sorting for image classification, we found the following feature vector model link:\n",
        "https://tfhub.dev/tensorflow/efficientnet/b0/feature-vector/1"
      ],
      "metadata": {
        "id": "KVsFmZ74NBJ4"
      }
    },
    {
      "cell_type": "code",
      "source": [
        "\n",
        "# Let's compare the following two models:\n",
        "\n",
        "resnet_url = \"https://tfhub.dev/google/imagenet/resnet_v2_50/feature_vector/4\"\n",
        "efficientnet_url = \"https://tfhub.dev/tensorflow/efficientnet/b0/feature-vector/1\""
      ],
      "metadata": {
        "id": "FtzlRp0yNExa"
      },
      "execution_count": null,
      "outputs": []
    },
    {
      "cell_type": "code",
      "source": [
        "# Import dependencies\n",
        "import tensorflow as tf\n",
        "import tensorflow_hub as hub\n",
        "from tensorflow.keras import layers\n",
        "import matplotlib.pyplot as plt"
      ],
      "metadata": {
        "id": "Mp-OrNIrTJlV"
      },
      "execution_count": null,
      "outputs": []
    },
    {
      "cell_type": "code",
      "source": [
        "# Let's make a create_model() function to create a model from a URL\n",
        "\n",
        "def create_model(model_url, num_classes=10):\n",
        "  \"\"\"\n",
        "  Takes a TensorFlow Hub URL and creates a Keras Sequential model with it\n",
        "\n",
        "  Args:\n",
        "    model_url (str): A TensorFlow Hub feature extraction URL.\n",
        "    num_classes (int): Number of output neurons in the output layer,\n",
        "    should be equal to the number of target classes, default 10.\n",
        "\n",
        "  Returns:\n",
        "    An uncompiled Keras Sequential model with model_url as feature extractor\n",
        "    layer and Dense output layer with num_classes output neurons.\n",
        "  \"\"\"\n",
        "\n",
        "  # Download pretrained model and save it as a keras layer\n",
        "  feature_extractor_layer = hub.KerasLayer(model_url,\n",
        "                                           trainable=False, # freeze the already learned patterns\n",
        "                                           name=\"feature_extraction_layer\",\n",
        "                                           input_shape=IMG_SHAPE +(3,))\n",
        "  \n",
        "  # Create our own model\n",
        "  model = tf.keras.Sequential([\n",
        "    feature_extractor_layer,\n",
        "    layers.Dense(num_classes, activation=\"softmax\", name=\"output_layer\")\n",
        "  ])\n",
        "\n",
        "  return model"
      ],
      "metadata": {
        "id": "xI0mHqiDTu7Z"
      },
      "execution_count": null,
      "outputs": []
    },
    {
      "cell_type": "markdown",
      "source": [
        "### Creating ResNet TensorFlow Hub feature extraction model"
      ],
      "metadata": {
        "id": "2pU1-y07VXBm"
      }
    },
    {
      "cell_type": "code",
      "source": [
        "# Create resnet model\n",
        "resnet_model = create_model(resnet_url,\n",
        "                            num_classes=train_data_10_percent.num_classes)"
      ],
      "metadata": {
        "id": "Zv6chpGoVk4f"
      },
      "execution_count": null,
      "outputs": []
    },
    {
      "cell_type": "code",
      "source": [
        "resnet_model.summary()"
      ],
      "metadata": {
        "colab": {
          "base_uri": "https://localhost:8080/"
        },
        "id": "oiVXeZy5VwF_",
        "outputId": "ce0c8091-70fa-44aa-fbcc-4d2174b289f5"
      },
      "execution_count": null,
      "outputs": [
        {
          "output_type": "stream",
          "name": "stdout",
          "text": [
            "Model: \"sequential\"\n",
            "_________________________________________________________________\n",
            " Layer (type)                Output Shape              Param #   \n",
            "=================================================================\n",
            " feature_extraction_layer (K  (None, 2048)             23564800  \n",
            " erasLayer)                                                      \n",
            "                                                                 \n",
            " output_layer (Dense)        (None, 10)                20490     \n",
            "                                                                 \n",
            "=================================================================\n",
            "Total params: 23,585,290\n",
            "Trainable params: 20,490\n",
            "Non-trainable params: 23,564,800\n",
            "_________________________________________________________________\n"
          ]
        }
      ]
    },
    {
      "cell_type": "code",
      "source": [
        "# Compile our resnet model\n",
        "resnet_model.compile(loss=\"categorical_crossentropy\",\n",
        "                     optimizer=tf.keras.optimizers.Adam(),\n",
        "                     metrics=[\"accuracy\"])"
      ],
      "metadata": {
        "id": "Ebs2ung3WBiQ"
      },
      "execution_count": null,
      "outputs": []
    },
    {
      "cell_type": "code",
      "source": [
        "# Train model\n",
        "resnet_history = resnet_model.fit(train_data_10_percent,\n",
        "                 epochs=10,\n",
        "                 steps_per_epoch=len(train_data_10_percent),\n",
        "                 validation_steps=len(test_data),\n",
        "                 validation_data=test_data,\n",
        "                 callbacks=[create_tensorboard_callback(\"tf_hub\", \"resnet50V2\")])"
      ],
      "metadata": {
        "colab": {
          "base_uri": "https://localhost:8080/"
        },
        "id": "5H0ZSzfmWnl7",
        "outputId": "cf2b5483-ba32-4b71-ce12-e8def68be730"
      },
      "execution_count": null,
      "outputs": [
        {
          "output_type": "stream",
          "name": "stdout",
          "text": [
            "Saving TensorBoard log files to: tf_hub/resnet50V2/20220707-171159\n",
            "Epoch 1/10\n",
            "24/24 [==============================] - 32s 734ms/step - loss: 1.9994 - accuracy: 0.3293 - val_loss: 1.2501 - val_accuracy: 0.5856\n",
            "Epoch 2/10\n",
            "24/24 [==============================] - 15s 664ms/step - loss: 0.9353 - accuracy: 0.7307 - val_loss: 0.8758 - val_accuracy: 0.7184\n",
            "Epoch 3/10\n",
            "24/24 [==============================] - 16s 675ms/step - loss: 0.6359 - accuracy: 0.8307 - val_loss: 0.7707 - val_accuracy: 0.7456\n",
            "Epoch 4/10\n",
            "24/24 [==============================] - 15s 660ms/step - loss: 0.4831 - accuracy: 0.8653 - val_loss: 0.7143 - val_accuracy: 0.7612\n",
            "Epoch 5/10\n",
            "24/24 [==============================] - 15s 658ms/step - loss: 0.3888 - accuracy: 0.9107 - val_loss: 0.6773 - val_accuracy: 0.7736\n",
            "Epoch 6/10\n",
            "24/24 [==============================] - 15s 656ms/step - loss: 0.3118 - accuracy: 0.9453 - val_loss: 0.6736 - val_accuracy: 0.7736\n",
            "Epoch 7/10\n",
            "24/24 [==============================] - 20s 861ms/step - loss: 0.2669 - accuracy: 0.9533 - val_loss: 0.6450 - val_accuracy: 0.7860\n",
            "Epoch 8/10\n",
            "24/24 [==============================] - 15s 657ms/step - loss: 0.2231 - accuracy: 0.9640 - val_loss: 0.6408 - val_accuracy: 0.7884\n",
            "Epoch 9/10\n",
            "24/24 [==============================] - 15s 663ms/step - loss: 0.1883 - accuracy: 0.9787 - val_loss: 0.6413 - val_accuracy: 0.7856\n",
            "Epoch 10/10\n",
            "24/24 [==============================] - 15s 657ms/step - loss: 0.1660 - accuracy: 0.9787 - val_loss: 0.6329 - val_accuracy: 0.7884\n"
          ]
        }
      ]
    },
    {
      "cell_type": "markdown",
      "source": [
        "Wow!\n",
        "\n",
        "That. Is. incredible. Our transfer learning feature extractor model outperformed ALL of the previous models we built by hand... (substantially), in a quicker training time, AND with only 10% of the training examples."
      ],
      "metadata": {
        "id": "ZO35Z5wsW73k"
      }
    },
    {
      "cell_type": "code",
      "source": [
        "# Let's create our function  to plot our loss curves\n",
        "\n",
        "def plot_loss_curves(history):\n",
        "  \"\"\"\n",
        "  Returns separate loss curves for training and validation metrics\n",
        "\n",
        "  Args:\n",
        "    history ('keras.callbacks.History'): Tensorflow history object\n",
        "\n",
        "  Returns:\n",
        "    Plots of training/validation loss and accuracy metrics\n",
        "  \"\"\"\n",
        "\n",
        "  loss = history.history[\"loss\"]\n",
        "  val_loss = history.history[\"val_loss\"]\n",
        "  accuracy = history.history[\"accuracy\"]\n",
        "  val_accuracy = history.history[\"val_accuracy\"]\n",
        "\n",
        "  epochs = range(len(history.history[\"loss\"]))\n",
        "\n",
        "  # Plot loss\n",
        "  plt.figure()\n",
        "  plt.plot(epochs, loss, label=\"training_loss\");\n",
        "  plt.plot(epochs, val_loss, label=\"val_loss\");\n",
        "  plt.title(\"Loss\");\n",
        "  plt.xlabel(\"Epochs\");\n",
        "  plt.legend();\n",
        "\n",
        "  # Plot accuracy\n",
        "  plt.figure();\n",
        "  plt.plot(epochs, accuracy, label=\"training_accuracy\");\n",
        "  plt.plot(epochs, val_accuracy, label=\"val_accuracy\");\n",
        "  plt.title(\"Accuracy\");\n",
        "  plt.legend()"
      ],
      "metadata": {
        "id": "QxUFymEflWim"
      },
      "execution_count": null,
      "outputs": []
    },
    {
      "cell_type": "code",
      "source": [
        "plot_loss_curves(resnet_history)"
      ],
      "metadata": {
        "colab": {
          "base_uri": "https://localhost:8080/",
          "height": 559
        },
        "id": "_g9-6UfEl0Co",
        "outputId": "f03f8ba2-0c46-4884-f66e-47e089f38b76"
      },
      "execution_count": null,
      "outputs": [
        {
          "output_type": "display_data",
          "data": {
            "text/plain": [
              "<Figure size 432x288 with 1 Axes>"
            ],
            "image/png": "[encoded data removed]"
          },
          "metadata": {
            "needs_background": "light"
          }
        },
        {
          "output_type": "display_data",
          "data": {
            "text/plain": [
              "<Figure size 432x288 with 1 Axes>"
            ],
            "image/png": "[encoded data removed]"
          },
          "metadata": {
            "needs_background": "light"
          }
        }
      ]
    },
    {
      "cell_type": "markdown",
      "source": [
        "### Creating EfficientNetB0 TensorFlow Hub feature extraction model\n",
        "\n",
        "Info on Efficient net B0: https://ai.googleblog.com/2019/05/efficientnet-improving-accuracy-and.html\n"
      ],
      "metadata": {
        "id": "m1nKPsdIp10l"
      }
    },
    {
      "cell_type": "code",
      "source": [
        "# Create model\n",
        "efficientnet_b0 = create_model(efficientnet_url,\n",
        "                               num_classes=train_data_10_percent.num_classes)"
      ],
      "metadata": {
        "id": "ln-UlSMsnOca"
      },
      "execution_count": null,
      "outputs": []
    },
    {
      "cell_type": "code",
      "source": [
        "efficientnet_b0.summary()"
      ],
      "metadata": {
        "colab": {
          "base_uri": "https://localhost:8080/"
        },
        "id": "ZX4hoUmcqjyD",
        "outputId": "dbfbe918-e583-4cf7-a03b-a500bdf2d102"
      },
      "execution_count": null,
      "outputs": [
        {
          "output_type": "stream",
          "name": "stdout",
          "text": [
            "Model: \"sequential_2\"\n",
            "_________________________________________________________________\n",
            " Layer (type)                Output Shape              Param #   \n",
            "=================================================================\n",
            " feature_extraction_layer (K  (None, 1280)             4049564   \n",
            " erasLayer)                                                      \n",
            "                                                                 \n",
            " output_layer (Dense)        (None, 10)                12810     \n",
            "                                                                 \n",
            "=================================================================\n",
            "Total params: 4,062,374\n",
            "Trainable params: 12,810\n",
            "Non-trainable params: 4,049,564\n",
            "_________________________________________________________________\n"
          ]
        }
      ]
    },
    {
      "cell_type": "code",
      "source": [
        "# How many layers does our efficientnet feature extractor have\n",
        "len(efficientnet_b0.layers[0].weights)"
      ],
      "metadata": {
        "colab": {
          "base_uri": "https://localhost:8080/"
        },
        "id": "1L0pxY8vw2yF",
        "outputId": "e6100a28-5e4c-47e0-d75f-762b5610b843"
      },
      "execution_count": null,
      "outputs": [
        {
          "output_type": "execute_result",
          "data": {
            "text/plain": [
              "309"
            ]
          },
          "metadata": {},
          "execution_count": 32
        }
      ]
    },
    {
      "cell_type": "code",
      "source": [
        "# Compile model\n",
        "efficientnet_b0.compile(loss=\"categorical_crossentropy\",\n",
        "                        optimizer=tf.keras.optimizers.Adam(),\n",
        "                        metrics=[\"accuracy\"])"
      ],
      "metadata": {
        "id": "0-UFRmOMqtZH"
      },
      "execution_count": null,
      "outputs": []
    },
    {
      "cell_type": "code",
      "source": [
        "efficientnet_history = efficientnet_b0.fit(train_data_10_percent,\n",
        "                                           epochs=10,\n",
        "                                           steps_per_epoch=len(train_data_10_percent),\n",
        "                                           validation_data=test_data,\n",
        "                                           validation_steps=len(test_data),\n",
        "                                           callbacks=[create_tensorboard_callback(\"tf_hub\",\"efficient_net_b0\")]\n",
        "                                           )"
      ],
      "metadata": {
        "colab": {
          "base_uri": "https://localhost:8080/"
        },
        "id": "W8zv6ds0rFRF",
        "outputId": "0699e868-728a-46c7-ba51-698704130899"
      },
      "execution_count": null,
      "outputs": [
        {
          "output_type": "stream",
          "name": "stdout",
          "text": [
            "Saving TensorBoard log files to: tf_hub/efficient_net_b0/20220707-172443\n",
            "Epoch 1/10\n",
            "24/24 [==============================] - 25s 703ms/step - loss: 1.8293 - accuracy: 0.4413 - val_loss: 1.2819 - val_accuracy: 0.7460\n",
            "Epoch 2/10\n",
            "24/24 [==============================] - 15s 640ms/step - loss: 1.0480 - accuracy: 0.7787 - val_loss: 0.8512 - val_accuracy: 0.8248\n",
            "Epoch 3/10\n",
            "24/24 [==============================] - 15s 644ms/step - loss: 0.7444 - accuracy: 0.8387 - val_loss: 0.6842 - val_accuracy: 0.8484\n",
            "Epoch 4/10\n",
            "24/24 [==============================] - 15s 655ms/step - loss: 0.5971 - accuracy: 0.8720 - val_loss: 0.6027 - val_accuracy: 0.8580\n",
            "Epoch 5/10\n",
            "24/24 [==============================] - 15s 649ms/step - loss: 0.5015 - accuracy: 0.8947 - val_loss: 0.5491 - val_accuracy: 0.8628\n",
            "Epoch 6/10\n",
            "24/24 [==============================] - 15s 645ms/step - loss: 0.4352 - accuracy: 0.9093 - val_loss: 0.5130 - val_accuracy: 0.8668\n",
            "Epoch 7/10\n",
            "24/24 [==============================] - 15s 643ms/step - loss: 0.3847 - accuracy: 0.9187 - val_loss: 0.4876 - val_accuracy: 0.8716\n",
            "Epoch 8/10\n",
            "24/24 [==============================] - 15s 651ms/step - loss: 0.3431 - accuracy: 0.9333 - val_loss: 0.4678 - val_accuracy: 0.8736\n",
            "Epoch 9/10\n",
            "24/24 [==============================] - 16s 674ms/step - loss: 0.3069 - accuracy: 0.9493 - val_loss: 0.4515 - val_accuracy: 0.8748\n",
            "Epoch 10/10\n",
            "24/24 [==============================] - 15s 640ms/step - loss: 0.2778 - accuracy: 0.9587 - val_loss: 0.4401 - val_accuracy: 0.8752\n"
          ]
        }
      ]
    },
    {
      "cell_type": "code",
      "source": [
        "plot_loss_curves(efficientnet_history)"
      ],
      "metadata": {
        "colab": {
          "base_uri": "https://localhost:8080/",
          "height": 559
        },
        "id": "NOaFyBaBrfB0",
        "outputId": "a1e236c1-a5a0-4edc-b70c-765eb1ada888"
      },
      "execution_count": null,
      "outputs": [
        {
          "output_type": "display_data",
          "data": {
            "text/plain": [
              "<Figure size 432x288 with 1 Axes>"
            ],
            "image/png": "[encoded data removed]"
          },
          "metadata": {
            "needs_background": "light"
          }
        },
        {
          "output_type": "display_data",
          "data": {
            "text/plain": [
              "<Figure size 432x288 with 1 Axes>"
            ],
            "image/png": "[encoded data removed]"
          },
          "metadata": {
            "needs_background": "light"
          }
        }
      ]
    },
    {
      "cell_type": "markdown",
      "source": [
        "## Different types of transfer learning\n",
        "\n",
        "* **\"As is\" transfer learning -** using an existing model with no changes (e.g. using ImageNet model on 1000 ImageNet classes, none of our own).\n",
        "\n",
        "* **\"Feature extraction\" transfer learning -** Use prelearned patterns of an existing model (e.g EfficientNetB0 trained on image net) and adjust the output layer for our own problem (e.g. 1000 classes -> 10 classes of food).\n",
        "\n",
        "* **\"Fine-Tuning\" transfer learning -** use prelearned patterns of an existing model and \"fine-tune\" many or all of the underlying layers (including new output layers).\n",
        "\n",
        "---\n",
        "\n"
      ],
      "metadata": {
        "id": "RC_vHg8ktFyJ"
      }
    },
    {
      "cell_type": "markdown",
      "source": [
        "## Comparing our models results using TensorBoard\n",
        "\n",
        ">**Note -** When we upload things to TensorBoard.dev, our experiments are public. So if we're running private experiments (whatever we don't want others to see, do not upload them to tensorboard.dev)"
      ],
      "metadata": {
        "id": "NJGF9xGCwcw9"
      }
    },
    {
      "cell_type": "code",
      "source": [
        "# Upload TensorBoard dev records\n",
        "!tensorboard dev upload --logdir ./tf_hub/ \\\n",
        "  --name \"EfficientNetB0 vs. ResNet50V2\" \\\n",
        "  --description \"Comparing two different TF Hub feature extraction model architectures using 10% of the training data\" \\\n",
        "  --one_shot "
      ],
      "metadata": {
        "colab": {
          "base_uri": "https://localhost:8080/"
        },
        "id": "kkI-d_jc17T7",
        "outputId": "8f2d65f5-27e1-424b-e2e4-80226e1dcfaf"
      },
      "execution_count": null,
      "outputs": [
        {
          "output_type": "stream",
          "name": "stdout",
          "text": [
            "\n",
            "***** TensorBoard Uploader *****\n",
            "\n",
            "This will upload your TensorBoard logs to https://tensorboard.dev/ from\n",
            "the following directory:\n",
            "\n",
            "./tf_hub/\n",
            "\n",
            "This TensorBoard will be visible to everyone. Do not upload sensitive\n",
            "data.\n",
            "\n",
            "Your use of this service is subject to Google's Terms of Service\n",
            "<https://policies.google.com/terms> and Privacy Policy\n",
            "<https://policies.google.com/privacy>, and TensorBoard.dev's Terms of Service\n",
            "<https://tensorboard.dev/policy/terms/>.\n",
            "\n",
            "This notice will not be shown again while you are logged into the uploader.\n",
            "To log out, run `tensorboard dev auth revoke`.\n",
            "\n",
            "Continue? (yes/NO) yes\n",
            "\n",
            "Please visit this URL to authorize this application: https://accounts.google.com/o/oauth2/auth?response_type=code&client_id=373649185512-8v619h5kft38l4456nm2dj4ubeqsrvh6.apps.googleusercontent.com&redirect_uri=urn%3Aietf%3Awg%3Aoauth%3A2.0%3Aoob&scope=openid+https%3A%2F%2Fwww.googleapis.com%2Fauth%2Fuserinfo.email&state=IESBuT49vXX0BZS2X0wHHzAX0nBSVV&prompt=consent&access_type=offline\n",
            "Enter the authorization code: 4/1AdQt8qj2wGrmbi1xgbO0S9Nloe4UjPEFRfCt6M0R7sIQjXr2Vjwyn15ZPGM\n",
            "\n",
            "\n",
            "New experiment created. View your TensorBoard at: https://tensorboard.dev/experiment/EQqrj890ROyiec11Gyabsg/\n",
            "\n",
            "\u001b[1m[2022-07-07T18:11:10]\u001b[0m Started scanning logdir.\n",
            "\u001b[1m[2022-07-07T18:11:15]\u001b[0m Total uploaded: 120 scalars, 0 tensors, 2 binary objects (5.6 MB)\n",
            "\u001b[1m[2022-07-07T18:11:15]\u001b[0m Done scanning logdir.\n",
            "\n",
            "\n",
            "Done. View your TensorBoard at https://tensorboard.dev/experiment/EQqrj890ROyiec11Gyabsg/\n"
          ]
        }
      ]
    },
    {
      "cell_type": "markdown",
      "source": [
        "Our TensorBoard experiments are uploaded publically here https://tensorboard.dev/experiment/EQqrj890ROyiec11Gyabsg/\n",
        "\n",
        "If we want to check out which experiments we have on TensorBoard:"
      ],
      "metadata": {
        "id": "A95CDrxO2syi"
      }
    },
    {
      "cell_type": "code",
      "source": [
        "# Check out what TensorBoard experiments we have\n",
        "\n",
        "!tensorboard dev list"
      ],
      "metadata": {
        "colab": {
          "base_uri": "https://localhost:8080/"
        },
        "id": "8m5fzoZt3M8E",
        "outputId": "35f47c31-fd6f-4d41-d080-cd6300c5b51b"
      },
      "execution_count": null,
      "outputs": [
        {
          "output_type": "stream",
          "name": "stdout",
          "text": [
            "https://tensorboard.dev/experiment/EQqrj890ROyiec11Gyabsg/\n",
            "\tName                 EfficientNetB0 vs. ResNet50V2\n",
            "\tDescription          Comparing two different TF Hub feature extraction model architectures using 10% of the training data\n",
            "\tId                   EQqrj890ROyiec11Gyabsg\n",
            "\tCreated              2022-07-07 18:11:09 (5 minutes ago)\n",
            "\tUpdated              2022-07-07 18:11:15 (5 minutes ago)\n",
            "\tRuns                 4\n",
            "\tTags                 5\n",
            "\tScalars              120\n",
            "\tTensor bytes         0\n",
            "\tBinary object bytes  5921878\n",
            "Total: 1 experiment(s)\n"
          ]
        }
      ]
    },
    {
      "cell_type": "markdown",
      "source": [
        "If we want to delete an experiment:"
      ],
      "metadata": {
        "id": "z5s_9uFT4KuR"
      }
    },
    {
      "cell_type": "code",
      "source": [
        "# Delete an experiment\n",
        "# !tensorboard dev delete --experiment_id EQqrj890ROyiec11Gyabsg"
      ],
      "metadata": {
        "id": "JZ4Bt9Bi4tAG"
      },
      "execution_count": null,
      "outputs": []
    },
    {
      "cell_type": "code",
      "source": [
        "# Confirm deletion by re-checking what experients are left\n",
        "!tensorboard dev list"
      ],
      "metadata": {
        "colab": {
          "base_uri": "https://localhost:8080/"
        },
        "id": "D1cl_bMj4zoM",
        "outputId": "2e94706c-dcd5-49be-bea9-a5da56fbe169"
      },
      "execution_count": null,
      "outputs": [
        {
          "output_type": "stream",
          "name": "stdout",
          "text": [
            "https://tensorboard.dev/experiment/EQqrj890ROyiec11Gyabsg/\n",
            "\tName                 EfficientNetB0 vs. ResNet50V2\n",
            "\tDescription          Comparing two different TF Hub feature extraction model architectures using 10% of the training data\n",
            "\tId                   EQqrj890ROyiec11Gyabsg\n",
            "\tCreated              2022-07-07 18:11:09 (8 minutes ago)\n",
            "\tUpdated              2022-07-07 18:11:15 (8 minutes ago)\n",
            "\tRuns                 4\n",
            "\tTags                 5\n",
            "\tScalars              120\n",
            "\tTensor bytes         0\n",
            "\tBinary object bytes  5921878\n",
            "Total: 1 experiment(s)\n"
          ]
        }
      ]
    },
    {
      "cell_type": "code",
      "source": [],
      "metadata": {
        "id": "clvIFM7e47Ni"
      },
      "execution_count": null,
      "outputs": []
    }
  ]
}
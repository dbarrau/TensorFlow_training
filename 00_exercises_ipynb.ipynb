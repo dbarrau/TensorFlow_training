{
  "nbformat": 4,
  "nbformat_minor": 0,
  "metadata": {
    "colab": {
      "provenance": [],
      "collapsed_sections": [],
      "authorship_tag": "ABX9TyONktLSQ8iZolecAdVRx0Co",
      "include_colab_link": true
    },
    "kernelspec": {
      "name": "python3",
      "display_name": "Python 3"
    },
    "language_info": {
      "name": "python"
    },
    "accelerator": "GPU"
  },
  "cells": [
    {
      "cell_type": "markdown",
      "metadata": {
        "id": "view-in-github",
        "colab_type": "text"
      },
      "source": [
        "<a href=\"https://colab.research.google.com/github/dbarrau/TensorFlow_training/blob/main/00_exercises_ipynb.ipynb\" target=\"_parent\"><img src=\"https://colab.research.google.com/assets/colab-badge.svg\" alt=\"Open In Colab\"/></a>"
      ]
    },
    {
      "cell_type": "markdown",
      "source": [
        "# 00. TensorFlow Fundamentals Exercises"
      ],
      "metadata": {
        "id": "kY1dYZm9Z-jk"
      }
    },
    {
      "cell_type": "code",
      "execution_count": null,
      "metadata": {
        "colab": {
          "base_uri": "https://localhost:8080/"
        },
        "id": "9wOSLlQjY0Dd",
        "outputId": "af01a776-4dab-4541-d7d0-bf5cee2844ca"
      },
      "outputs": [
        {
          "output_type": "stream",
          "name": "stdout",
          "text": [
            "Fri Jun 10 17:43:07 2022       \n",
            "+-----------------------------------------------------------------------------+\n",
            "| NVIDIA-SMI 460.32.03    Driver Version: 460.32.03    CUDA Version: 11.2     |\n",
            "|-------------------------------+----------------------+----------------------+\n",
            "| GPU  Name        Persistence-M| Bus-Id        Disp.A | Volatile Uncorr. ECC |\n",
            "| Fan  Temp  Perf  Pwr:Usage/Cap|         Memory-Usage | GPU-Util  Compute M. |\n",
            "|                               |                      |               MIG M. |\n",
            "|===============================+======================+======================|\n",
            "|   0  Tesla T4            Off  | 00000000:00:04.0 Off |                    0 |\n",
            "| N/A   58C    P0    28W /  70W |    444MiB / 15109MiB |      0%      Default |\n",
            "|                               |                      |                  N/A |\n",
            "+-------------------------------+----------------------+----------------------+\n",
            "                                                                               \n",
            "+-----------------------------------------------------------------------------+\n",
            "| Processes:                                                                  |\n",
            "|  GPU   GI   CI        PID   Type   Process name                  GPU Memory |\n",
            "|        ID   ID                                                   Usage      |\n",
            "|=============================================================================|\n",
            "+-----------------------------------------------------------------------------+\n"
          ]
        }
      ],
      "source": [
        "import tensorflow as tf\n",
        "import numpy as np\n",
        "\n",
        "!nvidia-smi\n"
      ]
    },
    {
      "cell_type": "markdown",
      "source": [
        "### Create a vector, scalar, matrix and tensor with values of your choosing using `tf.constant()`.\n",
        "\n",
        "Find the shape, rank and size of the tensors you created.\n"
      ],
      "metadata": {
        "id": "RF5bor-aZ0EI"
      }
    },
    {
      "cell_type": "code",
      "source": [
        "# Create scalar\n",
        "\n",
        "s = tf.constant(1)\n",
        "\n",
        "# Compute rank, shape and size of s\n",
        "s.ndim,s.shape, tf.size(s)\n"
      ],
      "metadata": {
        "colab": {
          "base_uri": "https://localhost:8080/"
        },
        "id": "stJRdkTjZLpx",
        "outputId": "3b547dbe-f1f4-46b9-f120-3e9c4e864469"
      },
      "execution_count": null,
      "outputs": [
        {
          "output_type": "execute_result",
          "data": {
            "text/plain": [
              "(0, TensorShape([]), <tf.Tensor: shape=(), dtype=int32, numpy=1>)"
            ]
          },
          "metadata": {},
          "execution_count": 13
        }
      ]
    },
    {
      "cell_type": "code",
      "source": [
        "# Create vector\n",
        "\n",
        "v = tf.constant([1])\n",
        "\n",
        "# Compute rank, shape and size of v\n",
        "v.ndim, v.shape, tf.size(v)\n"
      ],
      "metadata": {
        "colab": {
          "base_uri": "https://localhost:8080/"
        },
        "id": "evslzXggY9h-",
        "outputId": "c27f5c57-a991-45b6-df5a-a582230655b3"
      },
      "execution_count": null,
      "outputs": [
        {
          "output_type": "execute_result",
          "data": {
            "text/plain": [
              "(1, TensorShape([1]), <tf.Tensor: shape=(), dtype=int32, numpy=1>)"
            ]
          },
          "metadata": {},
          "execution_count": 14
        }
      ]
    },
    {
      "cell_type": "code",
      "source": [
        "# Create matrix\n",
        "\n",
        "M = tf.constant([[2,4,6],\n",
        "                 [1,3,5],\n",
        "                 [8,10,12]])\n",
        "\n",
        "# Compute rank, shape and size of M\n",
        "M.ndim, M.shape, tf.size(M)"
      ],
      "metadata": {
        "colab": {
          "base_uri": "https://localhost:8080/"
        },
        "id": "oAKjwiu9ZawB",
        "outputId": "b2ddeaf0-7c04-4a63-9f0c-e53b7f7822e3"
      },
      "execution_count": null,
      "outputs": [
        {
          "output_type": "execute_result",
          "data": {
            "text/plain": [
              "(2, TensorShape([3, 3]), <tf.Tensor: shape=(), dtype=int32, numpy=9>)"
            ]
          },
          "metadata": {},
          "execution_count": 15
        }
      ]
    },
    {
      "cell_type": "code",
      "source": [
        "# Create tensor\n",
        "T = tf.constant([[[1,2,3],\n",
        "                  [4,5,6],\n",
        "                  [7,8,9]],\n",
        "                 [[10,11,12],\n",
        "                  [13,14,15],\n",
        "                  [1,2,3]]])\n",
        "\n",
        "# Compute rank, shape and size of M\n",
        "T.ndim, T.shape, tf.size(T)"
      ],
      "metadata": {
        "colab": {
          "base_uri": "https://localhost:8080/"
        },
        "id": "Dtvqlk6_ZuaY",
        "outputId": "b89bc2d2-ec91-46ef-af2d-5813eddc57b5"
      },
      "execution_count": null,
      "outputs": [
        {
          "output_type": "execute_result",
          "data": {
            "text/plain": [
              "(3, TensorShape([2, 3, 3]), <tf.Tensor: shape=(), dtype=int32, numpy=18>)"
            ]
          },
          "metadata": {},
          "execution_count": 17
        }
      ]
    },
    {
      "cell_type": "markdown",
      "source": [
        "### 3. Create two tensors containing random values between 0 and 1 with shape `[5, 300]`."
      ],
      "metadata": {
        "id": "HioUIq5tkFPw"
      }
    },
    {
      "cell_type": "code",
      "source": [
        "# Set global seed\n",
        "tf.random.set_seed(12)\n",
        "\n",
        "# Instantiate T1 tensor according to requirements, with operational seed\n",
        "T1 = tf.random.uniform([5,300], 0, 1, seed = 1)\n",
        "\n",
        "# Instantiate T2 tensor according to requirements, with oprational seed\n",
        "T2 = tf.random.uniform([5,300], 0, 1, seed = 2)"
      ],
      "metadata": {
        "id": "vuVKXC9SmHmO"
      },
      "execution_count": null,
      "outputs": []
    },
    {
      "cell_type": "markdown",
      "source": [
        "### 4. Multiply the two tensors using matrix multiplication"
      ],
      "metadata": {
        "id": "moXXe55tmxzU"
      }
    },
    {
      "cell_type": "code",
      "source": [
        "# matmul operation transposing T1\n",
        "tf.matmul(tf.transpose(T1),T2)"
      ],
      "metadata": {
        "colab": {
          "base_uri": "https://localhost:8080/"
        },
        "id": "960M3QbtmU5M",
        "outputId": "cc538647-9b07-406c-f2c2-5d4c82ad787b"
      },
      "execution_count": null,
      "outputs": [
        {
          "output_type": "execute_result",
          "data": {
            "text/plain": [
              "<tf.Tensor: shape=(300, 300), dtype=float32, numpy=\n",
              "array([[1.1818696 , 0.732297  , 1.6789985 , ..., 0.65916395, 1.2965248 ,\n",
              "        1.2094191 ],\n",
              "       [1.4673159 , 1.1271098 , 2.8603518 , ..., 1.1077428 , 1.7714152 ,\n",
              "        1.99566   ],\n",
              "       [1.4511633 , 0.96860707, 2.2182117 , ..., 1.1956693 , 1.8527243 ,\n",
              "        1.5258878 ],\n",
              "       ...,\n",
              "       [0.9333143 , 0.598365  , 1.4939263 , ..., 0.5114735 , 1.0597419 ,\n",
              "        1.0204374 ],\n",
              "       [1.2306621 , 0.7045996 , 1.6594949 , ..., 0.6687104 , 1.3610858 ,\n",
              "        1.1146669 ],\n",
              "       [1.1467376 , 0.88755995, 2.2075849 , ..., 1.0306494 , 1.4801182 ,\n",
              "        1.5130857 ]], dtype=float32)>"
            ]
          },
          "metadata": {},
          "execution_count": 22
        }
      ]
    },
    {
      "cell_type": "markdown",
      "source": [
        "### 5. Multiply the two tensors you created in 3 using dot product"
      ],
      "metadata": {
        "id": "PmYDmyownFcW"
      }
    },
    {
      "cell_type": "code",
      "source": [
        "# Matrix multiplication using tf.tensordot\n",
        "\n",
        "tf.tensordot(tf.transpose(T1),T2, axes = 1)"
      ],
      "metadata": {
        "colab": {
          "base_uri": "https://localhost:8080/"
        },
        "id": "MJ1IC9iknghn",
        "outputId": "8334b09e-7aba-4145-9d06-1a68239f5004"
      },
      "execution_count": null,
      "outputs": [
        {
          "output_type": "execute_result",
          "data": {
            "text/plain": [
              "<tf.Tensor: shape=(300, 300), dtype=float32, numpy=\n",
              "array([[1.1818696 , 0.732297  , 1.6789985 , ..., 0.65916395, 1.2965248 ,\n",
              "        1.2094191 ],\n",
              "       [1.4673159 , 1.1271098 , 2.8603518 , ..., 1.1077428 , 1.7714152 ,\n",
              "        1.99566   ],\n",
              "       [1.4511633 , 0.96860707, 2.2182117 , ..., 1.1956693 , 1.8527243 ,\n",
              "        1.5258878 ],\n",
              "       ...,\n",
              "       [0.9333143 , 0.598365  , 1.4939263 , ..., 0.5114735 , 1.0597419 ,\n",
              "        1.0204374 ],\n",
              "       [1.2306621 , 0.7045996 , 1.6594949 , ..., 0.6687104 , 1.3610858 ,\n",
              "        1.1146669 ],\n",
              "       [1.1467376 , 0.88755995, 2.2075849 , ..., 1.0306494 , 1.4801182 ,\n",
              "        1.5130857 ]], dtype=float32)>"
            ]
          },
          "metadata": {},
          "execution_count": 24
        }
      ]
    },
    {
      "cell_type": "markdown",
      "source": [
        "### 6. Create a tensor with random values between 0 and 1 with shape `[1, 224, 224, 3]`"
      ],
      "metadata": {
        "id": "2MsVIDIRoJNg"
      }
    },
    {
      "cell_type": "code",
      "source": [
        "tf.random.set_seed(5)\n",
        "\n",
        "# Instantiate tensor with required conditions\n",
        "T3 = tf.random.uniform([224,224,3], 0, 1, seed=5)"
      ],
      "metadata": {
        "colab": {
          "base_uri": "https://localhost:8080/"
        },
        "id": "H-N_sw2Anohp",
        "outputId": "34acc01c-57af-450e-9c4b-46be6864a6c3"
      },
      "execution_count": null,
      "outputs": [
        {
          "output_type": "execute_result",
          "data": {
            "text/plain": [
              "<tf.Tensor: shape=(), dtype=float32, numpy=1.7762184e-05>"
            ]
          },
          "metadata": {},
          "execution_count": 47
        }
      ]
    },
    {
      "cell_type": "markdown",
      "source": [
        "### 7. Find the min and max values of the tensor you created in 6 along the first axis"
      ],
      "metadata": {
        "id": "84yq9PqXrO9j"
      }
    },
    {
      "cell_type": "code",
      "source": [
        "# Find minimum along first axis\n",
        "tf.reduce_min(T3)"
      ],
      "metadata": {
        "colab": {
          "base_uri": "https://localhost:8080/"
        },
        "id": "D4KWhBP9rToJ",
        "outputId": "95587eb4-62ff-4c3a-d07d-01234bfa2520"
      },
      "execution_count": null,
      "outputs": [
        {
          "output_type": "execute_result",
          "data": {
            "text/plain": [
              "<tf.Tensor: shape=(), dtype=float32, numpy=1.7762184e-05>"
            ]
          },
          "metadata": {},
          "execution_count": 49
        }
      ]
    },
    {
      "cell_type": "code",
      "source": [
        "# Find maximum value of T3 along first axis\n",
        "tf.reduce_max(T3)"
      ],
      "metadata": {
        "colab": {
          "base_uri": "https://localhost:8080/"
        },
        "id": "Qwdci9mApJAV",
        "outputId": "a88acf0d-f982-4a0e-d2e0-99d0cf98f15c"
      },
      "execution_count": null,
      "outputs": [
        {
          "output_type": "execute_result",
          "data": {
            "text/plain": [
              "<tf.Tensor: shape=(), dtype=float32, numpy=0.9999975>"
            ]
          },
          "metadata": {},
          "execution_count": 48
        }
      ]
    },
    {
      "cell_type": "markdown",
      "source": [
        "### 8. Create a tensor with random values of shape `[1, 224, 224, 3]` then squeeze it to change the shape to `[224, 224, 3]`"
      ],
      "metadata": {
        "id": "WqzTA4K1oftC"
      }
    },
    {
      "cell_type": "code",
      "source": [
        "# Instantiate global seed\n",
        "tf.random.set_seed(3)\n",
        "\n",
        "# Instantiate tensor with random values and required shape\n",
        "T4 = tf.random.uniform([1, 224, 224, 3])\n",
        "\n",
        "# Squeeze the tensor\n",
        "T4_squeezed = tf.squeeze(T4,0)\n",
        "T4_squeezed"
      ],
      "metadata": {
        "colab": {
          "base_uri": "https://localhost:8080/"
        },
        "id": "ILpYJSYXrliL",
        "outputId": "d85c7ceb-c80a-48a1-b4d2-3a0552a20414"
      },
      "execution_count": null,
      "outputs": [
        {
          "output_type": "execute_result",
          "data": {
            "text/plain": [
              "<tf.Tensor: shape=(224, 224, 3), dtype=float32, numpy=\n",
              "array([[[0.13366318, 0.5678531 , 0.4963317 ],\n",
              "        [0.01686525, 0.50454175, 0.74873126],\n",
              "        [0.13033688, 0.33561492, 0.6519277 ],\n",
              "        ...,\n",
              "        [0.09551287, 0.7745788 , 0.94565904],\n",
              "        [0.4585389 , 0.24478483, 0.69737494],\n",
              "        [0.13486624, 0.49011993, 0.3190508 ]],\n",
              "\n",
              "       [[0.9132737 , 0.7370925 , 0.82477975],\n",
              "        [0.7902572 , 0.8107809 , 0.61262596],\n",
              "        [0.54857635, 0.7577503 , 0.6478059 ],\n",
              "        ...,\n",
              "        [0.22832298, 0.42732084, 0.3243487 ],\n",
              "        [0.1258465 , 0.9693099 , 0.72472024],\n",
              "        [0.17262292, 0.5402758 , 0.01245522]],\n",
              "\n",
              "       [[0.18029809, 0.6981578 , 0.36399138],\n",
              "        [0.16166258, 0.56943595, 0.22409868],\n",
              "        [0.37093806, 0.2099936 , 0.91768014],\n",
              "        ...,\n",
              "        [0.04689181, 0.8925816 , 0.5845498 ],\n",
              "        [0.19480121, 0.04620397, 0.83770967],\n",
              "        [0.12744379, 0.22989404, 0.27232206]],\n",
              "\n",
              "       ...,\n",
              "\n",
              "       [[0.6833439 , 0.15678465, 0.74756753],\n",
              "        [0.59827864, 0.02550662, 0.01586258],\n",
              "        [0.24936366, 0.8825631 , 0.21493506],\n",
              "        ...,\n",
              "        [0.62597716, 0.6232548 , 0.07786119],\n",
              "        [0.6251749 , 0.38168848, 0.95553124],\n",
              "        [0.32739675, 0.8422842 , 0.77438474]],\n",
              "\n",
              "       [[0.07002521, 0.53733444, 0.34857738],\n",
              "        [0.15977144, 0.5077512 , 0.11492431],\n",
              "        [0.98385954, 0.9859358 , 0.41574895],\n",
              "        ...,\n",
              "        [0.451437  , 0.17574322, 0.52742827],\n",
              "        [0.09897029, 0.7920457 , 0.05859137],\n",
              "        [0.9361626 , 0.9597832 , 0.283952  ]],\n",
              "\n",
              "       [[0.38298893, 0.8308017 , 0.9382421 ],\n",
              "        [0.6150608 , 0.37506866, 0.14734352],\n",
              "        [0.06230235, 0.57819664, 0.37227583],\n",
              "        ...,\n",
              "        [0.9480977 , 0.30633497, 0.30812204],\n",
              "        [0.0899601 , 0.13499498, 0.40026426],\n",
              "        [0.2956791 , 0.9394791 , 0.79487133]]], dtype=float32)>"
            ]
          },
          "metadata": {},
          "execution_count": 52
        }
      ]
    },
    {
      "cell_type": "markdown",
      "source": [
        "### 9. Create a tensor with shape `[10]` using your own choice of values, then find the index which has the maximum value"
      ],
      "metadata": {
        "id": "Gxojc8j9rytl"
      }
    },
    {
      "cell_type": "code",
      "source": [
        "tf.random.set_seed(41)\n",
        "\n",
        "# Instantiate numpy array\n",
        "array = np.random.randint(0,10,10)\n",
        "\n",
        "# convert array to tensor\n",
        "\n",
        "T5 = tf.constant(array)"
      ],
      "metadata": {
        "id": "rXkpdbxPsQA7"
      },
      "execution_count": null,
      "outputs": []
    },
    {
      "cell_type": "code",
      "source": [
        "tf.argmax(T5)"
      ],
      "metadata": {
        "colab": {
          "base_uri": "https://localhost:8080/"
        },
        "id": "fVnQZk49sVzD",
        "outputId": "a3b8ba8b-8c6e-4015-b01f-1cd2dc86eb9c"
      },
      "execution_count": null,
      "outputs": [
        {
          "output_type": "execute_result",
          "data": {
            "text/plain": [
              "<tf.Tensor: shape=(), dtype=int64, numpy=5>"
            ]
          },
          "metadata": {},
          "execution_count": 55
        }
      ]
    },
    {
      "cell_type": "code",
      "source": [
        "# Output one-hot encoding from T5\n",
        "\n",
        "indices = list(T5.numpy())\n",
        "print(indices)\n",
        "depth = len(set(indices))\n",
        "\n",
        "tf.one_hot(indices,depth)"
      ],
      "metadata": {
        "colab": {
          "base_uri": "https://localhost:8080/"
        },
        "id": "aUHgPRLesaco",
        "outputId": "196d8a16-f4b8-4da7-a6ed-4ba1360c7121"
      },
      "execution_count": null,
      "outputs": [
        {
          "output_type": "stream",
          "name": "stdout",
          "text": [
            "[4, 3, 8, 2, 0, 7, 2, 9, 1, 3]\n"
          ]
        },
        {
          "output_type": "execute_result",
          "data": {
            "text/plain": [
              "<tf.Tensor: shape=(10, 8), dtype=float32, numpy=\n",
              "array([[0., 0., 0., 0., 1., 0., 0., 0.],\n",
              "       [0., 0., 0., 1., 0., 0., 0., 0.],\n",
              "       [0., 0., 0., 0., 0., 0., 0., 0.],\n",
              "       [0., 0., 1., 0., 0., 0., 0., 0.],\n",
              "       [1., 0., 0., 0., 0., 0., 0., 0.],\n",
              "       [0., 0., 0., 0., 0., 0., 0., 1.],\n",
              "       [0., 0., 1., 0., 0., 0., 0., 0.],\n",
              "       [0., 0., 0., 0., 0., 0., 0., 0.],\n",
              "       [0., 1., 0., 0., 0., 0., 0., 0.],\n",
              "       [0., 0., 0., 1., 0., 0., 0., 0.]], dtype=float32)>"
            ]
          },
          "metadata": {},
          "execution_count": 82
        }
      ]
    },
    {
      "cell_type": "markdown",
      "source": [
        "### Tensorflow 2 quickstart for beginners\n",
        "\n",
        "This short introduction uses Keras to:\n",
        "\n",
        "1. Load a prebuilt dataset\n",
        "2. Build a neural network machine learning model that classifies images.\n",
        "3. Train this neural network\n",
        "4. Evaluate the accuracy of the model"
      ],
      "metadata": {
        "id": "Fbx5UREgt1R7"
      }
    },
    {
      "cell_type": "code",
      "source": [
        "print(\"TensorFlow Version: \", tf.__version__)"
      ],
      "metadata": {
        "colab": {
          "base_uri": "https://localhost:8080/"
        },
        "id": "bqHeTReByBqj",
        "outputId": "8ff01136-2403-4fd0-de0e-fb639b08a379"
      },
      "execution_count": null,
      "outputs": [
        {
          "output_type": "stream",
          "name": "stdout",
          "text": [
            "TensorFlow Version:  2.8.2\n"
          ]
        }
      ]
    },
    {
      "cell_type": "markdown",
      "source": [
        "### Load dataset\n",
        "\n",
        "We load and prepare the MNIST dataset. We will convert the sample data from integers to floating-point numbers"
      ],
      "metadata": {
        "id": "ufdqKOxSydHB"
      }
    },
    {
      "cell_type": "code",
      "source": [
        "mnist = tf.keras.datasets.mnist\n",
        "\n",
        "(X_train, y_train), (X_test, y_test) = mnist.load_data()\n",
        "\n",
        "X_train, X_test = X_train / 255.0, X_test / 255.0"
      ],
      "metadata": {
        "colab": {
          "base_uri": "https://localhost:8080/"
        },
        "id": "Prpjke6zyFiM",
        "outputId": "218a3c8b-94c9-4050-df8a-c8882bccf9c0"
      },
      "execution_count": null,
      "outputs": [
        {
          "output_type": "stream",
          "name": "stdout",
          "text": [
            "Downloading data from https://storage.googleapis.com/tensorflow/tf-keras-datasets/mnist.npz\n",
            "11493376/11490434 [==============================] - 0s 0us/step\n",
            "11501568/11490434 [==============================] - 0s 0us/step\n"
          ]
        }
      ]
    },
    {
      "cell_type": "markdown",
      "source": [
        "### Build a machine learning model\n",
        "\n",
        "Build a `tf.keras.Sequential` model by stacking layers.\n"
      ],
      "metadata": {
        "id": "yXrYPrWnyvF4"
      }
    },
    {
      "cell_type": "code",
      "source": [
        "# Instantiate Keras model\n",
        "X_train.shape\n",
        "\n",
        "model = tf.keras.models.Sequential([\n",
        "  tf.keras.layers.Flatten(input_shape=(28,28)),\n",
        "  tf.keras.layers.Dense(128, activation=\"relu\"),\n",
        "  tf.keras.layers.Dropout(0.2),\n",
        "  tf.keras.layers.Dense(10)                                   \n",
        "])"
      ],
      "metadata": {
        "id": "xdgfMXFMyMtk"
      },
      "execution_count": null,
      "outputs": []
    },
    {
      "cell_type": "markdown",
      "source": [
        "For each example, the model returns a vector of logits or log-odds scores, one for each class.\n",
        "\n",
        "**logits**\n",
        "\n",
        "The vector of raw (non-normalized) predictions that a classification model generates, which is ordinarily then passed to a normalization function. If the model is solving a multi-class classification problem, logits typically become an input to the softmax function. The softmax function then generates a vector of (normalized) probabilities with one value for each possible class.\n",
        "\n",
        "**log-odds**\n",
        "\n",
        "The logarithm of the odds of some event. \n",
        "\n",
        "If the event refers to a binary probability, then odds refer to the ratio of the probability of succes (p) to the probability of failure (1 - p). for example, suppose that a given event has a 90% probability of success and a 10% probability of failure. In this case, odds is calculated as follows:\n",
        "\n",
        "\\begin{align}\n",
        "Odds = \\frac{p}{(1 - p)} = \\frac{.9}{.1} = 9\n",
        "\\end{align}\n"
      ],
      "metadata": {
        "id": "hM1F7U9J7RMn"
      }
    },
    {
      "cell_type": "code",
      "source": [
        "predictions = model(X_train[:1]).numpy()\n",
        "predictions"
      ],
      "metadata": {
        "colab": {
          "base_uri": "https://localhost:8080/"
        },
        "id": "5gcPuDaq96vS",
        "outputId": "651d6735-2a7b-4511-d435-15337d7d2312"
      },
      "execution_count": null,
      "outputs": [
        {
          "output_type": "execute_result",
          "data": {
            "text/plain": [
              "array([[-0.28110647, -0.39127973,  0.18370417,  0.6542619 ,  0.23377874,\n",
              "        -0.28707844, -0.61258674, -0.19342759,  0.7858285 , -0.01735732]],\n",
              "      dtype=float32)"
            ]
          },
          "metadata": {},
          "execution_count": 90
        }
      ]
    },
    {
      "cell_type": "markdown",
      "source": [
        "the `tf.nn.softmax` function converts these logits to probabilities for each class."
      ],
      "metadata": {
        "id": "ceteWnvk-AGH"
      }
    },
    {
      "cell_type": "code",
      "source": [
        "tf.nn.softmax(predictions).numpy()"
      ],
      "metadata": {
        "colab": {
          "base_uri": "https://localhost:8080/"
        },
        "id": "R-EM2v-m-KXD",
        "outputId": "f0f77abf-c755-400e-b597-0875f7631c15"
      },
      "execution_count": null,
      "outputs": [
        {
          "output_type": "execute_result",
          "data": {
            "text/plain": [
              "array([[0.06793112, 0.06084448, 0.10812683, 0.17309883, 0.1136791 ,\n",
              "        0.06752665, 0.04876506, 0.07415617, 0.19743893, 0.08843285]],\n",
              "      dtype=float32)"
            ]
          },
          "metadata": {},
          "execution_count": 91
        }
      ]
    },
    {
      "cell_type": "markdown",
      "source": [
        ">**Note:** It is possible to bake the tf.nn.softmax function into the activation function for the last layer of the network. While this can make the model output more directly interpretable, this approach is discouraged as it's impossible to provide an exact and numerically stable loss calculation for all models when using a softmax output."
      ],
      "metadata": {
        "id": "PeabK2j1-MLw"
      }
    },
    {
      "cell_type": "code",
      "source": [
        "loss_fn = tf.keras.losses.SparseCategoricalCrossentropy(from_logits=True)"
      ],
      "metadata": {
        "id": "S8GhrQlB-dzo"
      },
      "execution_count": null,
      "outputs": []
    },
    {
      "cell_type": "markdown",
      "source": [
        "This loss is equal to the negative log probability of the true class: The loss is zero if the model is sure of the correct class.\n",
        "\n",
        "This untrained model gives probabilities close to random (1/10 for each class), so the initial loss should be close to `tf.math.log(1/10) ~= 2.3`"
      ],
      "metadata": {
        "id": "srxEBaCU-14M"
      }
    },
    {
      "cell_type": "code",
      "source": [
        "loss_fn(y_train[:1], predictions).numpy()"
      ],
      "metadata": {
        "colab": {
          "base_uri": "https://localhost:8080/"
        },
        "id": "WPWlq9cf_SVO",
        "outputId": "b2023c65-3768-4af6-8178-24683a73ce60"
      },
      "execution_count": null,
      "outputs": [
        {
          "output_type": "execute_result",
          "data": {
            "text/plain": [
              "2.6952329"
            ]
          },
          "metadata": {},
          "execution_count": 93
        }
      ]
    },
    {
      "cell_type": "markdown",
      "source": [
        "Before we start training, we configure and compile the model using Keras `Model.compile`. Set the `optimizer` class to `adam`, set the `loss_fn` function defined and specify a metric to be avaluated for the model by setting the metrics parameter to `accuracy`"
      ],
      "metadata": {
        "id": "ipXEoRRx_YBx"
      }
    },
    {
      "cell_type": "code",
      "source": [
        "model.compile(optimizer = 'adam',\n",
        "              loss = loss_fn,\n",
        "              metrics = ['accuracy'])"
      ],
      "metadata": {
        "id": "yWnu2Z_jJPtB"
      },
      "execution_count": null,
      "outputs": []
    },
    {
      "cell_type": "markdown",
      "source": [
        "### Train and evaluate the model\n",
        "\n",
        "Use the `Model.fit` method to adjust the model parameters and minimize the loss:"
      ],
      "metadata": {
        "id": "sYNHwsBKJb60"
      }
    },
    {
      "cell_type": "code",
      "source": [
        "model.fit(X_train, y_train, epochs = 5)"
      ],
      "metadata": {
        "colab": {
          "base_uri": "https://localhost:8080/"
        },
        "id": "76_97kE_JjFj",
        "outputId": "984f0571-86ca-4a38-cfb8-06cc534c37fe"
      },
      "execution_count": null,
      "outputs": [
        {
          "output_type": "stream",
          "name": "stdout",
          "text": [
            "Epoch 1/5\n",
            "1875/1875 [==============================] - 5s 2ms/step - loss: 0.3018 - accuracy: 0.9124\n",
            "Epoch 2/5\n",
            "1875/1875 [==============================] - 4s 2ms/step - loss: 0.1464 - accuracy: 0.9572\n",
            "Epoch 3/5\n",
            "1875/1875 [==============================] - 4s 2ms/step - loss: 0.1122 - accuracy: 0.9664\n",
            "Epoch 4/5\n",
            "1875/1875 [==============================] - 4s 2ms/step - loss: 0.0908 - accuracy: 0.9714\n",
            "Epoch 5/5\n",
            "1875/1875 [==============================] - 4s 2ms/step - loss: 0.0769 - accuracy: 0.9759\n"
          ]
        },
        {
          "output_type": "execute_result",
          "data": {
            "text/plain": [
              "<keras.callbacks.History at 0x7fdff8aa0c90>"
            ]
          },
          "metadata": {},
          "execution_count": 96
        }
      ]
    },
    {
      "cell_type": "markdown",
      "source": [
        "The `Model.evaluate` method checks the model performance, usually on a validation set or test set."
      ],
      "metadata": {
        "id": "JzlU75MFJlr_"
      }
    },
    {
      "cell_type": "code",
      "source": [
        "model.evaluate(X_test, y_test, verbose=2)"
      ],
      "metadata": {
        "colab": {
          "base_uri": "https://localhost:8080/"
        },
        "id": "985V020CJ1-W",
        "outputId": "9c5e5ef4-cb72-4dec-83b4-78a0ab1ed3ff"
      },
      "execution_count": null,
      "outputs": [
        {
          "output_type": "stream",
          "name": "stdout",
          "text": [
            "313/313 - 1s - loss: 0.0752 - accuracy: 0.9766 - 1s/epoch - 3ms/step\n"
          ]
        },
        {
          "output_type": "execute_result",
          "data": {
            "text/plain": [
              "[0.07519650459289551, 0.9765999913215637]"
            ]
          },
          "metadata": {},
          "execution_count": 98
        }
      ]
    },
    {
      "cell_type": "markdown",
      "source": [
        "The image classifier is now trained to ~98% accuracy on this dataset. "
      ],
      "metadata": {
        "id": "K2xDSmfHJ4sD"
      }
    },
    {
      "cell_type": "code",
      "source": [],
      "metadata": {
        "id": "A4cXCQtqKOrf"
      },
      "execution_count": null,
      "outputs": []
    }
  ]
}
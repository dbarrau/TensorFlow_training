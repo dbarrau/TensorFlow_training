{
  "nbformat": 4,
  "nbformat_minor": 0,
  "metadata": {
    "colab": {
      "provenance": [],
      "collapsed_sections": [],
      "machine_shape": "hm",
      "authorship_tag": "ABX9TyO5B7yqSjnROqJyPvTbND9z",
      "include_colab_link": true
    },
    "kernelspec": {
      "name": "python3",
      "display_name": "Python 3"
    },
    "language_info": {
      "name": "python"
    },
    "gpuClass": "standard",
    "accelerator": "GPU"
  },
  "cells": [
    {
      "cell_type": "markdown",
      "metadata": {
        "id": "view-in-github",
        "colab_type": "text"
      },
      "source": [
        "<a href=\"https://colab.research.google.com/github/dbarrau/TensorFlow_training/blob/main/09_SkimLit_nlp_milestone_project_2.ipynb\" target=\"_parent\"><img src=\"https://colab.research.google.com/assets/colab-badge.svg\" alt=\"Open In Colab\"/></a>"
      ]
    },
    {
      "cell_type": "markdown",
      "source": [
        "# Milestone Project 2: SkimLit\n",
        "\n",
        "The purpose of this notebook is to build an NLP model to make reading medical abstracts easier. The paper we're replicating (the source of the dataset that we will be using) is available [here](https://arxiv.org/abs/1710). Reading through the forementioned paper, we see that the model architecture that they use to achieve their best results is available [here](https://arxiv.org/abs/162.05251).\n",
        "\n",
        "If we want to find the ground truth for this notebook (with lots of diagrams and text annotations, [visit the github](https://github.com/mrdbourke/tensorflow-deep-learning/blob/main/09_SkimLit_nlp_milestone_project_2.ipynb))"
      ],
      "metadata": {
        "id": "D4eAvUy31muE"
      }
    },
    {
      "cell_type": "markdown",
      "source": [
        "## Confirm access to a GPU"
      ],
      "metadata": {
        "id": "fYy9EyRSLqFj"
      }
    },
    {
      "cell_type": "code",
      "source": [
        "!nvidia-smi -L"
      ],
      "metadata": {
        "colab": {
          "base_uri": "https://localhost:8080/"
        },
        "id": "pJ0aaQ9XMmK_",
        "outputId": "bddac001-8cc6-4dfb-d90e-a8d037871a43"
      },
      "execution_count": null,
      "outputs": [
        {
          "output_type": "stream",
          "name": "stdout",
          "text": [
            "GPU 0: Tesla T4 (UUID: GPU-edc1d4d0-08e2-9f6b-0b6f-d9174352e53e)\n"
          ]
        }
      ]
    },
    {
      "cell_type": "markdown",
      "source": [
        "## Get data\n",
        "\n",
        "Since we'll be replicating the paper above, which is 200k RCT (Randomized Controlled Trials), let's download the dataset they used. We can do so from the [author's Github](https://github.com/Franck-Dernoncourt/pubmed-rct)"
      ],
      "metadata": {
        "id": "Vn79E4ztMput"
      }
    },
    {
      "cell_type": "code",
      "source": [
        "!git clone https://github.com/Franck-Dernoncourt/pubmed-rct\n",
        "!ls pubmed-rct"
      ],
      "metadata": {
        "colab": {
          "base_uri": "https://localhost:8080/"
        },
        "id": "mWq0w4fHNGBn",
        "outputId": "9b3116f4-0089-4782-84e3-dae77e6d10fb"
      },
      "execution_count": null,
      "outputs": [
        {
          "output_type": "stream",
          "name": "stdout",
          "text": [
            "Cloning into 'pubmed-rct'...\n",
            "remote: Enumerating objects: 33, done.\u001b[K\n",
            "remote: Counting objects: 100% (8/8), done.\u001b[K\n",
            "remote: Compressing objects: 100% (3/3), done.\u001b[K\n",
            "remote: Total 33 (delta 5), reused 5 (delta 5), pack-reused 25\u001b[K\n",
            "Unpacking objects: 100% (33/33), done.\n",
            "PubMed_200k_RCT\n",
            "PubMed_200k_RCT_numbers_replaced_with_at_sign\n",
            "PubMed_20k_RCT\n",
            "PubMed_20k_RCT_numbers_replaced_with_at_sign\n",
            "README.md\n"
          ]
        }
      ]
    },
    {
      "cell_type": "code",
      "source": [
        "# Check what files are in the PubMed_20K dataset\n",
        "!ls pubmed-rct/PubMed_20k_RCT_numbers_replaced_with_at_sign/\n",
        "!ls pubmed-rct/PubMed_20k_RCT/"
      ],
      "metadata": {
        "colab": {
          "base_uri": "https://localhost:8080/"
        },
        "id": "a9J2XTY-NxU8",
        "outputId": "aba0da55-7544-4cc7-855d-f7954bd66401"
      },
      "execution_count": null,
      "outputs": [
        {
          "output_type": "stream",
          "name": "stdout",
          "text": [
            "dev.txt  test.txt  train.txt\n",
            "dev.txt  test.txt  train.txt\n"
          ]
        }
      ]
    },
    {
      "cell_type": "code",
      "source": [
        "# Start our experiments using the 20k dataset with numbers replaced by \"@\" sign \n",
        "data_dir = \"/content/pubmed-rct/PubMed_20k_RCT_numbers_replaced_with_at_sign/\""
      ],
      "metadata": {
        "id": "3S5lHGJiOPMw"
      },
      "execution_count": null,
      "outputs": []
    },
    {
      "cell_type": "code",
      "source": [
        "# Check all of the filenames in the target directory\n",
        "import os\n",
        "filenames = [data_dir + filename for filename in os.listdir(data_dir)]\n",
        "filenames"
      ],
      "metadata": {
        "colab": {
          "base_uri": "https://localhost:8080/"
        },
        "id": "agi0p9l5P27I",
        "outputId": "c6d13383-0d55-48fa-d7cb-c18633c05eca"
      },
      "execution_count": null,
      "outputs": [
        {
          "output_type": "execute_result",
          "data": {
            "text/plain": [
              "['/content/pubmed-rct/PubMed_20k_RCT_numbers_replaced_with_at_sign/train.txt',\n",
              " '/content/pubmed-rct/PubMed_20k_RCT_numbers_replaced_with_at_sign/dev.txt',\n",
              " '/content/pubmed-rct/PubMed_20k_RCT_numbers_replaced_with_at_sign/test.txt']"
            ]
          },
          "metadata": {},
          "execution_count": 5
        }
      ]
    },
    {
      "cell_type": "markdown",
      "source": [
        "## Preprocess data\n",
        "\n",
        "Now we have some text data, it is time to become one with it. And one of the best ways to become one with the data is to visualize and visualize, lastly visualize. With that in mind, we'll write a function to read in all of the lines of a target text file."
      ],
      "metadata": {
        "id": "UZzPTGnaP-jh"
      }
    },
    {
      "cell_type": "code",
      "source": [
        "# Let's create function to read the lines of a document\n",
        "def get_lines(filename):\n",
        "  \"\"\"\n",
        "  Reads filename (a text filename) and returns the lines of text as a list.\n",
        "\n",
        "  Args:\n",
        "    filename (str): a string containing the target filepath.\n",
        "  \n",
        "  Returns:\n",
        "    A list of strings with one string perl ine from the target filename.\n",
        "  \"\"\"\n",
        "  with open(filename, \"r\") as f:\n",
        "    return f.readlines()"
      ],
      "metadata": {
        "id": "mVP0DN1uRbZp"
      },
      "execution_count": null,
      "outputs": []
    },
    {
      "cell_type": "code",
      "source": [
        "# Let's read in the training lines.\n",
        "train_lines = get_lines(data_dir+\"train.txt\")"
      ],
      "metadata": {
        "id": "Y9s43zXESAPc"
      },
      "execution_count": null,
      "outputs": []
    },
    {
      "cell_type": "code",
      "source": [
        "train_lines[:20]\n"
      ],
      "metadata": {
        "colab": {
          "base_uri": "https://localhost:8080/"
        },
        "id": "nldwdzErSL8B",
        "outputId": "7ee9d4bb-d973-4118-9887-2e89fac8386f"
      },
      "execution_count": null,
      "outputs": [
        {
          "output_type": "execute_result",
          "data": {
            "text/plain": [
              "['###24293578\\n',\n",
              " 'OBJECTIVE\\tTo investigate the efficacy of @ weeks of daily low-dose oral prednisolone in improving pain , mobility , and systemic low-grade inflammation in the short term and whether the effect would be sustained at @ weeks in older adults with moderate to severe knee osteoarthritis ( OA ) .\\n',\n",
              " 'METHODS\\tA total of @ patients with primary knee OA were randomized @:@ ; @ received @ mg/day of prednisolone and @ received placebo for @ weeks .\\n',\n",
              " 'METHODS\\tOutcome measures included pain reduction and improvement in function scores and systemic inflammation markers .\\n',\n",
              " 'METHODS\\tPain was assessed using the visual analog pain scale ( @-@ mm ) .\\n',\n",
              " 'METHODS\\tSecondary outcome measures included the Western Ontario and McMaster Universities Osteoarthritis Index scores , patient global assessment ( PGA ) of the severity of knee OA , and @-min walk distance ( @MWD ) .\\n',\n",
              " 'METHODS\\tSerum levels of interleukin @ ( IL-@ ) , IL-@ , tumor necrosis factor ( TNF ) - , and high-sensitivity C-reactive protein ( hsCRP ) were measured .\\n',\n",
              " 'RESULTS\\tThere was a clinically relevant reduction in the intervention group compared to the placebo group for knee pain , physical function , PGA , and @MWD at @ weeks .\\n',\n",
              " 'RESULTS\\tThe mean difference between treatment arms ( @ % CI ) was @ ( @-@ @ ) , p < @ ; @ ( @-@ @ ) , p < @ ; @ ( @-@ @ ) , p < @ ; and @ ( @-@ @ ) , p < @ , respectively .\\n',\n",
              " 'RESULTS\\tFurther , there was a clinically relevant reduction in the serum levels of IL-@ , IL-@ , TNF - , and hsCRP at @ weeks in the intervention group when compared to the placebo group .\\n',\n",
              " 'RESULTS\\tThese differences remained significant at @ weeks .\\n',\n",
              " 'RESULTS\\tThe Outcome Measures in Rheumatology Clinical Trials-Osteoarthritis Research Society International responder rate was @ % in the intervention group and @ % in the placebo group ( p < @ ) .\\n',\n",
              " 'CONCLUSIONS\\tLow-dose oral prednisolone had both a short-term and a longer sustained effect resulting in less knee pain , better physical function , and attenuation of systemic inflammation in older patients with knee OA ( ClinicalTrials.gov identifier NCT@ ) .\\n',\n",
              " '\\n',\n",
              " '###24854809\\n',\n",
              " 'BACKGROUND\\tEmotional eating is associated with overeating and the development of obesity .\\n',\n",
              " 'BACKGROUND\\tYet , empirical evidence for individual ( trait ) differences in emotional eating and cognitive mechanisms that contribute to eating during sad mood remain equivocal .\\n',\n",
              " 'OBJECTIVE\\tThe aim of this study was to test if attention bias for food moderates the effect of self-reported emotional eating during sad mood ( vs neutral mood ) on actual food intake .\\n',\n",
              " 'OBJECTIVE\\tIt was expected that emotional eating is predictive of elevated attention for food and higher food intake after an experimentally induced sad mood and that attentional maintenance on food predicts food intake during a sad versus a neutral mood .\\n',\n",
              " 'METHODS\\tParticipants ( N = @ ) were randomly assigned to one of the two experimental mood induction conditions ( sad/neutral ) .\\n']"
            ]
          },
          "metadata": {},
          "execution_count": 8
        }
      ]
    },
    {
      "cell_type": "code",
      "source": [
        "len(train_lines)"
      ],
      "metadata": {
        "colab": {
          "base_uri": "https://localhost:8080/"
        },
        "id": "19-y8PgySNFi",
        "outputId": "4fbc4a52-a096-4d2a-f4d7-8237e9b612b2"
      },
      "execution_count": null,
      "outputs": [
        {
          "output_type": "execute_result",
          "data": {
            "text/plain": [
              "210040"
            ]
          },
          "metadata": {},
          "execution_count": 9
        }
      ]
    },
    {
      "cell_type": "markdown",
      "source": [
        "Let's think about how we want our data to look...\n",
        "\n",
        "How I think our data would be best represented...\n",
        "```\n",
        "[{\"line_number\": 0,\n",
        "  \"target\": \"BACKGROUND\",\n",
        "  \"text\": \"Emotional eating is associated with overeating...\",\n",
        "  \"total_lines\": 11},\n",
        "  ...]\n",
        "```"
      ],
      "metadata": {
        "id": "EVCYlkNaSknI"
      }
    },
    {
      "cell_type": "code",
      "source": [
        "def preprocess_text_with_line_numbers(filename):\n",
        "  \"\"\"\n",
        "  Returns a list of dictionaries of abstract line data.\n",
        "\n",
        "  Takes in filename, reads its content and sorts through each line, \n",
        "  extracting things like the target label, the text of the sentence,\n",
        "  how many sentences are in the current abstract and what sentence \n",
        "  number the target line is\n",
        "  \"\"\"\n",
        "  # Get all lines from filenames\n",
        "  input_lines = get_lines(filename)\n",
        "\n",
        "  # Create an empty abstract\n",
        "  abstract_lines = \"\"\n",
        "\n",
        "  # Create an empty list of abstracts\n",
        "  abstract_samples = []\n",
        "\n",
        "  # Loop through each line in the target file\n",
        "  for line in input_lines:\n",
        "\n",
        "    # Check if line is id line\n",
        "    if line.startswith(\"###\"): \n",
        "      abstract_id = line\n",
        "      abstract_lines = \"\" # Reset abstract string if the line is an ID line\n",
        "    elif line.isspace(): # Check to see if line is a new line\n",
        "      abstract_line_split = abstract_lines.splitlines()\n",
        "\n",
        "      # Iterate through each line in a single abstract and keep count\n",
        "      for abstract_line_number, abstract_line in enumerate(abstract_line_split):\n",
        "        line_data = {} # create an empty dictionary for each line\n",
        "        target_text_split = abstract_line.split(\"\\t\") \n",
        "        line_data[\"target\"] = target_text_split[0]\n",
        "        line_data[\"text\"] = target_text_split[1].lower() #\n",
        "        line_data[\"line_number\"] = abstract_line_number # what number line does the ine appear in the abstract\n",
        "        line_data[\"total_lines\"] = len(abstract_line_split) -1 # How many lines are there in the target abstract (start with zero)\n",
        "        abstract_samples.append(line_data) # add line data to abstrat samples list\n",
        "\n",
        "    else: # If the above conditions aren't fulfilled, the line contains a labelled sentence\n",
        "      abstract_lines += line\n",
        "  return abstract_samples\n",
        "       "
      ],
      "metadata": {
        "id": "SqRuBNfCVweh"
      },
      "execution_count": null,
      "outputs": []
    },
    {
      "cell_type": "code",
      "source": [
        "# Get data from file and preprocess it\n",
        "%%time\n",
        "train_samples = preprocess_text_with_line_numbers(data_dir + \"train.txt\")\n",
        "val_samples = preprocess_text_with_line_numbers(data_dir + \"dev.txt\")\n",
        "test_samples = preprocess_text_with_line_numbers(data_dir + \"test.txt\")\n"
      ],
      "metadata": {
        "colab": {
          "base_uri": "https://localhost:8080/"
        },
        "id": "RQEyGKnmJoNU",
        "outputId": "48697992-7c82-4306-9e06-a349581c06a9"
      },
      "execution_count": null,
      "outputs": [
        {
          "output_type": "stream",
          "name": "stdout",
          "text": [
            "CPU times: user 463 ms, sys: 83.6 ms, total: 547 ms\n",
            "Wall time: 544 ms\n"
          ]
        }
      ]
    },
    {
      "cell_type": "code",
      "source": [
        "print(len(train_samples), len(val_samples), len(test_samples))"
      ],
      "metadata": {
        "colab": {
          "base_uri": "https://localhost:8080/"
        },
        "id": "sR8wCo1yKJ7g",
        "outputId": "cb62732b-4a9e-4af1-cd35-34838f41a6ff"
      },
      "execution_count": null,
      "outputs": [
        {
          "output_type": "stream",
          "name": "stdout",
          "text": [
            "180040 30212 30135\n"
          ]
        }
      ]
    },
    {
      "cell_type": "code",
      "source": [
        "# Check the first abstract of our training data\n",
        "train_samples[:10]"
      ],
      "metadata": {
        "colab": {
          "base_uri": "https://localhost:8080/"
        },
        "id": "0D_ZQUIiKrVG",
        "outputId": "e0df9bef-d9be-4e98-b588-a5765a02c35a"
      },
      "execution_count": null,
      "outputs": [
        {
          "output_type": "execute_result",
          "data": {
            "text/plain": [
              "[{'target': 'OBJECTIVE',\n",
              "  'text': 'to investigate the efficacy of @ weeks of daily low-dose oral prednisolone in improving pain , mobility , and systemic low-grade inflammation in the short term and whether the effect would be sustained at @ weeks in older adults with moderate to severe knee osteoarthritis ( oa ) .',\n",
              "  'line_number': 0,\n",
              "  'total_lines': 11},\n",
              " {'target': 'METHODS',\n",
              "  'text': 'a total of @ patients with primary knee oa were randomized @:@ ; @ received @ mg/day of prednisolone and @ received placebo for @ weeks .',\n",
              "  'line_number': 1,\n",
              "  'total_lines': 11},\n",
              " {'target': 'METHODS',\n",
              "  'text': 'outcome measures included pain reduction and improvement in function scores and systemic inflammation markers .',\n",
              "  'line_number': 2,\n",
              "  'total_lines': 11},\n",
              " {'target': 'METHODS',\n",
              "  'text': 'pain was assessed using the visual analog pain scale ( @-@ mm ) .',\n",
              "  'line_number': 3,\n",
              "  'total_lines': 11},\n",
              " {'target': 'METHODS',\n",
              "  'text': 'secondary outcome measures included the western ontario and mcmaster universities osteoarthritis index scores , patient global assessment ( pga ) of the severity of knee oa , and @-min walk distance ( @mwd ) .',\n",
              "  'line_number': 4,\n",
              "  'total_lines': 11},\n",
              " {'target': 'METHODS',\n",
              "  'text': 'serum levels of interleukin @ ( il-@ ) , il-@ , tumor necrosis factor ( tnf ) - , and high-sensitivity c-reactive protein ( hscrp ) were measured .',\n",
              "  'line_number': 5,\n",
              "  'total_lines': 11},\n",
              " {'target': 'RESULTS',\n",
              "  'text': 'there was a clinically relevant reduction in the intervention group compared to the placebo group for knee pain , physical function , pga , and @mwd at @ weeks .',\n",
              "  'line_number': 6,\n",
              "  'total_lines': 11},\n",
              " {'target': 'RESULTS',\n",
              "  'text': 'the mean difference between treatment arms ( @ % ci ) was @ ( @-@ @ ) , p < @ ; @ ( @-@ @ ) , p < @ ; @ ( @-@ @ ) , p < @ ; and @ ( @-@ @ ) , p < @ , respectively .',\n",
              "  'line_number': 7,\n",
              "  'total_lines': 11},\n",
              " {'target': 'RESULTS',\n",
              "  'text': 'further , there was a clinically relevant reduction in the serum levels of il-@ , il-@ , tnf - , and hscrp at @ weeks in the intervention group when compared to the placebo group .',\n",
              "  'line_number': 8,\n",
              "  'total_lines': 11},\n",
              " {'target': 'RESULTS',\n",
              "  'text': 'these differences remained significant at @ weeks .',\n",
              "  'line_number': 9,\n",
              "  'total_lines': 11}]"
            ]
          },
          "metadata": {},
          "execution_count": 13
        }
      ]
    },
    {
      "cell_type": "markdown",
      "source": [
        "Now that our data is in the format of a list of dictionaries, how about we turn it into a dataframe to visualize it"
      ],
      "metadata": {
        "id": "31vpY58pK6_o"
      }
    },
    {
      "cell_type": "code",
      "source": [
        "import pandas as pd\n",
        "\n",
        "pd.set_option('max_rows', 99999)\n",
        "pd.set_option('max_colwidth', 400)\n",
        "pd.describe_option('max_colwidth')\n",
        "\n",
        "train_df = pd.DataFrame(train_samples)\n",
        "val_df = pd.DataFrame(val_samples)\n",
        "test_df = pd.DataFrame(test_samples)\n",
        "train_df.head()"
      ],
      "metadata": {
        "colab": {
          "base_uri": "https://localhost:8080/",
          "height": 293
        },
        "id": "BMW-cBHbO-UY",
        "outputId": "89a494b9-6a90-4153-cf82-d3293cce9308"
      },
      "execution_count": null,
      "outputs": [
        {
          "output_type": "stream",
          "name": "stdout",
          "text": [
            "display.max_colwidth : int or None\n",
            "    The maximum width in characters of a column in the repr of\n",
            "    a pandas data structure. When the column overflows, a \"...\"\n",
            "    placeholder is embedded in the output. A 'None' value means unlimited.\n",
            "    [default: 50] [currently: 400]\n"
          ]
        },
        {
          "output_type": "execute_result",
          "data": {
            "text/plain": [
              "      target  \\\n",
              "0  OBJECTIVE   \n",
              "1    METHODS   \n",
              "2    METHODS   \n",
              "3    METHODS   \n",
              "4    METHODS   \n",
              "\n",
              "                                                                                                                                                                                                                                                                                        text  \\\n",
              "0  to investigate the efficacy of @ weeks of daily low-dose oral prednisolone in improving pain , mobility , and systemic low-grade inflammation in the short term and whether the effect would be sustained at @ weeks in older adults with moderate to severe knee osteoarthritis ( oa ) .   \n",
              "1                                                                                                                                                  a total of @ patients with primary knee oa were randomized @:@ ; @ received @ mg/day of prednisolone and @ received placebo for @ weeks .   \n",
              "2                                                                                                                                                                            outcome measures included pain reduction and improvement in function scores and systemic inflammation markers .   \n",
              "3                                                                                                                                                                                                                          pain was assessed using the visual analog pain scale ( @-@ mm ) .   \n",
              "4                                                                          secondary outcome measures included the western ontario and mcmaster universities osteoarthritis index scores , patient global assessment ( pga ) of the severity of knee oa , and @-min walk distance ( @mwd ) .   \n",
              "\n",
              "   line_number  total_lines  \n",
              "0            0           11  \n",
              "1            1           11  \n",
              "2            2           11  \n",
              "3            3           11  \n",
              "4            4           11  "
            ],
            "text/html": [
              "\n",
              "  <div id=\"df-03068c66-c2a4-44aa-931c-4a40390763bb\">\n",
              "    <div class=\"colab-df-container\">\n",
              "      <div>\n",
              "<style scoped>\n",
              "    .dataframe tbody tr th:only-of-type {\n",
              "        vertical-align: middle;\n",
              "    }\n",
              "\n",
              "    .dataframe tbody tr th {\n",
              "        vertical-align: top;\n",
              "    }\n",
              "\n",
              "    .dataframe thead th {\n",
              "        text-align: right;\n",
              "    }\n",
              "</style>\n",
              "<table border=\"1\" class=\"dataframe\">\n",
              "  <thead>\n",
              "    <tr style=\"text-align: right;\">\n",
              "      <th></th>\n",
              "      <th>target</th>\n",
              "      <th>text</th>\n",
              "      <th>line_number</th>\n",
              "      <th>total_lines</th>\n",
              "    </tr>\n",
              "  </thead>\n",
              "  <tbody>\n",
              "    <tr>\n",
              "      <th>0</th>\n",
              "      <td>OBJECTIVE</td>\n",
              "      <td>to investigate the efficacy of @ weeks of daily low-dose oral prednisolone in improving pain , mobility , and systemic low-grade inflammation in the short term and whether the effect would be sustained at @ weeks in older adults with moderate to severe knee osteoarthritis ( oa ) .</td>\n",
              "      <td>0</td>\n",
              "      <td>11</td>\n",
              "    </tr>\n",
              "    <tr>\n",
              "      <th>1</th>\n",
              "      <td>METHODS</td>\n",
              "      <td>a total of @ patients with primary knee oa were randomized @:@ ; @ received @ mg/day of prednisolone and @ received placebo for @ weeks .</td>\n",
              "      <td>1</td>\n",
              "      <td>11</td>\n",
              "    </tr>\n",
              "    <tr>\n",
              "      <th>2</th>\n",
              "      <td>METHODS</td>\n",
              "      <td>outcome measures included pain reduction and improvement in function scores and systemic inflammation markers .</td>\n",
              "      <td>2</td>\n",
              "      <td>11</td>\n",
              "    </tr>\n",
              "    <tr>\n",
              "      <th>3</th>\n",
              "      <td>METHODS</td>\n",
              "      <td>pain was assessed using the visual analog pain scale ( @-@ mm ) .</td>\n",
              "      <td>3</td>\n",
              "      <td>11</td>\n",
              "    </tr>\n",
              "    <tr>\n",
              "      <th>4</th>\n",
              "      <td>METHODS</td>\n",
              "      <td>secondary outcome measures included the western ontario and mcmaster universities osteoarthritis index scores , patient global assessment ( pga ) of the severity of knee oa , and @-min walk distance ( @mwd ) .</td>\n",
              "      <td>4</td>\n",
              "      <td>11</td>\n",
              "    </tr>\n",
              "  </tbody>\n",
              "</table>\n",
              "</div>\n",
              "      <button class=\"colab-df-convert\" onclick=\"convertToInteractive('df-03068c66-c2a4-44aa-931c-4a40390763bb')\"\n",
              "              title=\"Convert this dataframe to an interactive table.\"\n",
              "              style=\"display:none;\">\n",
              "        \n",
              "  <svg xmlns=\"http://www.w3.org/2000/svg\" height=\"24px\"viewBox=\"0 0 24 24\"\n",
              "       width=\"24px\">\n",
              "    <path d=\"M0 0h24v24H0V0z\" fill=\"none\"/>\n",
              "    <path d=\"M18.56 5.44l.94 2.06.94-2.06 2.06-.94-2.06-.94-.94-2.06-.94 2.06-2.06.94zm-11 1L8.5 8.5l.94-2.06 2.06-.94-2.06-.94L8.5 2.5l-.94 2.06-2.06.94zm10 10l.94 2.06.94-2.06 2.06-.94-2.06-.94-.94-2.06-.94 2.06-2.06.94z\"/><path d=\"M17.41 7.96l-1.37-1.37c-.4-.4-.92-.59-1.43-.59-.52 0-1.04.2-1.43.59L10.3 9.45l-7.72 7.72c-.78.78-.78 2.05 0 2.83L4 21.41c.39.39.9.59 1.41.59.51 0 1.02-.2 1.41-.59l7.78-7.78 2.81-2.81c.8-.78.8-2.07 0-2.86zM5.41 20L4 18.59l7.72-7.72 1.47 1.35L5.41 20z\"/>\n",
              "  </svg>\n",
              "      </button>\n",
              "      \n",
              "  <style>\n",
              "    .colab-df-container {\n",
              "      display:flex;\n",
              "      flex-wrap:wrap;\n",
              "      gap: 12px;\n",
              "    }\n",
              "\n",
              "    .colab-df-convert {\n",
              "      background-color: #E8F0FE;\n",
              "      border: none;\n",
              "      border-radius: 50%;\n",
              "      cursor: pointer;\n",
              "      display: none;\n",
              "      fill: #1967D2;\n",
              "      height: 32px;\n",
              "      padding: 0 0 0 0;\n",
              "      width: 32px;\n",
              "    }\n",
              "\n",
              "    .colab-df-convert:hover {\n",
              "      background-color: #E2EBFA;\n",
              "      box-shadow: 0px 1px 2px rgba(60, 64, 67, 0.3), 0px 1px 3px 1px rgba(60, 64, 67, 0.15);\n",
              "      fill: #174EA6;\n",
              "    }\n",
              "\n",
              "    [theme=dark] .colab-df-convert {\n",
              "      background-color: #3B4455;\n",
              "      fill: #D2E3FC;\n",
              "    }\n",
              "\n",
              "    [theme=dark] .colab-df-convert:hover {\n",
              "      background-color: #434B5C;\n",
              "      box-shadow: 0px 1px 3px 1px rgba(0, 0, 0, 0.15);\n",
              "      filter: drop-shadow(0px 1px 2px rgba(0, 0, 0, 0.3));\n",
              "      fill: #FFFFFF;\n",
              "    }\n",
              "  </style>\n",
              "\n",
              "      <script>\n",
              "        const buttonEl =\n",
              "          document.querySelector('#df-03068c66-c2a4-44aa-931c-4a40390763bb button.colab-df-convert');\n",
              "        buttonEl.style.display =\n",
              "          google.colab.kernel.accessAllowed ? 'block' : 'none';\n",
              "\n",
              "        async function convertToInteractive(key) {\n",
              "          const element = document.querySelector('#df-03068c66-c2a4-44aa-931c-4a40390763bb');\n",
              "          const dataTable =\n",
              "            await google.colab.kernel.invokeFunction('convertToInteractive',\n",
              "                                                     [key], {});\n",
              "          if (!dataTable) return;\n",
              "\n",
              "          const docLinkHtml = 'Like what you see? Visit the ' +\n",
              "            '<a target=\"_blank\" href=https://colab.research.google.com/notebooks/data_table.ipynb>data table notebook</a>'\n",
              "            + ' to learn more about interactive tables.';\n",
              "          element.innerHTML = '';\n",
              "          dataTable['output_type'] = 'display_data';\n",
              "          await google.colab.output.renderOutput(dataTable, element);\n",
              "          const docLink = document.createElement('div');\n",
              "          docLink.innerHTML = docLinkHtml;\n",
              "          element.appendChild(docLink);\n",
              "        }\n",
              "      </script>\n",
              "    </div>\n",
              "  </div>\n",
              "  "
            ]
          },
          "metadata": {},
          "execution_count": 14
        }
      ]
    },
    {
      "cell_type": "code",
      "source": [
        "# Distribution of labels in training data\n",
        "train_df.target.value_counts()"
      ],
      "metadata": {
        "colab": {
          "base_uri": "https://localhost:8080/"
        },
        "id": "kCUIPy76PGav",
        "outputId": "05b7cb85-7ba5-49d3-c0cb-d2c099109f1a"
      },
      "execution_count": null,
      "outputs": [
        {
          "output_type": "execute_result",
          "data": {
            "text/plain": [
              "METHODS        59353\n",
              "RESULTS        57953\n",
              "CONCLUSIONS    27168\n",
              "BACKGROUND     21727\n",
              "OBJECTIVE      13839\n",
              "Name: target, dtype: int64"
            ]
          },
          "metadata": {},
          "execution_count": 15
        }
      ]
    },
    {
      "cell_type": "code",
      "source": [
        "# Let's check the length of different lines\n",
        "train_df.total_lines.plot.hist(figsize=(10,7));"
      ],
      "metadata": {
        "colab": {
          "base_uri": "https://localhost:8080/",
          "height": 428
        },
        "id": "pkzxsWM0QKVl",
        "outputId": "b4f8c5a4-400e-482e-ff3b-9b6bcab92ca5"
      },
      "execution_count": null,
      "outputs": [
        {
          "output_type": "display_data",
          "data": {
            "text/plain": [
              "<Figure size 720x504 with 1 Axes>"
            ],
            "image/png": "[encoded data removed]"
          },
          "metadata": {
            "needs_background": "light"
          }
        }
      ]
    },
    {
      "cell_type": "markdown",
      "source": [
        "Get a list of sentences "
      ],
      "metadata": {
        "id": "4j1WM1cJQYiT"
      }
    },
    {
      "cell_type": "code",
      "source": [
        "# Convert abstract text lines into lists \n",
        "train_sentences = train_df[\"text\"].tolist()\n",
        "val_sentences = val_df[\"text\"].tolist()\n",
        "test_sentences = test_df[\"text\"].tolist()\n",
        "len(train_sentences), len(val_sentences), len(test_sentences)"
      ],
      "metadata": {
        "colab": {
          "base_uri": "https://localhost:8080/"
        },
        "id": "vIqVQYN-QkZe",
        "outputId": "7fef0d88-cd7d-4b7a-bd65-153f28a4689b"
      },
      "execution_count": null,
      "outputs": [
        {
          "output_type": "execute_result",
          "data": {
            "text/plain": [
              "(180040, 30212, 30135)"
            ]
          },
          "metadata": {},
          "execution_count": 17
        }
      ]
    },
    {
      "cell_type": "code",
      "source": [
        "# View the first 10 lines of training sentences\n",
        "train_sentences[:10]"
      ],
      "metadata": {
        "colab": {
          "base_uri": "https://localhost:8080/"
        },
        "id": "01Eu8v3bQxkT",
        "outputId": "0c1a18c0-aa63-4bee-9d92-1dea5334fbac"
      },
      "execution_count": null,
      "outputs": [
        {
          "output_type": "execute_result",
          "data": {
            "text/plain": [
              "['to investigate the efficacy of @ weeks of daily low-dose oral prednisolone in improving pain , mobility , and systemic low-grade inflammation in the short term and whether the effect would be sustained at @ weeks in older adults with moderate to severe knee osteoarthritis ( oa ) .',\n",
              " 'a total of @ patients with primary knee oa were randomized @:@ ; @ received @ mg/day of prednisolone and @ received placebo for @ weeks .',\n",
              " 'outcome measures included pain reduction and improvement in function scores and systemic inflammation markers .',\n",
              " 'pain was assessed using the visual analog pain scale ( @-@ mm ) .',\n",
              " 'secondary outcome measures included the western ontario and mcmaster universities osteoarthritis index scores , patient global assessment ( pga ) of the severity of knee oa , and @-min walk distance ( @mwd ) .',\n",
              " 'serum levels of interleukin @ ( il-@ ) , il-@ , tumor necrosis factor ( tnf ) - , and high-sensitivity c-reactive protein ( hscrp ) were measured .',\n",
              " 'there was a clinically relevant reduction in the intervention group compared to the placebo group for knee pain , physical function , pga , and @mwd at @ weeks .',\n",
              " 'the mean difference between treatment arms ( @ % ci ) was @ ( @-@ @ ) , p < @ ; @ ( @-@ @ ) , p < @ ; @ ( @-@ @ ) , p < @ ; and @ ( @-@ @ ) , p < @ , respectively .',\n",
              " 'further , there was a clinically relevant reduction in the serum levels of il-@ , il-@ , tnf - , and hscrp at @ weeks in the intervention group when compared to the placebo group .',\n",
              " 'these differences remained significant at @ weeks .']"
            ]
          },
          "metadata": {},
          "execution_count": 18
        }
      ]
    },
    {
      "cell_type": "markdown",
      "source": [
        "## Make numeric labels"
      ],
      "metadata": {
        "id": "1xvR8PcjRDCk"
      }
    },
    {
      "cell_type": "code",
      "source": [
        "# One hot encode labels\n",
        "from sklearn.preprocessing import OneHotEncoder\n",
        "one_hot_encoder = OneHotEncoder(sparse=False)"
      ],
      "metadata": {
        "id": "WY02GYAGR7lH"
      },
      "execution_count": null,
      "outputs": []
    },
    {
      "cell_type": "code",
      "source": [
        "train_labels_one_hot = one_hot_encoder.fit_transform(train_df[\"target\"].to_numpy().reshape(-1, 1))\n",
        "val_labels_one_hot = one_hot_encoder.fit_transform(val_df[\"target\"].to_numpy().reshape(-1, 1))\n",
        "test_labels_one_hot = one_hot_encoder.fit_transform(test_df[\"target\"].to_numpy().reshape(-1, 1))"
      ],
      "metadata": {
        "id": "A36LKnLcSLh5"
      },
      "execution_count": null,
      "outputs": []
    },
    {
      "cell_type": "code",
      "source": [
        "import tensorflow as tf\n",
        "tf.constant(train_labels_one_hot)"
      ],
      "metadata": {
        "colab": {
          "base_uri": "https://localhost:8080/"
        },
        "id": "deEAtBPWSgyw",
        "outputId": "b196f635-3807-4b9b-d443-3856b4c3104d"
      },
      "execution_count": null,
      "outputs": [
        {
          "output_type": "execute_result",
          "data": {
            "text/plain": [
              "<tf.Tensor: shape=(180040, 5), dtype=float64, numpy=\n",
              "array([[0., 0., 0., 1., 0.],\n",
              "       [0., 0., 1., 0., 0.],\n",
              "       [0., 0., 1., 0., 0.],\n",
              "       ...,\n",
              "       [0., 0., 0., 0., 1.],\n",
              "       [0., 1., 0., 0., 0.],\n",
              "       [0., 1., 0., 0., 0.]])>"
            ]
          },
          "metadata": {},
          "execution_count": 21
        }
      ]
    },
    {
      "cell_type": "markdown",
      "source": [
        "## Label encode labels"
      ],
      "metadata": {
        "id": "2pxEw3gESxjA"
      }
    },
    {
      "cell_type": "code",
      "source": [
        "# Extract labels (\"target\" columns) and encode them into integers\n",
        "from sklearn.preprocessing import LabelEncoder\n",
        "\n",
        "label_encoder = LabelEncoder()\n",
        "train_labels_encoded = label_encoder.fit_transform(train_df[\"target\"].to_numpy())\n",
        "val_labels_encoded = label_encoder.fit_transform(val_df[\"target\"].to_numpy())\n",
        "test_labels_encoded = label_encoder.fit_transform(test_df[\"target\"].to_numpy())"
      ],
      "metadata": {
        "id": "-yCZ690xTQR5"
      },
      "execution_count": null,
      "outputs": []
    },
    {
      "cell_type": "code",
      "source": [
        "# Get class names and number of classes from LabelEncoder instance\n",
        "num_classes = len(label_encoder.classes_)\n",
        "class_names = label_encoder.classes_\n",
        "num_classes, class_names"
      ],
      "metadata": {
        "colab": {
          "base_uri": "https://localhost:8080/"
        },
        "id": "NArmoUnxTtAD",
        "outputId": "30b17736-d341-46b0-ec27-4bcc5fc9e599"
      },
      "execution_count": null,
      "outputs": [
        {
          "output_type": "execute_result",
          "data": {
            "text/plain": [
              "(5, array(['BACKGROUND', 'CONCLUSIONS', 'METHODS', 'OBJECTIVE', 'RESULTS'],\n",
              "       dtype=object))"
            ]
          },
          "metadata": {},
          "execution_count": 23
        }
      ]
    },
    {
      "cell_type": "markdown",
      "source": [],
      "metadata": {
        "id": "Cl2ItYgQTvOu"
      }
    },
    {
      "cell_type": "markdown",
      "source": [],
      "metadata": {
        "id": "DI2Oz31y99an"
      }
    },
    {
      "cell_type": "markdown",
      "source": [
        "## Starting a series of modelling experiments\n",
        "\n",
        "As usual, we're going to be trying out a bunch of different models and seeing which one works best. We will start with a baseline (tf-idf Multinomial Naive Bayes classifier)\n",
        "\n",
        "</br>\n",
        "\n",
        "### Experiments we are running\n",
        "\n",
        "Experiment | Model\n",
        "-----------|------\n",
        "0 | Naives Bayes with TF-IDF encoder (baseline)\n",
        "1 | Conv1D with token embeddings\n",
        "2 | TensoFlow Hub pretrained feature extractor\n",
        "3 | Conv1D with character embeddings\n",
        "4 | Ptretrained token embeddings (same as 2) + character embeddings (same as 3)\n",
        "5 | Ptretrained token embeddings + character embeddings + positional embeddings\n",
        "\n"
      ],
      "metadata": {
        "id": "6HOrrbJh96bM"
      }
    },
    {
      "cell_type": "markdown",
      "source": [
        "## Model 0: Getting a Baseline"
      ],
      "metadata": {
        "id": "mj2dcX2G9pal"
      }
    },
    {
      "cell_type": "code",
      "source": [
        "from sklearn.naive_bayes import MultinomialNB\n",
        "from sklearn.feature_extraction.text import TfidfVectorizer\n",
        "from sklearn.pipeline import Pipeline\n",
        "\n",
        "# Create tokenization and modelling pipeline\n",
        "model_0 = Pipeline([\n",
        "    (\"tf-idf\", TfidfVectorizer()),\n",
        "    (\"clf\", MultinomialNB())\n",
        "])\n",
        "\n",
        "# Fit the pipeline to the training data\n",
        "model_0.fit(train_sentences, train_labels_encoded)"
      ],
      "metadata": {
        "id": "QM3_PFvB7vUW",
        "colab": {
          "base_uri": "https://localhost:8080/"
        },
        "outputId": "27303b5b-57b5-4966-a0d4-b229e8085b88"
      },
      "execution_count": null,
      "outputs": [
        {
          "output_type": "execute_result",
          "data": {
            "text/plain": [
              "Pipeline(steps=[('tf-idf', TfidfVectorizer()), ('clf', MultinomialNB())])"
            ]
          },
          "metadata": {},
          "execution_count": 24
        }
      ]
    },
    {
      "cell_type": "code",
      "source": [
        "# Evaluate baseline model on validation dataset\n",
        "baseline_score = model_0.score(val_sentences, val_labels_encoded)\n",
        "baseline_score"
      ],
      "metadata": {
        "colab": {
          "base_uri": "https://localhost:8080/"
        },
        "id": "0FavxeCc9NTZ",
        "outputId": "c45686e1-3338-4a36-e2ac-faa8e85ebfdc"
      },
      "execution_count": null,
      "outputs": [
        {
          "output_type": "execute_result",
          "data": {
            "text/plain": [
              "0.7218323844829869"
            ]
          },
          "metadata": {},
          "execution_count": 25
        }
      ]
    },
    {
      "cell_type": "code",
      "source": [
        "# Make some predictions using our baseline model\n",
        "baseline_preds = model_0.predict(val_sentences)\n",
        "baseline_preds"
      ],
      "metadata": {
        "colab": {
          "base_uri": "https://localhost:8080/"
        },
        "id": "W9jljWv2_lVi",
        "outputId": "6afb5282-0006-4db7-c3fa-d2e21437bfa0"
      },
      "execution_count": null,
      "outputs": [
        {
          "output_type": "execute_result",
          "data": {
            "text/plain": [
              "array([4, 1, 3, ..., 4, 4, 1])"
            ]
          },
          "metadata": {},
          "execution_count": 26
        }
      ]
    },
    {
      "cell_type": "markdown",
      "source": [
        "### Download helper function script\n",
        "\n",
        "In th previous module we wrote a function to compare predictions across different metrics (accuracy, precision, recall and f1), and rather than rewriting it here, we'll download it from our helper function script."
      ],
      "metadata": {
        "id": "5cmmWU6L9lcZ"
      }
    },
    {
      "cell_type": "code",
      "source": [
        "!wget https://raw.githubusercontent.com/mrdbourke/tensorflow-deep-learning/main/extras/helper_functions.py"
      ],
      "metadata": {
        "colab": {
          "base_uri": "https://localhost:8080/"
        },
        "id": "cJJBwf_yAIXN",
        "outputId": "193732a4-79b2-4258-db7b-8a43b5508035"
      },
      "execution_count": null,
      "outputs": [
        {
          "output_type": "stream",
          "name": "stdout",
          "text": [
            "--2022-09-02 13:15:00--  https://raw.githubusercontent.com/mrdbourke/tensorflow-deep-learning/main/extras/helper_functions.py\n",
            "Resolving raw.githubusercontent.com (raw.githubusercontent.com)... 185.199.110.133, 185.199.108.133, 185.199.109.133, ...\n",
            "Connecting to raw.githubusercontent.com (raw.githubusercontent.com)|185.199.110.133|:443... connected.\n",
            "HTTP request sent, awaiting response... 200 OK\n",
            "Length: 10246 (10K) [text/plain]\n",
            "Saving to: ‘helper_functions.py’\n",
            "\n",
            "\rhelper_functions.py   0%[                    ]       0  --.-KB/s               \rhelper_functions.py 100%[===================>]  10.01K  --.-KB/s    in 0s      \n",
            "\n",
            "2022-09-02 13:15:00 (85.9 MB/s) - ‘helper_functions.py’ saved [10246/10246]\n",
            "\n"
          ]
        }
      ]
    },
    {
      "cell_type": "code",
      "source": [
        "from helper_functions import calculate_results\n",
        "import numpy as np"
      ],
      "metadata": {
        "id": "aehAPGAwAnuv"
      },
      "execution_count": null,
      "outputs": []
    },
    {
      "cell_type": "code",
      "source": [
        "baseline_results = calculate_results(y_true=val_labels_encoded,\n",
        "                                    y_pred=baseline_preds)\n",
        "\n",
        "baseline_results"
      ],
      "metadata": {
        "colab": {
          "base_uri": "https://localhost:8080/"
        },
        "id": "c8zLEXt5ANMS",
        "outputId": "c66ea8d3-36f7-4cde-828f-1a192da32af1"
      },
      "execution_count": null,
      "outputs": [
        {
          "output_type": "execute_result",
          "data": {
            "text/plain": [
              "{'accuracy': 72.1832384482987,\n",
              " 'precision': 0.7186466952323352,\n",
              " 'recall': 0.7218323844829869,\n",
              " 'f1': 0.6989250353450294}"
            ]
          },
          "metadata": {},
          "execution_count": 29
        }
      ]
    },
    {
      "cell_type": "markdown",
      "source": [
        "## Preparing our data (text) for deep sequence models\n",
        "\n",
        "Before we start building deeper models we've got to create vectorization and embedding layers."
      ],
      "metadata": {
        "id": "Q9ccnlgCJK11"
      }
    },
    {
      "cell_type": "code",
      "source": [
        "# How long is each sentence on average?\n",
        "sent_lens = [len(sentence.split()) for sentence in train_sentences]\n",
        "avg_sent_len = np.mean(sent_lens)\n"
      ],
      "metadata": {
        "id": "tn9IzgpwJ586"
      },
      "execution_count": null,
      "outputs": []
    },
    {
      "cell_type": "code",
      "source": [
        "# What does the distribution look like\n",
        "import matplotlib.pyplot as plt\n",
        "plt.hist(sent_lens, bins=20);"
      ],
      "metadata": {
        "colab": {
          "base_uri": "https://localhost:8080/",
          "height": 265
        },
        "id": "Yn7JrFi5KG_A",
        "outputId": "7008bb87-063f-4494-a55b-c6c30398e8da"
      },
      "execution_count": null,
      "outputs": [
        {
          "output_type": "display_data",
          "data": {
            "text/plain": [
              "<Figure size 432x288 with 1 Axes>"
            ],
            "image/png": "[encoded data removed]"
          },
          "metadata": {
            "needs_background": "light"
          }
        }
      ]
    },
    {
      "cell_type": "code",
      "source": [
        "# How long of a sentence length covers 95% of the data\n",
        "output_seq_len = int(np.percentile(sent_lens, 95))\n",
        "output_seq_len"
      ],
      "metadata": {
        "colab": {
          "base_uri": "https://localhost:8080/"
        },
        "id": "JEoYE5nOKomh",
        "outputId": "000f9180-7987-4d27-8cd1-3cf9443f7b8a"
      },
      "execution_count": null,
      "outputs": [
        {
          "output_type": "execute_result",
          "data": {
            "text/plain": [
              "55"
            ]
          },
          "metadata": {},
          "execution_count": 32
        }
      ]
    },
    {
      "cell_type": "code",
      "source": [
        "# Maximum sequence length in the training set\n",
        "max(sent_lens)"
      ],
      "metadata": {
        "colab": {
          "base_uri": "https://localhost:8080/"
        },
        "id": "VttHSYtXLFaL",
        "outputId": "39fee6c2-dbb8-4f70-8f5c-e1c95b9be46a"
      },
      "execution_count": null,
      "outputs": [
        {
          "output_type": "execute_result",
          "data": {
            "text/plain": [
              "296"
            ]
          },
          "metadata": {},
          "execution_count": 33
        }
      ]
    },
    {
      "cell_type": "markdown",
      "source": [
        "### Create text vectorizer layer\n",
        "\n",
        "We want to make a layer which maps our text from words to numbers."
      ],
      "metadata": {
        "id": "XAkTR-bRYFMp"
      }
    },
    {
      "cell_type": "code",
      "source": [
        "# How many words are in our vocab? (taken from table 2 in https://arxiv.org/pdf/1710.06071.pdf)\n",
        "max_tokens = 68000\n",
        "\n",
        "# We want to define our output sequence in function of the length of a sentence that comprises 95% of the data\n",
        "max_length = output_seq_len"
      ],
      "metadata": {
        "id": "njrmGpBbDahz"
      },
      "execution_count": null,
      "outputs": []
    },
    {
      "cell_type": "code",
      "source": [
        "from tensorflow.keras.layers.experimental.preprocessing import TextVectorization\n",
        "from tensorflow.keras import layers\n",
        "import numpy as np\n"
      ],
      "metadata": {
        "id": "PiO1Gr7-COUz"
      },
      "execution_count": null,
      "outputs": []
    },
    {
      "cell_type": "code",
      "source": [
        "text_vectorizer = TextVectorization(max_tokens=max_tokens,\n",
        "                                    output_sequence_length=max_length)\n",
        "\n",
        "# Adapt text vectorizer to training data\n",
        "text_vectorizer.adapt(train_sentences)"
      ],
      "metadata": {
        "id": "BgMLZZ6rCWzU"
      },
      "execution_count": null,
      "outputs": []
    },
    {
      "cell_type": "code",
      "source": [
        "# Test out text vectorizer on random sentences\n",
        "import random\n",
        "\n",
        "target_sentence = random.choice(train_sentences)\n",
        "print(f\"Text:\\n{target_sentence}\")\n",
        "print(f\"\\nLength of text: {len(target_sentence.split())}\")\n",
        "print(f\"\\nVectorized text:{text_vectorizer([target_sentence])}\")"
      ],
      "metadata": {
        "colab": {
          "base_uri": "https://localhost:8080/"
        },
        "id": "t0MSzHbnabvL",
        "outputId": "6f987cc3-c669-4cf1-b5d7-75266a3821f2"
      },
      "execution_count": null,
      "outputs": [
        {
          "output_type": "stream",
          "name": "stdout",
          "text": [
            "Text:\n",
            "we aimed to study the biological mechanisms underlying the observed non-specific and sex-differential effects of mv on mortality .\n",
            "\n",
            "Length of text: 19\n",
            "\n",
            "Vectorized text:[[   43   447     6    17     2  2568  1146  1727     2   148  3596     3\n",
            "  34467    71     4  4151    18   259     0     0     0     0     0     0\n",
            "      0     0     0     0     0     0     0     0     0     0     0     0\n",
            "      0     0     0     0     0     0     0     0     0     0     0     0\n",
            "      0     0     0     0     0     0     0]]\n"
          ]
        }
      ]
    },
    {
      "cell_type": "code",
      "source": [
        "# How many words in our training vocabulary\n",
        "rct_20k_text_vocab = text_vectorizer.get_vocabulary()\n",
        "print(f\"Number of words in vocab: {len(rct_20k_text_vocab)}\")\n",
        "print(f\"Most common words in the vocab: {rct_20k_text_vocab[:5]}\")\n",
        "print(f\"Least common words in the vocab: {rct_20k_text_vocab[-5:]}\")"
      ],
      "metadata": {
        "colab": {
          "base_uri": "https://localhost:8080/"
        },
        "id": "vbZZLTzFbiAh",
        "outputId": "f104f4b5-6993-4dd2-9868-836111dec408"
      },
      "execution_count": null,
      "outputs": [
        {
          "output_type": "stream",
          "name": "stdout",
          "text": [
            "Number of words in vocab: 64841\n",
            "Most common words in the vocab: ['', '[UNK]', 'the', 'and', 'of']\n",
            "Least common words in the vocab: ['aainduced', 'aaigroup', 'aachener', 'aachen', 'aaacp']\n"
          ]
        }
      ]
    },
    {
      "cell_type": "code",
      "source": [
        "# Get the config of our text vectorizer\n",
        "text_vectorizer.get_config()"
      ],
      "metadata": {
        "colab": {
          "base_uri": "https://localhost:8080/"
        },
        "id": "JtbAyvwfce4T",
        "outputId": "52c7b2b6-ca8a-41bf-ef1b-47f61d6f9991"
      },
      "execution_count": null,
      "outputs": [
        {
          "output_type": "execute_result",
          "data": {
            "text/plain": [
              "{'name': 'text_vectorization',\n",
              " 'trainable': True,\n",
              " 'batch_input_shape': (None,),\n",
              " 'dtype': 'string',\n",
              " 'max_tokens': 68000,\n",
              " 'standardize': 'lower_and_strip_punctuation',\n",
              " 'split': 'whitespace',\n",
              " 'ngrams': None,\n",
              " 'output_mode': 'int',\n",
              " 'output_sequence_length': 55,\n",
              " 'pad_to_max_tokens': False,\n",
              " 'sparse': False,\n",
              " 'ragged': False,\n",
              " 'vocabulary': None,\n",
              " 'idf_weights': None}"
            ]
          },
          "metadata": {},
          "execution_count": 39
        }
      ]
    },
    {
      "cell_type": "markdown",
      "source": [
        "### Create custom text embedding"
      ],
      "metadata": {
        "id": "VZNrRirX107K"
      }
    },
    {
      "cell_type": "code",
      "source": [
        "# Create token embedding layer\n",
        "token_embed = layers.Embedding(input_dim=len(rct_20k_text_vocab),\n",
        "                               output_dim=128,\n",
        "                               mask_zero=True,\n",
        "                               name=\"token_embedding\")"
      ],
      "metadata": {
        "id": "hrwoJpct13Uv"
      },
      "execution_count": null,
      "outputs": []
    },
    {
      "cell_type": "markdown",
      "source": [
        "> **Note -** Different embedding sizes result in drastically different numbers of parameters to train"
      ],
      "metadata": {
        "id": "YTFiUrYL2LrN"
      }
    },
    {
      "cell_type": "code",
      "source": [
        "# Show example embedding\n",
        "print(f\"Sentence before vectorization:\\n {target_sentence}\\n\")\n",
        "vectorized_sentence = text_vectorizer([target_sentence])\n",
        "print(f\"Sentence after vectorization (before embedding):\\n {vectorized_sentence}\\n\")\n",
        "embedded_sentence = token_embed(vectorized_sentence)\n",
        "print(f\"Sentence after embedding:\\n {embedded_sentence}\\n\")\n",
        "print(f\"Embedded sentence shape: {embedded_sentence.shape}\")"
      ],
      "metadata": {
        "colab": {
          "base_uri": "https://localhost:8080/"
        },
        "id": "ejUG9JN8241o",
        "outputId": "d0f175e6-5534-46cc-86a8-3a2afdb00635"
      },
      "execution_count": null,
      "outputs": [
        {
          "output_type": "stream",
          "name": "stdout",
          "text": [
            "Sentence before vectorization:\n",
            " we aimed to study the biological mechanisms underlying the observed non-specific and sex-differential effects of mv on mortality .\n",
            "\n",
            "Sentence after vectorization (before embedding):\n",
            " [[   43   447     6    17     2  2568  1146  1727     2   148  3596     3\n",
            "  34467    71     4  4151    18   259     0     0     0     0     0     0\n",
            "      0     0     0     0     0     0     0     0     0     0     0     0\n",
            "      0     0     0     0     0     0     0     0     0     0     0     0\n",
            "      0     0     0     0     0     0     0]]\n",
            "\n",
            "Sentence after embedding:\n",
            " [[[ 0.00062119 -0.03142854  0.02430857 ...  0.03305245 -0.02477524\n",
            "   -0.01680168]\n",
            "  [-0.03211762 -0.01709378 -0.01400031 ...  0.01988602 -0.02217555\n",
            "   -0.00424279]\n",
            "  [-0.01499524  0.04197704 -0.01639783 ... -0.02560095  0.02019832\n",
            "    0.04539566]\n",
            "  ...\n",
            "  [-0.02504718 -0.03423636  0.03337474 ...  0.04061583 -0.04273217\n",
            "   -0.01341403]\n",
            "  [-0.02504718 -0.03423636  0.03337474 ...  0.04061583 -0.04273217\n",
            "   -0.01341403]\n",
            "  [-0.02504718 -0.03423636  0.03337474 ...  0.04061583 -0.04273217\n",
            "   -0.01341403]]]\n",
            "\n",
            "Embedded sentence shape: (1, 55, 128)\n"
          ]
        }
      ]
    },
    {
      "cell_type": "markdown",
      "source": [
        "## Creating datasets (making sure our data loads as fast as possible)\n",
        "\n",
        "We're going to setup our data to run as fast as possible with the TensorFlow tf.data API, many of the steps here are discussed at length in:\n",
        "\n",
        "* [Tensorflow data performance](https://www.tensorflow.org/guide/data_performance)\n",
        "* [Tensorflow data guide](https://www.tensorflow.org/guide/data)"
      ],
      "metadata": {
        "id": "aZ0p0E_54WDq"
      }
    },
    {
      "cell_type": "code",
      "source": [
        "# Turn our dataset into TensorFlow Datasets\n",
        "train_dataset = tf.data.Dataset.from_tensor_slices((train_sentences, train_labels_one_hot))\n",
        "valid_dataset = tf.data.Dataset.from_tensor_slices((val_sentences, val_labels_one_hot))\n",
        "test_dataset = tf.data.Dataset.from_tensor_slices((test_sentences, test_labels_one_hot))\n",
        "train_dataset"
      ],
      "metadata": {
        "colab": {
          "base_uri": "https://localhost:8080/"
        },
        "id": "ygMa4nXN6Dxq",
        "outputId": "19a3d23d-27bd-4c49-b7e8-7c38851a7c49"
      },
      "execution_count": null,
      "outputs": [
        {
          "output_type": "execute_result",
          "data": {
            "text/plain": [
              "<TensorSliceDataset element_spec=(TensorSpec(shape=(), dtype=tf.string, name=None), TensorSpec(shape=(5,), dtype=tf.float64, name=None))>"
            ]
          },
          "metadata": {},
          "execution_count": 42
        }
      ]
    },
    {
      "cell_type": "code",
      "source": [
        "train_dataset = train_dataset.batch(32).prefetch(tf.data.AUTOTUNE)\n",
        "valid_dataset = valid_dataset.batch(32).prefetch(tf.data.AUTOTUNE)\n",
        "test_datast = valid_dataset.batch(32).prefetch(tf.data.AUTOTUNE)\n",
        "\n",
        "train_dataset"
      ],
      "metadata": {
        "colab": {
          "base_uri": "https://localhost:8080/"
        },
        "id": "bWsV6ukC6iKq",
        "outputId": "8eff5f0b-479b-4007-9fc4-b1f3e8f42bac"
      },
      "execution_count": null,
      "outputs": [
        {
          "output_type": "execute_result",
          "data": {
            "text/plain": [
              "<PrefetchDataset element_spec=(TensorSpec(shape=(None,), dtype=tf.string, name=None), TensorSpec(shape=(None, 5), dtype=tf.float64, name=None))>"
            ]
          },
          "metadata": {},
          "execution_count": 43
        }
      ]
    },
    {
      "cell_type": "markdown",
      "source": [
        "## Model 1: Conv1D with token embeddings"
      ],
      "metadata": {
        "id": "83NHd6y5AURy"
      }
    },
    {
      "cell_type": "code",
      "source": [
        "from helper_functions import create_tensorboard_callback\n",
        "\n",
        "SAVE_DIR = \"SkimLit-logs\"\n",
        "num_classes"
      ],
      "metadata": {
        "colab": {
          "base_uri": "https://localhost:8080/"
        },
        "id": "GHJxtMQyGRiQ",
        "outputId": "30c0ffc6-8e7a-431d-e64a-6ea87f5a81ff"
      },
      "execution_count": null,
      "outputs": [
        {
          "output_type": "execute_result",
          "data": {
            "text/plain": [
              "5"
            ]
          },
          "metadata": {},
          "execution_count": 44
        }
      ]
    },
    {
      "cell_type": "code",
      "source": [
        "# Create model_1\n",
        "inputs = layers.Input(shape=(1,), dtype=tf.string)\n",
        "text_vectors = text_vectorizer(inputs)\n",
        "token_embeddings = token_embed(text_vectors)\n",
        "x = layers.Conv1D(64, 5, activation=\"relu\", padding=\"same\", name=\"conv_1D_layer\")(token_embeddings)\n",
        "x = layers.GlobalAveragePooling1D()(x)\n",
        "outputs = layers.Dense(num_classes, activation=\"softmax\")(x)\n",
        "model_1 = tf.keras.Model(inputs, outputs, name=\"model_1_dense\")\n",
        "model_1.summary()"
      ],
      "metadata": {
        "colab": {
          "base_uri": "https://localhost:8080/"
        },
        "id": "4RQgZO7ZEq0b",
        "outputId": "7abbf9af-bf56-4e52-a1ad-4e0a9c568def"
      },
      "execution_count": null,
      "outputs": [
        {
          "output_type": "stream",
          "name": "stdout",
          "text": [
            "Model: \"model_1_dense\"\n",
            "_________________________________________________________________\n",
            " Layer (type)                Output Shape              Param #   \n",
            "=================================================================\n",
            " input_1 (InputLayer)        [(None, 1)]               0         \n",
            "                                                                 \n",
            " text_vectorization (TextVec  (None, 55)               0         \n",
            " torization)                                                     \n",
            "                                                                 \n",
            " token_embedding (Embedding)  (None, 55, 128)          8299648   \n",
            "                                                                 \n",
            " conv_1D_layer (Conv1D)      (None, 55, 64)            41024     \n",
            "                                                                 \n",
            " global_average_pooling1d (G  (None, 64)               0         \n",
            " lobalAveragePooling1D)                                          \n",
            "                                                                 \n",
            " dense (Dense)               (None, 5)                 325       \n",
            "                                                                 \n",
            "=================================================================\n",
            "Total params: 8,340,997\n",
            "Trainable params: 8,340,997\n",
            "Non-trainable params: 0\n",
            "_________________________________________________________________\n"
          ]
        }
      ]
    },
    {
      "cell_type": "code",
      "source": [
        "model_1.compile(loss=\"categorical_crossentropy\",\n",
        "                optimizer=tf.keras.optimizers.Adam(),\n",
        "                metrics=[\"accuracy\"])"
      ],
      "metadata": {
        "id": "-Q9dp2ebFVCf"
      },
      "execution_count": null,
      "outputs": []
    },
    {
      "cell_type": "code",
      "source": [
        "model_1_history = model_1.fit(train_dataset,\n",
        "                              validation_data = valid_dataset,\n",
        "                              epochs=3,\n",
        "                              batch_size=32,\n",
        "                              steps_per_epoch=int(0.1*len(train_dataset)),\n",
        "                              validation_steps=int(0.1*len(valid_dataset)),\n",
        "                              callbacks=[create_tensorboard_callback(SAVE_DIR,\n",
        "                                                                     \"model_1_tok_emb_conv1d\")])"
      ],
      "metadata": {
        "colab": {
          "base_uri": "https://localhost:8080/"
        },
        "id": "YwRFKo1mGA3B",
        "outputId": "66903cbf-d182-477c-9a74-76c16e955a93"
      },
      "execution_count": null,
      "outputs": [
        {
          "output_type": "stream",
          "name": "stdout",
          "text": [
            "Saving TensorBoard log files to: SkimLit-logs/model_1_tok_emb_conv1d/20220902-131514\n",
            "Epoch 1/3\n",
            "562/562 [==============================] - 16s 9ms/step - loss: 0.9178 - accuracy: 0.6363 - val_loss: 0.6838 - val_accuracy: 0.7384\n",
            "Epoch 2/3\n",
            "562/562 [==============================] - 4s 8ms/step - loss: 0.6600 - accuracy: 0.7538 - val_loss: 0.6335 - val_accuracy: 0.7699\n",
            "Epoch 3/3\n",
            "562/562 [==============================] - 4s 8ms/step - loss: 0.6185 - accuracy: 0.7735 - val_loss: 0.5980 - val_accuracy: 0.7836\n"
          ]
        }
      ]
    },
    {
      "cell_type": "code",
      "source": [
        "# Evaluate on whole validation dataset\n",
        "model_1.evaluate(valid_dataset)"
      ],
      "metadata": {
        "id": "l5fYgnDKGz0f",
        "colab": {
          "base_uri": "https://localhost:8080/"
        },
        "outputId": "023641ca-edb1-43ff-dd66-6c9568079c5d"
      },
      "execution_count": null,
      "outputs": [
        {
          "output_type": "stream",
          "name": "stdout",
          "text": [
            "945/945 [==============================] - 3s 3ms/step - loss: 0.6008 - accuracy: 0.7869\n"
          ]
        },
        {
          "output_type": "execute_result",
          "data": {
            "text/plain": [
              "[0.6008138060569763, 0.7869058847427368]"
            ]
          },
          "metadata": {},
          "execution_count": 48
        }
      ]
    },
    {
      "cell_type": "code",
      "source": [
        "# Make predictions (our model predicts prediction probabilitiesfor each class)\n",
        "model_1_pred_probs = model_1.predict(valid_dataset)\n"
      ],
      "metadata": {
        "id": "-_mfuk9dB1HZ"
      },
      "execution_count": null,
      "outputs": []
    },
    {
      "cell_type": "code",
      "source": [
        "# Convert pred probs to classes\n",
        "model_1_preds = tf.argmax(model_1_pred_probs,axis=1)\n",
        "model_1_preds"
      ],
      "metadata": {
        "id": "HyYYC69FB_Ln",
        "colab": {
          "base_uri": "https://localhost:8080/"
        },
        "outputId": "874c2231-c72a-4d63-e588-0f9653f2d483"
      },
      "execution_count": null,
      "outputs": [
        {
          "output_type": "execute_result",
          "data": {
            "text/plain": [
              "<tf.Tensor: shape=(30212,), dtype=int64, numpy=array([0, 0, 3, ..., 4, 1, 1])>"
            ]
          },
          "metadata": {},
          "execution_count": 50
        }
      ]
    },
    {
      "cell_type": "code",
      "source": [
        "class_names"
      ],
      "metadata": {
        "id": "DBp-qmiZDpzw",
        "colab": {
          "base_uri": "https://localhost:8080/"
        },
        "outputId": "b5cd4fcc-362c-4125-86d4-33d3d013f8f5"
      },
      "execution_count": null,
      "outputs": [
        {
          "output_type": "execute_result",
          "data": {
            "text/plain": [
              "array(['BACKGROUND', 'CONCLUSIONS', 'METHODS', 'OBJECTIVE', 'RESULTS'],\n",
              "      dtype=object)"
            ]
          },
          "metadata": {},
          "execution_count": 51
        }
      ]
    },
    {
      "cell_type": "code",
      "source": [
        "# Calculate model_1 results\n",
        "model_1_results = calculate_results(y_true=val_labels_encoded,\n",
        "                                    y_pred=model_1_preds)\n",
        "model_1_results"
      ],
      "metadata": {
        "id": "NnOQmd7KDspC",
        "colab": {
          "base_uri": "https://localhost:8080/"
        },
        "outputId": "935131e5-3368-424a-860e-74f05a17bb89"
      },
      "execution_count": null,
      "outputs": [
        {
          "output_type": "execute_result",
          "data": {
            "text/plain": [
              "{'accuracy': 78.69058652191183,\n",
              " 'precision': 0.7843663132327271,\n",
              " 'recall': 0.7869058652191182,\n",
              " 'f1': 0.7846051747404235}"
            ]
          },
          "metadata": {},
          "execution_count": 52
        }
      ]
    },
    {
      "cell_type": "code",
      "source": [
        "baseline_results"
      ],
      "metadata": {
        "id": "DWSXQJ0hD3Lj",
        "colab": {
          "base_uri": "https://localhost:8080/"
        },
        "outputId": "f2b975b9-78e7-428b-ec6c-995c7e081854"
      },
      "execution_count": null,
      "outputs": [
        {
          "output_type": "execute_result",
          "data": {
            "text/plain": [
              "{'accuracy': 72.1832384482987,\n",
              " 'precision': 0.7186466952323352,\n",
              " 'recall': 0.7218323844829869,\n",
              " 'f1': 0.6989250353450294}"
            ]
          },
          "metadata": {},
          "execution_count": 53
        }
      ]
    },
    {
      "cell_type": "markdown",
      "source": [
        "## Model 2: Feature extraction with pretrained token embeddings\n",
        "\n",
        "Now let's use pretrained word embedings from Tensorflow Hub, the Universal Sentence Encoder. The paper originally used GloVe embeddings, however, we're going to stick with the later created USE pretrained embeddings."
      ],
      "metadata": {
        "id": "c_3OFp-IbMNw"
      }
    },
    {
      "cell_type": "code",
      "source": [
        "import tensorflow_hub as hub\n",
        "\n",
        "model_url = \"https://tfhub.dev/google/universal-sentence-encoder/4\"\n",
        "tf_hub_embedding_layer = hub.KerasLayer(model_url,\n",
        "                                        trainable=False,\n",
        "                                        input_shape=[],\n",
        "                                        name=\"universal_sentence_encoder\")"
      ],
      "metadata": {
        "id": "EUKtByq6D32M"
      },
      "execution_count": null,
      "outputs": []
    },
    {
      "cell_type": "code",
      "source": [
        "# Test out the pretrained embedding on a random sentence\n",
        "random_train_sentence = random.choice(train_sentences)\n",
        "print(f\"Random sentence:\\n {random_train_sentence}\")\n",
        "use_embedding_sentence = tf_hub_embedding_layer([random_train_sentence])\n",
        "print(f\"Sentence after embedding:\\n {use_embedding_sentence[0][:30]}\\n\")\n",
        "print(f\"Length of sentence embedding: {len(use_embedding_sentence[0])}\")"
      ],
      "metadata": {
        "id": "azjyFtrXFoRM",
        "colab": {
          "base_uri": "https://localhost:8080/"
        },
        "outputId": "2e454af8-8d57-421d-e3cb-a66e3ca15c1c"
      },
      "execution_count": null,
      "outputs": [
        {
          "output_type": "stream",
          "name": "stdout",
          "text": [
            "Random sentence:\n",
            " the ai group received daily step goals that adjusted up and down based on the percentile-rank algorithm and micro-incentives for goal attainment .\n",
            "Sentence after embedding:\n",
            " [ 0.02303653 -0.08536497 -0.05828969  0.01210292  0.0144826   0.0095885\n",
            " -0.0707818   0.03393736 -0.04980762  0.06610805 -0.0549765   0.02647267\n",
            " -0.03450971 -0.01925569  0.03208711  0.05225488  0.01386639  0.03514696\n",
            " -0.0217395  -0.01991754 -0.05165051  0.07753915  0.02340977  0.01814729\n",
            "  0.05881762 -0.03793885  0.01448446  0.03723347 -0.0474131   0.05763552]\n",
            "\n",
            "Length of sentence embedding: 512\n"
          ]
        }
      ]
    },
    {
      "cell_type": "markdown",
      "source": [
        "## Building and fitting an NLP feature extraction model using pretrained embeddings TensorFlow Hub\n",
        "\n",
        "\n",
        "\n"
      ],
      "metadata": {
        "id": "QMBQZ3S0hjZY"
      }
    },
    {
      "cell_type": "code",
      "source": [
        "inputs = layers.Input(shape=[], dtype=tf.string)\n",
        "pretrained_embedding = tf_hub_embedding_layer(inputs)\n",
        "x = layers.Dense(128, activation=\"relu\")(pretrained_embedding)\n",
        "# Note: We could add more layers here if we wanted to\n",
        "outputs = layers.Dense(num_classes, activation=\"softmax\")(x)\n",
        "\n",
        "model_2 = tf.keras.Model(inputs,outputs, name=\"model_2_USE_feature_extractor\")\n",
        "\n",
        "# Compile model\n",
        "model_2.compile(loss=\"categorical_crossentropy\",\n",
        "                optimizer=tf.keras.optimizers.Adam(),\n",
        "                metrics=[\"accuracy\"])\n",
        "\n",
        "# Summary\n",
        "model_2.summary()"
      ],
      "metadata": {
        "id": "5d5QrvHvoeJK",
        "colab": {
          "base_uri": "https://localhost:8080/"
        },
        "outputId": "5fcd2f7d-01ed-4eb5-a11b-cb448503c554"
      },
      "execution_count": null,
      "outputs": [
        {
          "output_type": "stream",
          "name": "stdout",
          "text": [
            "Model: \"model_2_USE_feature_extractor\"\n",
            "_________________________________________________________________\n",
            " Layer (type)                Output Shape              Param #   \n",
            "=================================================================\n",
            " input_2 (InputLayer)        [(None,)]                 0         \n",
            "                                                                 \n",
            " universal_sentence_encoder   (None, 512)              256797824 \n",
            " (KerasLayer)                                                    \n",
            "                                                                 \n",
            " dense_1 (Dense)             (None, 128)               65664     \n",
            "                                                                 \n",
            " dense_2 (Dense)             (None, 5)                 645       \n",
            "                                                                 \n",
            "=================================================================\n",
            "Total params: 256,864,133\n",
            "Trainable params: 66,309\n",
            "Non-trainable params: 256,797,824\n",
            "_________________________________________________________________\n"
          ]
        }
      ]
    },
    {
      "cell_type": "code",
      "source": [
        "# Fit model_2 to the data\n",
        "history_model_2 = model_2.fit(train_dataset,\n",
        "                              epochs=3,\n",
        "                              steps_per_epoch=int(0.1*len(train_dataset)),\n",
        "                              validation_data=valid_dataset,\n",
        "                              validation_steps=int(0.1*len(valid_dataset)))"
      ],
      "metadata": {
        "id": "Ef8cvhJ_odIF",
        "colab": {
          "base_uri": "https://localhost:8080/"
        },
        "outputId": "6884915e-c79b-4d76-8841-882c07c5ad09"
      },
      "execution_count": null,
      "outputs": [
        {
          "output_type": "stream",
          "name": "stdout",
          "text": [
            "Epoch 1/3\n",
            "562/562 [==============================] - 9s 12ms/step - loss: 0.9165 - accuracy: 0.6515 - val_loss: 0.7938 - val_accuracy: 0.6902\n",
            "Epoch 2/3\n",
            "562/562 [==============================] - 8s 14ms/step - loss: 0.7679 - accuracy: 0.7022 - val_loss: 0.7521 - val_accuracy: 0.7064\n",
            "Epoch 3/3\n",
            "562/562 [==============================] - 6s 11ms/step - loss: 0.7509 - accuracy: 0.7132 - val_loss: 0.7373 - val_accuracy: 0.7138\n"
          ]
        }
      ]
    },
    {
      "cell_type": "code",
      "source": [
        "# Evaluate on the whole validation dataset\n",
        "model_2.evaluate(valid_dataset)"
      ],
      "metadata": {
        "id": "TKuSe5jgnEM4",
        "colab": {
          "base_uri": "https://localhost:8080/"
        },
        "outputId": "9f6ae85f-0d16-4297-a138-796a7e5a99d7"
      },
      "execution_count": null,
      "outputs": [
        {
          "output_type": "stream",
          "name": "stdout",
          "text": [
            "945/945 [==============================] - 9s 9ms/step - loss: 0.7408 - accuracy: 0.7136\n"
          ]
        },
        {
          "output_type": "execute_result",
          "data": {
            "text/plain": [
              "[0.7408214807510376, 0.7136237025260925]"
            ]
          },
          "metadata": {},
          "execution_count": 58
        }
      ]
    },
    {
      "cell_type": "code",
      "source": [
        "# Make some predictions with our feature extraction model\n",
        "model_2_pred_probs = model_2.predict(valid_dataset)\n",
        "model_2_pred_probs"
      ],
      "metadata": {
        "id": "_t2K7iDLq0MP",
        "colab": {
          "base_uri": "https://localhost:8080/"
        },
        "outputId": "fcbee775-4d13-489e-e3c8-7dca7132e0a8"
      },
      "execution_count": null,
      "outputs": [
        {
          "output_type": "execute_result",
          "data": {
            "text/plain": [
              "array([[4.3776235e-01, 3.6899605e-01, 2.2093256e-03, 1.8245685e-01,\n",
              "        8.5753733e-03],\n",
              "       [3.4539071e-01, 5.0932229e-01, 3.9731986e-03, 1.3806511e-01,\n",
              "        3.2487193e-03],\n",
              "       [2.6070839e-01, 1.2991656e-01, 1.5564041e-02, 5.5917025e-01,\n",
              "        3.4640770e-02],\n",
              "       ...,\n",
              "       [1.9012148e-03, 6.0502882e-03, 5.4427002e-02, 7.1271730e-04,\n",
              "        9.3690878e-01],\n",
              "       [3.8661987e-03, 5.1953163e-02, 2.0950471e-01, 1.2304430e-03,\n",
              "        7.3344547e-01],\n",
              "       [1.7550883e-01, 2.4970061e-01, 5.1508301e-01, 7.9808049e-03,\n",
              "        5.1726691e-02]], dtype=float32)"
            ]
          },
          "metadata": {},
          "execution_count": 59
        }
      ]
    },
    {
      "cell_type": "code",
      "source": [
        "model_2_preds = tf.argmax(model_2_pred_probs, axis=1)\n",
        "model_2_preds"
      ],
      "metadata": {
        "id": "-ijo_c87q6wN",
        "colab": {
          "base_uri": "https://localhost:8080/"
        },
        "outputId": "c6cd3768-caa0-46ef-d028-8bc22d90a16a"
      },
      "execution_count": null,
      "outputs": [
        {
          "output_type": "execute_result",
          "data": {
            "text/plain": [
              "<tf.Tensor: shape=(30212,), dtype=int64, numpy=array([0, 1, 3, ..., 4, 4, 2])>"
            ]
          },
          "metadata": {},
          "execution_count": 60
        }
      ]
    },
    {
      "cell_type": "code",
      "source": [
        "# Calculate results from TF Hub pretrained embeddings results on valid dataset\n",
        "model_2_results = calculate_results(y_true=val_labels_encoded,\n",
        "                                    y_pred=model_2_preds)\n",
        "model_2_results"
      ],
      "metadata": {
        "id": "I1Bup3dJq_tp",
        "colab": {
          "base_uri": "https://localhost:8080/"
        },
        "outputId": "5dae464a-8185-4d5e-d347-936cbef14b2e"
      },
      "execution_count": null,
      "outputs": [
        {
          "output_type": "execute_result",
          "data": {
            "text/plain": [
              "{'accuracy': 71.36237256719184,\n",
              " 'precision': 0.7136590921996385,\n",
              " 'recall': 0.7136237256719185,\n",
              " 'f1': 0.7107339922132457}"
            ]
          },
          "metadata": {},
          "execution_count": 61
        }
      ]
    },
    {
      "cell_type": "code",
      "source": [
        "baseline_results"
      ],
      "metadata": {
        "id": "AOXtB2mOrS_N",
        "colab": {
          "base_uri": "https://localhost:8080/"
        },
        "outputId": "8a83615e-15bc-476e-b71e-c299f18af7ab"
      },
      "execution_count": null,
      "outputs": [
        {
          "output_type": "execute_result",
          "data": {
            "text/plain": [
              "{'accuracy': 72.1832384482987,\n",
              " 'precision': 0.7186466952323352,\n",
              " 'recall': 0.7218323844829869,\n",
              " 'f1': 0.6989250353450294}"
            ]
          },
          "metadata": {},
          "execution_count": 62
        }
      ]
    },
    {
      "cell_type": "markdown",
      "source": [
        "## Model 3: Conv1D with character embeddings\n",
        "\n",
        "The paper which we're replicating states they used a combination of token and character embeddings. Previously we've made token-level embeddings but we'll need to do similar steps for characters if we want to do char-level embeddings "
      ],
      "metadata": {
        "id": "RYcbDuJqrTu2"
      }
    },
    {
      "cell_type": "markdown",
      "source": [
        "### Creating a character-level tokenizer"
      ],
      "metadata": {
        "id": "mrYvU-n2HxpX"
      }
    },
    {
      "cell_type": "code",
      "source": [
        "train_sentences[:5]"
      ],
      "metadata": {
        "id": "SW1B5jCLIYG8",
        "colab": {
          "base_uri": "https://localhost:8080/"
        },
        "outputId": "f87eb6ac-92d9-4637-b7ba-a53d95fbb62e"
      },
      "execution_count": null,
      "outputs": [
        {
          "output_type": "execute_result",
          "data": {
            "text/plain": [
              "['to investigate the efficacy of @ weeks of daily low-dose oral prednisolone in improving pain , mobility , and systemic low-grade inflammation in the short term and whether the effect would be sustained at @ weeks in older adults with moderate to severe knee osteoarthritis ( oa ) .',\n",
              " 'a total of @ patients with primary knee oa were randomized @:@ ; @ received @ mg/day of prednisolone and @ received placebo for @ weeks .',\n",
              " 'outcome measures included pain reduction and improvement in function scores and systemic inflammation markers .',\n",
              " 'pain was assessed using the visual analog pain scale ( @-@ mm ) .',\n",
              " 'secondary outcome measures included the western ontario and mcmaster universities osteoarthritis index scores , patient global assessment ( pga ) of the severity of knee oa , and @-min walk distance ( @mwd ) .']"
            ]
          },
          "metadata": {},
          "execution_count": 63
        }
      ]
    },
    {
      "cell_type": "code",
      "source": [
        "# Make function to split sentences into characters\n",
        "def split_chars(text):\n",
        "  return \" \".join(list(text))\n",
        "\n",
        "# TExt splitting non-character'level sequence into characters\n",
        "\n",
        "split_chars(random_train_sentence)"
      ],
      "metadata": {
        "colab": {
          "base_uri": "https://localhost:8080/",
          "height": 53
        },
        "id": "fkf73wxWIYsu",
        "outputId": "f710e1ff-c542-41c9-e5a2-78361f90542e"
      },
      "execution_count": null,
      "outputs": [
        {
          "output_type": "execute_result",
          "data": {
            "text/plain": [
              "'t h e   a i   g r o u p   r e c e i v e d   d a i l y   s t e p   g o a l s   t h a t   a d j u s t e d   u p   a n d   d o w n   b a s e d   o n   t h e   p e r c e n t i l e - r a n k   a l g o r i t h m   a n d   m i c r o - i n c e n t i v e s   f o r   g o a l   a t t a i n m e n t   .'"
            ],
            "application/vnd.google.colaboratory.intrinsic+json": {
              "type": "string"
            }
          },
          "metadata": {},
          "execution_count": 64
        }
      ]
    },
    {
      "cell_type": "code",
      "source": [
        "# Split sequence-level data splits into character-level data splits\n",
        "train_chars = [split_chars(sentence) for sentence in train_sentences]\n",
        "val_chars = [split_chars(sentence) for sentence in val_sentences]\n",
        "test_chars = [split_chars(sentence) for sentence in test_sentences]\n",
        "train_chars[:5]"
      ],
      "metadata": {
        "colab": {
          "base_uri": "https://localhost:8080/"
        },
        "id": "lWKEqNJaIuTB",
        "outputId": "72781851-63a7-4e76-f890-7e7da3cc5736"
      },
      "execution_count": null,
      "outputs": [
        {
          "output_type": "execute_result",
          "data": {
            "text/plain": [
              "['t o   i n v e s t i g a t e   t h e   e f f i c a c y   o f   @   w e e k s   o f   d a i l y   l o w - d o s e   o r a l   p r e d n i s o l o n e   i n   i m p r o v i n g   p a i n   ,   m o b i l i t y   ,   a n d   s y s t e m i c   l o w - g r a d e   i n f l a m m a t i o n   i n   t h e   s h o r t   t e r m   a n d   w h e t h e r   t h e   e f f e c t   w o u l d   b e   s u s t a i n e d   a t   @   w e e k s   i n   o l d e r   a d u l t s   w i t h   m o d e r a t e   t o   s e v e r e   k n e e   o s t e o a r t h r i t i s   (   o a   )   .',\n",
              " 'a   t o t a l   o f   @   p a t i e n t s   w i t h   p r i m a r y   k n e e   o a   w e r e   r a n d o m i z e d   @ : @   ;   @   r e c e i v e d   @   m g / d a y   o f   p r e d n i s o l o n e   a n d   @   r e c e i v e d   p l a c e b o   f o r   @   w e e k s   .',\n",
              " 'o u t c o m e   m e a s u r e s   i n c l u d e d   p a i n   r e d u c t i o n   a n d   i m p r o v e m e n t   i n   f u n c t i o n   s c o r e s   a n d   s y s t e m i c   i n f l a m m a t i o n   m a r k e r s   .',\n",
              " 'p a i n   w a s   a s s e s s e d   u s i n g   t h e   v i s u a l   a n a l o g   p a i n   s c a l e   (   @ - @   m m   )   .',\n",
              " 's e c o n d a r y   o u t c o m e   m e a s u r e s   i n c l u d e d   t h e   w e s t e r n   o n t a r i o   a n d   m c m a s t e r   u n i v e r s i t i e s   o s t e o a r t h r i t i s   i n d e x   s c o r e s   ,   p a t i e n t   g l o b a l   a s s e s s m e n t   (   p g a   )   o f   t h e   s e v e r i t y   o f   k n e e   o a   ,   a n d   @ - m i n   w a l k   d i s t a n c e   (   @ m w d   )   .']"
            ]
          },
          "metadata": {},
          "execution_count": 65
        }
      ]
    },
    {
      "cell_type": "code",
      "source": [
        "# What's the average character length?\n",
        "char_lens = [len(sentence) for sentence in train_sentences]\n",
        "mean_char_len = np.mean(char_lens)\n",
        "mean_char_len"
      ],
      "metadata": {
        "colab": {
          "base_uri": "https://localhost:8080/"
        },
        "id": "8hWqTFRRJFD0",
        "outputId": "2e5cd780-6367-48d6-c420-e95ac288017a"
      },
      "execution_count": null,
      "outputs": [
        {
          "output_type": "execute_result",
          "data": {
            "text/plain": [
              "149.3662574983337"
            ]
          },
          "metadata": {},
          "execution_count": 66
        }
      ]
    },
    {
      "cell_type": "code",
      "source": [
        "# Check the distribution of our sequences at a character-level\n",
        "plt.hist(char_lens, bins=7);"
      ],
      "metadata": {
        "colab": {
          "base_uri": "https://localhost:8080/",
          "height": 265
        },
        "id": "gJVoB4zpKc_9",
        "outputId": "7d9e8795-6828-4ef9-dcd4-2d2d5852d068"
      },
      "execution_count": null,
      "outputs": [
        {
          "output_type": "display_data",
          "data": {
            "text/plain": [
              "<Figure size 432x288 with 1 Axes>"
            ],
            "image/png": "[encoded data removed]"
          },
          "metadata": {
            "needs_background": "light"
          }
        }
      ]
    },
    {
      "cell_type": "code",
      "source": [
        "# Find what character length covers 95% of sequences\n",
        "output_seq_char_len = (int(np.percentile(char_lens, 95)))\n",
        "output_seq_char_len"
      ],
      "metadata": {
        "colab": {
          "base_uri": "https://localhost:8080/"
        },
        "id": "OqAoqYevK4q6",
        "outputId": "bf389330-0b1a-437f-8508-8f03e0fba012"
      },
      "execution_count": null,
      "outputs": [
        {
          "output_type": "execute_result",
          "data": {
            "text/plain": [
              "290"
            ]
          },
          "metadata": {},
          "execution_count": 68
        }
      ]
    },
    {
      "cell_type": "code",
      "source": [
        "# Get all keyboard characters \n",
        "random.choice(train_sentences)"
      ],
      "metadata": {
        "colab": {
          "base_uri": "https://localhost:8080/",
          "height": 35
        },
        "id": "vGEZemGiLJ9F",
        "outputId": "d10a8ab4-b46f-4a77-9359-e23c7c1ce229"
      },
      "execution_count": null,
      "outputs": [
        {
          "output_type": "execute_result",
          "data": {
            "text/plain": [
              "'the aim was to evaluate its performance during laparoscopic cholecystectomy .'"
            ],
            "application/vnd.google.colaboratory.intrinsic+json": {
              "type": "string"
            }
          },
          "metadata": {},
          "execution_count": 69
        }
      ]
    },
    {
      "cell_type": "code",
      "source": [
        "import string\n",
        "\n",
        "alphabet = string.ascii_lowercase + string.digits + string.punctuation\n",
        "alphabet"
      ],
      "metadata": {
        "colab": {
          "base_uri": "https://localhost:8080/",
          "height": 35
        },
        "id": "clRmkknGLplC",
        "outputId": "ab7779ad-98b0-4ce5-a199-056887af1460"
      },
      "execution_count": null,
      "outputs": [
        {
          "output_type": "execute_result",
          "data": {
            "text/plain": [
              "'abcdefghijklmnopqrstuvwxyz0123456789!\"#$%&\\'()*+,-./:;<=>?@[\\\\]^_`{|}~'"
            ],
            "application/vnd.google.colaboratory.intrinsic+json": {
              "type": "string"
            }
          },
          "metadata": {},
          "execution_count": 70
        }
      ]
    },
    {
      "cell_type": "code",
      "source": [
        "# Create char-level token vectorizer instance\n",
        "NUM_CHAR_TOKENS = len(alphabet) + 2 # for space and OOV token (OOV = out of vocab)\n",
        "char_vectorizer = TextVectorization(max_tokens=NUM_CHAR_TOKENS,\n",
        "                                    output_sequence_length=output_seq_char_len,\n",
        "                                    standardize=\"lower_and_strip_punctuation\",\n",
        "                                    name=\"char_vectorizer\")"
      ],
      "metadata": {
        "id": "Fa_bQFGzL73q"
      },
      "execution_count": null,
      "outputs": []
    },
    {
      "cell_type": "code",
      "source": [
        "# Adapt character vectorizer to training character\n",
        "char_vectorizer.adapt(train_chars)"
      ],
      "metadata": {
        "id": "SFd1eL5kMhr5"
      },
      "execution_count": null,
      "outputs": []
    },
    {
      "cell_type": "code",
      "source": [
        "# Check character vocab stats\n",
        "char_vocab = char_vectorizer.get_vocabulary()\n",
        "print(f\"Number of different characters in character vocab: {len(char_vocab)}\")\n",
        "print(f\"5 most common characters: {char_vocab[:5]}\")\n",
        "print(f\"5 least common characters: {char_vocab[-5]}\")"
      ],
      "metadata": {
        "colab": {
          "base_uri": "https://localhost:8080/"
        },
        "id": "qOdbnXwMMsgE",
        "outputId": "19559bd5-15e0-48cf-fa5e-63c769ad43e3"
      },
      "execution_count": null,
      "outputs": [
        {
          "output_type": "stream",
          "name": "stdout",
          "text": [
            "Number of different characters in character vocab: 28\n",
            "5 most common characters: ['', '[UNK]', 'e', 't', 'i']\n",
            "5 least common characters: k\n"
          ]
        }
      ]
    },
    {
      "cell_type": "code",
      "source": [
        "# Test our character vectorizer\n",
        "random_train_chars = random.choice(train_chars)\n",
        "print(f\"Charified text:\\n {random_train_chars}\")\n",
        "print(f\"\\nLength of random_train_chars: {len(random_train_chars.split())}\")\n",
        "vectorized_chars = char_vectorizer([random_train_chars])\n",
        "print(f\"\\nVectorized chars:\\n {vectorized_chars}\")\n",
        "print(f\"\\nLength of vectorized chars: {len(vectorized_chars[0])}\")"
      ],
      "metadata": {
        "colab": {
          "base_uri": "https://localhost:8080/"
        },
        "id": "6rlDUkHGMyJl",
        "outputId": "df223ba3-9650-490e-c7f5-cce3d4144c8d"
      },
      "execution_count": null,
      "outputs": [
        {
          "output_type": "stream",
          "name": "stdout",
          "text": [
            "Charified text:\n",
            " c l i n i c a l t r i a l s . g o v   ,   n c t @   ;   n c t @   ;   n c t @   ;   n c t @   ;   n c t @   ;   n c t @   ;   n c t @   ;   n c t @   .\n",
            "\n",
            "Length of random_train_chars: 59\n",
            "\n",
            "Vectorized chars:\n",
            " [[11 12  4  6  4 11  5 12  3  8  4  5 12  9 18  7 21  6 11  3  6 11  3  6\n",
            "  11  3  6 11  3  6 11  3  6 11  3  6 11  3  6 11  3  0  0  0  0  0  0  0\n",
            "   0  0  0  0  0  0  0  0  0  0  0  0  0  0  0  0  0  0  0  0  0  0  0  0\n",
            "   0  0  0  0  0  0  0  0  0  0  0  0  0  0  0  0  0  0  0  0  0  0  0  0\n",
            "   0  0  0  0  0  0  0  0  0  0  0  0  0  0  0  0  0  0  0  0  0  0  0  0\n",
            "   0  0  0  0  0  0  0  0  0  0  0  0  0  0  0  0  0  0  0  0  0  0  0  0\n",
            "   0  0  0  0  0  0  0  0  0  0  0  0  0  0  0  0  0  0  0  0  0  0  0  0\n",
            "   0  0  0  0  0  0  0  0  0  0  0  0  0  0  0  0  0  0  0  0  0  0  0  0\n",
            "   0  0  0  0  0  0  0  0  0  0  0  0  0  0  0  0  0  0  0  0  0  0  0  0\n",
            "   0  0  0  0  0  0  0  0  0  0  0  0  0  0  0  0  0  0  0  0  0  0  0  0\n",
            "   0  0  0  0  0  0  0  0  0  0  0  0  0  0  0  0  0  0  0  0  0  0  0  0\n",
            "   0  0  0  0  0  0  0  0  0  0  0  0  0  0  0  0  0  0  0  0  0  0  0  0\n",
            "   0  0]]\n",
            "\n",
            "Length of vectorized chars: 290\n"
          ]
        }
      ]
    },
    {
      "cell_type": "code",
      "source": [
        "len(char_vocab)"
      ],
      "metadata": {
        "colab": {
          "base_uri": "https://localhost:8080/"
        },
        "id": "8G_PhKjPsm7E",
        "outputId": "a493c3ff-0f28-4a2b-dadd-6f91070785fc"
      },
      "execution_count": null,
      "outputs": [
        {
          "output_type": "execute_result",
          "data": {
            "text/plain": [
              "28"
            ]
          },
          "metadata": {},
          "execution_count": 75
        }
      ]
    },
    {
      "cell_type": "code",
      "source": [
        "# Create a char embeding\n",
        "char_embed = layers.Embedding(input_dim=len(char_vocab),\n",
        "                              output_dim=25, # this is the size of the char embedding in the paper:\n",
        "                              mask_zero=True, \n",
        "                              name=\"char_embedding\")"
      ],
      "metadata": {
        "id": "2XnZM9HvN92F"
      },
      "execution_count": null,
      "outputs": []
    },
    {
      "cell_type": "code",
      "source": [
        "# Test our character embedding layer\n",
        "print(f\"Charified texst:\\n {random_train_chars}\")\n",
        "char_embed_example = char_embed(char_vectorizer([random_train_chars]))\n",
        "print(f\"Embedded chars. (after vectorization and embedding):\\n {char_embed_example}\")\n",
        "print(f\"Character embedding shape: {char_embed_example.shape}\")"
      ],
      "metadata": {
        "colab": {
          "base_uri": "https://localhost:8080/"
        },
        "id": "uyJg_iARuuI-",
        "outputId": "13b92105-adf9-4ef5-c700-7674dd97bf76"
      },
      "execution_count": null,
      "outputs": [
        {
          "output_type": "stream",
          "name": "stdout",
          "text": [
            "Charified texst:\n",
            " c l i n i c a l t r i a l s . g o v   ,   n c t @   ;   n c t @   ;   n c t @   ;   n c t @   ;   n c t @   ;   n c t @   ;   n c t @   ;   n c t @   .\n",
            "Embedded chars. (after vectorization and embedding):\n",
            " [[[-0.03803312  0.03882346 -0.0309255  ... -0.02390729  0.02881566\n",
            "    0.0491905 ]\n",
            "  [ 0.03690653 -0.01608701 -0.01214997 ... -0.03509353  0.0453738\n",
            "   -0.0091254 ]\n",
            "  [-0.01060832 -0.01158019  0.01814665 ...  0.01194454 -0.04647348\n",
            "   -0.00762177]\n",
            "  ...\n",
            "  [-0.04575245 -0.00368442 -0.02101606 ... -0.0438573   0.02338176\n",
            "   -0.02853804]\n",
            "  [-0.04575245 -0.00368442 -0.02101606 ... -0.0438573   0.02338176\n",
            "   -0.02853804]\n",
            "  [-0.04575245 -0.00368442 -0.02101606 ... -0.0438573   0.02338176\n",
            "   -0.02853804]]]\n",
            "Character embedding shape: (1, 290, 25)\n"
          ]
        }
      ]
    },
    {
      "cell_type": "markdown",
      "source": [
        "## Create char dataset with tf.data API"
      ],
      "metadata": {
        "id": "pSOBQbb-iG1Z"
      }
    },
    {
      "cell_type": "code",
      "source": [
        "# Turn our dataset into TensorFlow Datasets\n",
        "train_char_dataset = tf.data.Dataset.from_tensor_slices((train_chars,train_labels_one_hot)).batch(32).prefetch(tf.data.AUTOTUNE)\n",
        "val_char_dataset = tf.data.Dataset.from_tensor_slices((val_chars, val_labels_one_hot)).batch(32).prefetch(tf.data.AUTOTUNE)\n",
        "test_char_dataset = tf.data.Dataset.from_tensor_slices((test_chars, test_labels_one_hot)).batch(32).prefetch(tf.data.AUTOTUNE)\n",
        "train_char_dataset"
      ],
      "metadata": {
        "colab": {
          "base_uri": "https://localhost:8080/"
        },
        "id": "SBDxOi_sgsY6",
        "outputId": "2c9f0b64-b4b8-4881-fec2-ce439d4164cf"
      },
      "execution_count": null,
      "outputs": [
        {
          "output_type": "execute_result",
          "data": {
            "text/plain": [
              "<PrefetchDataset element_spec=(TensorSpec(shape=(None,), dtype=tf.string, name=None), TensorSpec(shape=(None, 5), dtype=tf.float64, name=None))>"
            ]
          },
          "metadata": {},
          "execution_count": 78
        }
      ]
    },
    {
      "cell_type": "markdown",
      "source": [
        "## Create a Conv1D model with character embeddings"
      ],
      "metadata": {
        "id": "bFEZsTWelYcx"
      }
    },
    {
      "cell_type": "code",
      "source": [
        "# Make Conv1D on chars only\n",
        "inputs = layers.Input(shape=[], dtype=tf.string)\n",
        "char_vectors = char_vectorizer(inputs)\n",
        "char_embeddings = char_embed(char_vectors)\n",
        "x = layers.Conv1D(64, kernel_size=20, padding=\"same\", activation=\"relu\")(char_embeddings)\n",
        "x = layers.GlobalMaxPool1D()(x)\n",
        "outputs = layers.Dense(num_classes, activation=\"softmax\")(x)\n",
        "\n",
        "model_3 = tf.keras.Model(inputs,outputs, name=\"model_3_conv1d_char_embeddings\")\n",
        "\n",
        "model_3.compile(loss=tf.keras.losses.CategoricalCrossentropy(),\n",
        "                optimizer=tf.keras.optimizers.Adam(),\n",
        "                metrics=[\"accuracy\"])\n"
      ],
      "metadata": {
        "id": "GNyJMjFrkj-c"
      },
      "execution_count": null,
      "outputs": []
    },
    {
      "cell_type": "code",
      "source": [
        "model_3.summary()"
      ],
      "metadata": {
        "id": "Fv0b6Gpmf70a",
        "colab": {
          "base_uri": "https://localhost:8080/"
        },
        "outputId": "12d393f3-9ea0-4742-cd45-d2eb790fdccf"
      },
      "execution_count": null,
      "outputs": [
        {
          "output_type": "stream",
          "name": "stdout",
          "text": [
            "Model: \"model_3_conv1d_char_embeddings\"\n",
            "_________________________________________________________________\n",
            " Layer (type)                Output Shape              Param #   \n",
            "=================================================================\n",
            " input_3 (InputLayer)        [(None,)]                 0         \n",
            "                                                                 \n",
            " char_vectorizer (TextVector  (None, 290)              0         \n",
            " ization)                                                        \n",
            "                                                                 \n",
            " char_embedding (Embedding)  (None, 290, 25)           700       \n",
            "                                                                 \n",
            " conv1d (Conv1D)             (None, 290, 64)           32064     \n",
            "                                                                 \n",
            " global_max_pooling1d (Globa  (None, 64)               0         \n",
            " lMaxPooling1D)                                                  \n",
            "                                                                 \n",
            " dense_3 (Dense)             (None, 5)                 325       \n",
            "                                                                 \n",
            "=================================================================\n",
            "Total params: 33,089\n",
            "Trainable params: 33,089\n",
            "Non-trainable params: 0\n",
            "_________________________________________________________________\n"
          ]
        }
      ]
    },
    {
      "cell_type": "code",
      "source": [
        "history_model_3 = model_3.fit(train_char_dataset,\n",
        "                              validation_data=val_char_dataset,\n",
        "                              steps_per_epoch=int(0.1*len(train_char_dataset)),\n",
        "                              validation_steps=int(0.1*len(val_char_dataset)),\n",
        "                              epochs=3)"
      ],
      "metadata": {
        "id": "5BHjxAh-gPNK",
        "colab": {
          "base_uri": "https://localhost:8080/"
        },
        "outputId": "733aa09e-0ebd-4cf0-acde-7d18cac9df2f"
      },
      "execution_count": null,
      "outputs": [
        {
          "output_type": "stream",
          "name": "stdout",
          "text": [
            "Epoch 1/3\n",
            "562/562 [==============================] - 4s 5ms/step - loss: 1.1835 - accuracy: 0.5256 - val_loss: 0.9573 - val_accuracy: 0.6267\n",
            "Epoch 2/3\n",
            "562/562 [==============================] - 3s 5ms/step - loss: 0.9161 - accuracy: 0.6435 - val_loss: 0.8507 - val_accuracy: 0.6762\n",
            "Epoch 3/3\n",
            "562/562 [==============================] - 3s 5ms/step - loss: 0.8394 - accuracy: 0.6756 - val_loss: 0.7856 - val_accuracy: 0.7015\n"
          ]
        }
      ]
    },
    {
      "cell_type": "code",
      "source": [
        "model_3_pred_probs = model_3.predict(val_char_dataset)\n",
        "model_3_pred_probs[:5]"
      ],
      "metadata": {
        "id": "zSNjEUXsjgZk",
        "colab": {
          "base_uri": "https://localhost:8080/"
        },
        "outputId": "bb1e1228-31f7-4a43-f7a9-6f202e6c5310"
      },
      "execution_count": null,
      "outputs": [
        {
          "output_type": "execute_result",
          "data": {
            "text/plain": [
              "array([[0.19937463, 0.38348064, 0.1170837 , 0.2675336 , 0.03252748],\n",
              "       [0.26330203, 0.20027353, 0.02252614, 0.47684583, 0.03705245],\n",
              "       [0.06094655, 0.06388528, 0.00698838, 0.85409033, 0.01408948],\n",
              "       [0.00679497, 0.00447885, 0.9606479 , 0.00768648, 0.02039183],\n",
              "       [0.04786706, 0.04801342, 0.72346514, 0.04081242, 0.13984194]],\n",
              "      dtype=float32)"
            ]
          },
          "metadata": {},
          "execution_count": 82
        }
      ]
    },
    {
      "cell_type": "code",
      "source": [
        "model_3_preds = tf.argmax(model_3_pred_probs, axis=1)\n",
        "model_3_preds[:10]"
      ],
      "metadata": {
        "id": "nP17Cb_zqLAX",
        "colab": {
          "base_uri": "https://localhost:8080/"
        },
        "outputId": "a21e5742-e911-466f-ce4c-ead36f97af04"
      },
      "execution_count": null,
      "outputs": [
        {
          "output_type": "execute_result",
          "data": {
            "text/plain": [
              "<tf.Tensor: shape=(10,), dtype=int64, numpy=array([1, 3, 3, 2, 2, 4, 2, 4, 4, 1])>"
            ]
          },
          "metadata": {},
          "execution_count": 83
        }
      ]
    },
    {
      "cell_type": "code",
      "source": [
        "# Calculate results for Conv1D model chars only\n",
        "model_3_results = calculate_results(y_true=val_labels_encoded,\n",
        "                                    y_pred=model_3_preds)\n",
        "model_3_results"
      ],
      "metadata": {
        "id": "Ytdni2jPrV_u",
        "colab": {
          "base_uri": "https://localhost:8080/"
        },
        "outputId": "fa13c43e-cd7a-4ae5-81f9-cfdd8db47680"
      },
      "execution_count": null,
      "outputs": [
        {
          "output_type": "execute_result",
          "data": {
            "text/plain": [
              "{'accuracy': 69.29696809214882,\n",
              " 'precision': 0.689477772845138,\n",
              " 'recall': 0.6929696809214881,\n",
              " 'f1': 0.6852590511672155}"
            ]
          },
          "metadata": {},
          "execution_count": 84
        }
      ]
    },
    {
      "cell_type": "code",
      "source": [
        "baseline_results"
      ],
      "metadata": {
        "id": "1ocBrjZ-rkqv",
        "colab": {
          "base_uri": "https://localhost:8080/"
        },
        "outputId": "c72d9ae6-2bfe-468a-b676-9fecb2e0e25a"
      },
      "execution_count": null,
      "outputs": [
        {
          "output_type": "execute_result",
          "data": {
            "text/plain": [
              "{'accuracy': 72.1832384482987,\n",
              " 'precision': 0.7186466952323352,\n",
              " 'recall': 0.7218323844829869,\n",
              " 'f1': 0.6989250353450294}"
            ]
          },
          "metadata": {},
          "execution_count": 85
        }
      ]
    },
    {
      "cell_type": "code",
      "source": [
        "{'accuracy': 68.37349397590361,\n",
        " 'precision': 0.68323019230491,\n",
        " 'recall': 0.6837349397590361,\n",
        " 'f1': 0.6739334110383196}"
      ],
      "metadata": {
        "id": "1d-q3cmTryRL",
        "colab": {
          "base_uri": "https://localhost:8080/"
        },
        "outputId": "17358489-af81-496b-c107-08cad9a7b37f"
      },
      "execution_count": null,
      "outputs": [
        {
          "output_type": "execute_result",
          "data": {
            "text/plain": [
              "{'accuracy': 68.37349397590361,\n",
              " 'precision': 0.68323019230491,\n",
              " 'recall': 0.6837349397590361,\n",
              " 'f1': 0.6739334110383196}"
            ]
          },
          "metadata": {},
          "execution_count": 86
        }
      ]
    },
    {
      "cell_type": "markdown",
      "source": [
        "## Model 4: Combining pretrained token embeddings + characters embeddings (hybrid embeding layer)\n",
        "\n",
        "1. Create a token-level embedding model (similar to `model_1`)\n",
        "2. Create a char-level model (similar to `model_3` with a slight modification)\n",
        "3. Combine 1 & 2 with a concatenate (`layers.Concatenate`)\n",
        "4. Build a series of output layers on top of 3 similar to Figure 1 and section 4.2 of our [reference paper](https://arxiv.org/pdf/1612.05251.pdf).\n",
        "5. Construct a model which takes token and character-level sequence as inputs and produces sequence label probabilities as output.\n",
        "\n",
        "\n"
      ],
      "metadata": {
        "id": "a5k7itfEIPEk"
      }
    },
    {
      "cell_type": "code",
      "source": [
        "# 1. Setup token inputs/model\n",
        "token_inputs = layers.Input(shape=[], dtype=tf.string, name=\"token_input\")\n",
        "token_embeddings = tf_hub_embedding_layer(token_inputs)\n",
        "token_outputs = layers.Dense(128, activation=\"relu\")(token_embeddings)\n",
        "token_model = tf.keras.Model(inputs=token_inputs, \n",
        "                             outputs=token_outputs)\n",
        "\n",
        "# 2. Setup char inputs/model\n",
        "char_inputs = layers.Input(shape=(1,), dtype=tf.string, name=\"char_input\")\n",
        "char_vectors = char_vectorizer(char_inputs)\n",
        "char_embeddings = char_embed(char_vectors)\n",
        "char_bi_lstm = layers.Bidirectional(layers.LSTM(24))(char_embeddings) # bi-LSTM shown in Fig. 1\n",
        "char_model = tf.keras.Model(inputs=char_inputs, \n",
        "                            outputs=char_bi_lstm)\n",
        "\n",
        "# 3. Concatenate token and char inputs (create a hybrid token embedding)\n",
        "token_char_concat = layers.Concatenate(name=\"token_char_hybrid\")([token_model.output, \n",
        "                                                                  char_model.output])\n",
        "\n",
        "# 4. Create output layers - adding in Dropout, discussed in ection 4.2 of https://arxiv.org/pdf/1612.05251.pdf\n",
        "combined_dropout = layers.Dropout(0.5)(token_char_concat)\n",
        "combined_dense = layers.Dense(256, activation=\"relu\")(combined_dropout)\n",
        "final_dropout = layers.Dropout(0.5)(combined_dense)\n",
        "output_layer = layers.Dense(num_classes, activation=\"softmax\")(final_dropout)\n",
        "\n",
        "# 5. Construct model with char and token inputs\n",
        "model_4 = tf.keras.Model(inputs=[token_model.input, char_model.input],\n",
        "                         outputs=output_layer,\n",
        "                         name=\"model_4_token_and_char_embeddings\")"
      ],
      "metadata": {
        "id": "wL1JAqUdK3kb"
      },
      "execution_count": null,
      "outputs": []
    },
    {
      "cell_type": "code",
      "source": [
        "# Get a summary of our model\n",
        "model_4.summary()"
      ],
      "metadata": {
        "colab": {
          "base_uri": "https://localhost:8080/"
        },
        "id": "I2uINWZtSapH",
        "outputId": "b70ddb8b-d55c-472e-f20b-72ee6a5076f7"
      },
      "execution_count": null,
      "outputs": [
        {
          "output_type": "stream",
          "name": "stdout",
          "text": [
            "Model: \"model_4_token_and_char_embeddings\"\n",
            "__________________________________________________________________________________________________\n",
            " Layer (type)                   Output Shape         Param #     Connected to                     \n",
            "==================================================================================================\n",
            " char_input (InputLayer)        [(None, 1)]          0           []                               \n",
            "                                                                                                  \n",
            " token_input (InputLayer)       [(None,)]            0           []                               \n",
            "                                                                                                  \n",
            " char_vectorizer (TextVectoriza  (None, 290)         0           ['char_input[0][0]']             \n",
            " tion)                                                                                            \n",
            "                                                                                                  \n",
            " universal_sentence_encoder (Ke  (None, 512)         256797824   ['token_input[0][0]']            \n",
            " rasLayer)                                                                                        \n",
            "                                                                                                  \n",
            " char_embedding (Embedding)     (None, 290, 25)      700         ['char_vectorizer[1][0]']        \n",
            "                                                                                                  \n",
            " dense_4 (Dense)                (None, 128)          65664       ['universal_sentence_encoder[1][0\n",
            "                                                                 ]']                              \n",
            "                                                                                                  \n",
            " bidirectional (Bidirectional)  (None, 48)           9600        ['char_embedding[1][0]']         \n",
            "                                                                                                  \n",
            " token_char_hybrid (Concatenate  (None, 176)         0           ['dense_4[0][0]',                \n",
            " )                                                                'bidirectional[0][0]']          \n",
            "                                                                                                  \n",
            " dropout (Dropout)              (None, 176)          0           ['token_char_hybrid[0][0]']      \n",
            "                                                                                                  \n",
            " dense_5 (Dense)                (None, 256)          45312       ['dropout[0][0]']                \n",
            "                                                                                                  \n",
            " dropout_1 (Dropout)            (None, 256)          0           ['dense_5[0][0]']                \n",
            "                                                                                                  \n",
            " dense_6 (Dense)                (None, 5)            1285        ['dropout_1[0][0]']              \n",
            "                                                                                                  \n",
            "==================================================================================================\n",
            "Total params: 256,920,385\n",
            "Trainable params: 122,561\n",
            "Non-trainable params: 256,797,824\n",
            "__________________________________________________________________________________________________\n"
          ]
        }
      ]
    },
    {
      "cell_type": "code",
      "source": [
        "# Plot hybrid token and character model\n",
        "from keras.utils.vis_utils import plot_model\n",
        "plot_model(model_4, show_shapes=True)"
      ],
      "metadata": {
        "colab": {
          "base_uri": "https://localhost:8080/",
          "height": 976
        },
        "id": "5D0vq1XESuKK",
        "outputId": "a93b56b3-faec-46ff-9056-80387c1a7b49"
      },
      "execution_count": null,
      "outputs": [
        {
          "output_type": "execute_result",
          "data": {
            "image/png": "[encoded data removed]",
            "text/plain": [
              "<IPython.core.display.Image object>"
            ]
          },
          "metadata": {},
          "execution_count": 89
        }
      ]
    },
    {
      "cell_type": "code",
      "source": [
        "# Compile token char model\n",
        "model_4.compile(loss=\"categorical_crossentropy\",\n",
        "                optimizer=tf.keras.optimizers.Adam(), # In the paper they use SGD, and we're using Adam.\n",
        "                metrics=[\"accuracy\"])"
      ],
      "metadata": {
        "id": "utZKjcbaTKs_"
      },
      "execution_count": null,
      "outputs": []
    },
    {
      "cell_type": "markdown",
      "source": [
        "## Combining token and character data into a tf.data Dataset\n"
      ],
      "metadata": {
        "id": "FG75fBWyYmq_"
      }
    },
    {
      "cell_type": "markdown",
      "source": [
        "### Train dataset"
      ],
      "metadata": {
        "id": "o_iAhYWWDMTH"
      }
    },
    {
      "cell_type": "code",
      "source": [
        "# Combining token and character data\n",
        "train_char_token_data = tf.data.Dataset.from_tensor_slices((train_sentences, train_chars))\n",
        "train_char_token_labels = tf.data.Dataset.from_tensor_slices(train_labels_one_hot) # make labels\n",
        "train_char_token_dataset = tf.data.Dataset.zip((train_char_token_data, train_char_token_labels)) # Combine data and labels\n",
        "\n",
        "# Prefetch and batch train data\n",
        "train_char_token_dataset = train_char_token_dataset.batch(32).prefetch(tf.data.AUTOTUNE)\n"
      ],
      "metadata": {
        "id": "r42Isyp85XFE"
      },
      "execution_count": null,
      "outputs": []
    },
    {
      "cell_type": "code",
      "source": [
        "len(train_char_token_dataset)"
      ],
      "metadata": {
        "id": "BPlmx_dJHcdo",
        "colab": {
          "base_uri": "https://localhost:8080/"
        },
        "outputId": "59b76eef-30c7-49d5-96e1-48206a4bbd02"
      },
      "execution_count": null,
      "outputs": [
        {
          "output_type": "execute_result",
          "data": {
            "text/plain": [
              "5627"
            ]
          },
          "metadata": {},
          "execution_count": 92
        }
      ]
    },
    {
      "cell_type": "markdown",
      "source": [
        "### Validation dataset"
      ],
      "metadata": {
        "id": "whvg56QLDOCJ"
      }
    },
    {
      "cell_type": "code",
      "source": [
        "# combine token and character data\n",
        "val_char_token_data = tf.data.Dataset.from_tensor_slices((val_sentences, val_chars))\n",
        "val_char_token_labels = tf.data.Dataset.from_tensor_slices(val_labels_one_hot)\n",
        "val_char_token_dataset = tf.data.Dataset.zip((val_char_token_data, val_char_token_labels))\n",
        "\n",
        "# Prefetch and batch validation data\n",
        "val_char_token_dataset = val_char_token_dataset.batch(32).prefetch(tf.data.AUTOTUNE)\n"
      ],
      "metadata": {
        "id": "QLmX-NaxCj2F"
      },
      "execution_count": null,
      "outputs": []
    },
    {
      "cell_type": "code",
      "source": [
        "len(val_char_token_dataset)"
      ],
      "metadata": {
        "id": "1VxmcyxXJlnz",
        "colab": {
          "base_uri": "https://localhost:8080/"
        },
        "outputId": "15ff4130-04ea-4318-9f2e-32b3ee7a2a00"
      },
      "execution_count": null,
      "outputs": [
        {
          "output_type": "execute_result",
          "data": {
            "text/plain": [
              "945"
            ]
          },
          "metadata": {},
          "execution_count": 94
        }
      ]
    },
    {
      "cell_type": "markdown",
      "source": [
        "### Test dataset "
      ],
      "metadata": {
        "id": "IJ_cVouODQno"
      }
    },
    {
      "cell_type": "code",
      "source": [
        "test_char_token_data = tf.data.Dataset.from_tensor_slices((test_sentences, test_chars))\n",
        "test_char_token_labels = tf.data.Dataset.from_tensor_slices(test_labels_one_hot)\n",
        "test_char_token_dataset = tf.data.Dataset.zip((test_char_token_data, test_char_token_labels))\n",
        "\n",
        "# Batch and prefetch our test data\n",
        "test_char_token_dataset = test_char_token_dataset.batch(32).prefetch(tf.data.AUTOTUNE)"
      ],
      "metadata": {
        "id": "_FFMkkuE-QIO"
      },
      "execution_count": null,
      "outputs": []
    },
    {
      "cell_type": "markdown",
      "source": [
        "# Fitting a model with combined token and character level sequences"
      ],
      "metadata": {
        "id": "dMn3UtIi-Bua"
      }
    },
    {
      "cell_type": "code",
      "source": [
        "history_model_4 = model_4.fit(train_char_token_dataset,\n",
        "                              steps_per_epoch = int(0.1 * len(train_char_token_dataset)),\n",
        "                              validation_data = val_char_token_dataset,\n",
        "                              validation_steps=int(0.1 * len(val_char_token_dataset)),\n",
        "                              epochs=3)"
      ],
      "metadata": {
        "id": "evDS7TDpIHbK",
        "colab": {
          "base_uri": "https://localhost:8080/"
        },
        "outputId": "de4ec07f-728a-442d-c85c-4e652b8175e8"
      },
      "execution_count": null,
      "outputs": [
        {
          "output_type": "stream",
          "name": "stdout",
          "text": [
            "Epoch 1/3\n",
            "562/562 [==============================] - 34s 45ms/step - loss: 0.9512 - accuracy: 0.6262 - val_loss: 0.7615 - val_accuracy: 0.7098\n",
            "Epoch 2/3\n",
            "562/562 [==============================] - 22s 39ms/step - loss: 0.7869 - accuracy: 0.6940 - val_loss: 0.7036 - val_accuracy: 0.7324\n",
            "Epoch 3/3\n",
            "562/562 [==============================] - 20s 36ms/step - loss: 0.7593 - accuracy: 0.7084 - val_loss: 0.6827 - val_accuracy: 0.7460\n"
          ]
        }
      ]
    },
    {
      "cell_type": "code",
      "source": [
        "# Evaluate on the whole evaluation dataset\n",
        "model_4.evaluate(val_char_token_dataset)"
      ],
      "metadata": {
        "id": "2ZVkUS_SIOx5",
        "colab": {
          "base_uri": "https://localhost:8080/"
        },
        "outputId": "46aee5d2-ebb5-49ae-d5a3-834cd9437bae"
      },
      "execution_count": null,
      "outputs": [
        {
          "output_type": "stream",
          "name": "stdout",
          "text": [
            "945/945 [==============================] - 18s 19ms/step - loss: 0.6896 - accuracy: 0.7370\n"
          ]
        },
        {
          "output_type": "execute_result",
          "data": {
            "text/plain": [
              "[0.6896342635154724, 0.7369919419288635]"
            ]
          },
          "metadata": {},
          "execution_count": 97
        }
      ]
    },
    {
      "cell_type": "code",
      "source": [
        "# Make predictions using the token-character model hybrid\n",
        "model_4_pred_probs = model_4.predict(val_char_token_dataset)"
      ],
      "metadata": {
        "id": "IcAFmdSCv7gH"
      },
      "execution_count": null,
      "outputs": []
    },
    {
      "cell_type": "code",
      "source": [
        "model_4_pred_probs[:10]"
      ],
      "metadata": {
        "id": "aaV5YHD7zFOX",
        "colab": {
          "base_uri": "https://localhost:8080/"
        },
        "outputId": "07aa3fac-3e31-40d3-be15-12f814b149d1"
      },
      "execution_count": null,
      "outputs": [
        {
          "output_type": "execute_result",
          "data": {
            "text/plain": [
              "array([[4.2936826e-01, 3.3298129e-01, 2.9611436e-03, 2.2876222e-01,\n",
              "        5.9271096e-03],\n",
              "       [3.4939456e-01, 4.6789208e-01, 3.0700509e-03, 1.7828730e-01,\n",
              "        1.3559418e-03],\n",
              "       [3.0899379e-01, 1.0144826e-01, 3.9837305e-02, 5.2375150e-01,\n",
              "        2.5969174e-02],\n",
              "       [9.4371745e-03, 1.3455543e-02, 8.7598819e-01, 6.2673995e-03,\n",
              "        9.4851762e-02],\n",
              "       [1.9563761e-02, 6.7136079e-02, 6.3997549e-01, 1.5311783e-02,\n",
              "        2.5801292e-01],\n",
              "       [8.7515998e-04, 2.3118078e-03, 6.7925203e-01, 4.5886624e-04,\n",
              "        3.1710219e-01],\n",
              "       [3.8059289e-03, 1.0681167e-02, 5.6201440e-01, 2.1320260e-03,\n",
              "        4.2136642e-01],\n",
              "       [2.6694362e-03, 1.9347822e-02, 4.9296159e-01, 9.2625001e-04,\n",
              "        4.8409489e-01],\n",
              "       [3.2163953e-04, 8.3262185e-03, 2.9055772e-02, 2.7839671e-04,\n",
              "        9.6201795e-01],\n",
              "       [2.7345607e-01, 4.7261548e-01, 3.9846484e-02, 1.4525549e-01,\n",
              "        6.8826459e-02]], dtype=float32)"
            ]
          },
          "metadata": {},
          "execution_count": 99
        }
      ]
    },
    {
      "cell_type": "code",
      "source": [
        "# Format pred_probs into pred_labels\n",
        "model_4_preds = tf.argmax(model_4_pred_probs, axis=1)\n",
        "model_4_preds[:10]"
      ],
      "metadata": {
        "id": "mZ3ypCGLzLHQ",
        "colab": {
          "base_uri": "https://localhost:8080/"
        },
        "outputId": "f8161987-6ed7-42c8-9809-95bd4ac8653c"
      },
      "execution_count": null,
      "outputs": [
        {
          "output_type": "execute_result",
          "data": {
            "text/plain": [
              "<tf.Tensor: shape=(10,), dtype=int64, numpy=array([0, 1, 3, 2, 2, 2, 2, 2, 4, 1])>"
            ]
          },
          "metadata": {},
          "execution_count": 100
        }
      ]
    },
    {
      "cell_type": "code",
      "source": [
        "# Get results on token-char-hybrid model\n",
        "model_4_results = calculate_results(y_true=val_labels_encoded,\n",
        "                                    y_pred=model_4_preds)\n",
        "model_4_results"
      ],
      "metadata": {
        "id": "um0Ycc-czUFj",
        "colab": {
          "base_uri": "https://localhost:8080/"
        },
        "outputId": "8882a5b4-737c-42cf-f52b-ce902764f275"
      },
      "execution_count": null,
      "outputs": [
        {
          "output_type": "execute_result",
          "data": {
            "text/plain": [
              "{'accuracy': 73.69919237389117,\n",
              " 'precision': 0.7371155155926274,\n",
              " 'recall': 0.7369919237389116,\n",
              " 'f1': 0.7353071076514588}"
            ]
          },
          "metadata": {},
          "execution_count": 101
        }
      ]
    },
    {
      "cell_type": "markdown",
      "source": [
        "## Model 5: Transfer learning with pretrained token embeddings + character embeddings + positional embedding "
      ],
      "metadata": {
        "id": "0Ghn4SU-zj15"
      }
    },
    {
      "cell_type": "code",
      "source": [
        "train_df.head()"
      ],
      "metadata": {
        "id": "k5CfMLsw6DR8",
        "colab": {
          "base_uri": "https://localhost:8080/",
          "height": 206
        },
        "outputId": "9c215084-bf7d-435b-f3f8-f6fae98cc186"
      },
      "execution_count": null,
      "outputs": [
        {
          "output_type": "execute_result",
          "data": {
            "text/plain": [
              "      target  \\\n",
              "0  OBJECTIVE   \n",
              "1    METHODS   \n",
              "2    METHODS   \n",
              "3    METHODS   \n",
              "4    METHODS   \n",
              "\n",
              "                                                                                                                                                                                                                                                                                        text  \\\n",
              "0  to investigate the efficacy of @ weeks of daily low-dose oral prednisolone in improving pain , mobility , and systemic low-grade inflammation in the short term and whether the effect would be sustained at @ weeks in older adults with moderate to severe knee osteoarthritis ( oa ) .   \n",
              "1                                                                                                                                                  a total of @ patients with primary knee oa were randomized @:@ ; @ received @ mg/day of prednisolone and @ received placebo for @ weeks .   \n",
              "2                                                                                                                                                                            outcome measures included pain reduction and improvement in function scores and systemic inflammation markers .   \n",
              "3                                                                                                                                                                                                                          pain was assessed using the visual analog pain scale ( @-@ mm ) .   \n",
              "4                                                                          secondary outcome measures included the western ontario and mcmaster universities osteoarthritis index scores , patient global assessment ( pga ) of the severity of knee oa , and @-min walk distance ( @mwd ) .   \n",
              "\n",
              "   line_number  total_lines  \n",
              "0            0           11  \n",
              "1            1           11  \n",
              "2            2           11  \n",
              "3            3           11  \n",
              "4            4           11  "
            ],
            "text/html": [
              "\n",
              "  <div id=\"df-cffdea3b-e819-4a76-9d22-d4c869c86d01\">\n",
              "    <div class=\"colab-df-container\">\n",
              "      <div>\n",
              "<style scoped>\n",
              "    .dataframe tbody tr th:only-of-type {\n",
              "        vertical-align: middle;\n",
              "    }\n",
              "\n",
              "    .dataframe tbody tr th {\n",
              "        vertical-align: top;\n",
              "    }\n",
              "\n",
              "    .dataframe thead th {\n",
              "        text-align: right;\n",
              "    }\n",
              "</style>\n",
              "<table border=\"1\" class=\"dataframe\">\n",
              "  <thead>\n",
              "    <tr style=\"text-align: right;\">\n",
              "      <th></th>\n",
              "      <th>target</th>\n",
              "      <th>text</th>\n",
              "      <th>line_number</th>\n",
              "      <th>total_lines</th>\n",
              "    </tr>\n",
              "  </thead>\n",
              "  <tbody>\n",
              "    <tr>\n",
              "      <th>0</th>\n",
              "      <td>OBJECTIVE</td>\n",
              "      <td>to investigate the efficacy of @ weeks of daily low-dose oral prednisolone in improving pain , mobility , and systemic low-grade inflammation in the short term and whether the effect would be sustained at @ weeks in older adults with moderate to severe knee osteoarthritis ( oa ) .</td>\n",
              "      <td>0</td>\n",
              "      <td>11</td>\n",
              "    </tr>\n",
              "    <tr>\n",
              "      <th>1</th>\n",
              "      <td>METHODS</td>\n",
              "      <td>a total of @ patients with primary knee oa were randomized @:@ ; @ received @ mg/day of prednisolone and @ received placebo for @ weeks .</td>\n",
              "      <td>1</td>\n",
              "      <td>11</td>\n",
              "    </tr>\n",
              "    <tr>\n",
              "      <th>2</th>\n",
              "      <td>METHODS</td>\n",
              "      <td>outcome measures included pain reduction and improvement in function scores and systemic inflammation markers .</td>\n",
              "      <td>2</td>\n",
              "      <td>11</td>\n",
              "    </tr>\n",
              "    <tr>\n",
              "      <th>3</th>\n",
              "      <td>METHODS</td>\n",
              "      <td>pain was assessed using the visual analog pain scale ( @-@ mm ) .</td>\n",
              "      <td>3</td>\n",
              "      <td>11</td>\n",
              "    </tr>\n",
              "    <tr>\n",
              "      <th>4</th>\n",
              "      <td>METHODS</td>\n",
              "      <td>secondary outcome measures included the western ontario and mcmaster universities osteoarthritis index scores , patient global assessment ( pga ) of the severity of knee oa , and @-min walk distance ( @mwd ) .</td>\n",
              "      <td>4</td>\n",
              "      <td>11</td>\n",
              "    </tr>\n",
              "  </tbody>\n",
              "</table>\n",
              "</div>\n",
              "      <button class=\"colab-df-convert\" onclick=\"convertToInteractive('df-cffdea3b-e819-4a76-9d22-d4c869c86d01')\"\n",
              "              title=\"Convert this dataframe to an interactive table.\"\n",
              "              style=\"display:none;\">\n",
              "        \n",
              "  <svg xmlns=\"http://www.w3.org/2000/svg\" height=\"24px\"viewBox=\"0 0 24 24\"\n",
              "       width=\"24px\">\n",
              "    <path d=\"M0 0h24v24H0V0z\" fill=\"none\"/>\n",
              "    <path d=\"M18.56 5.44l.94 2.06.94-2.06 2.06-.94-2.06-.94-.94-2.06-.94 2.06-2.06.94zm-11 1L8.5 8.5l.94-2.06 2.06-.94-2.06-.94L8.5 2.5l-.94 2.06-2.06.94zm10 10l.94 2.06.94-2.06 2.06-.94-2.06-.94-.94-2.06-.94 2.06-2.06.94z\"/><path d=\"M17.41 7.96l-1.37-1.37c-.4-.4-.92-.59-1.43-.59-.52 0-1.04.2-1.43.59L10.3 9.45l-7.72 7.72c-.78.78-.78 2.05 0 2.83L4 21.41c.39.39.9.59 1.41.59.51 0 1.02-.2 1.41-.59l7.78-7.78 2.81-2.81c.8-.78.8-2.07 0-2.86zM5.41 20L4 18.59l7.72-7.72 1.47 1.35L5.41 20z\"/>\n",
              "  </svg>\n",
              "      </button>\n",
              "      \n",
              "  <style>\n",
              "    .colab-df-container {\n",
              "      display:flex;\n",
              "      flex-wrap:wrap;\n",
              "      gap: 12px;\n",
              "    }\n",
              "\n",
              "    .colab-df-convert {\n",
              "      background-color: #E8F0FE;\n",
              "      border: none;\n",
              "      border-radius: 50%;\n",
              "      cursor: pointer;\n",
              "      display: none;\n",
              "      fill: #1967D2;\n",
              "      height: 32px;\n",
              "      padding: 0 0 0 0;\n",
              "      width: 32px;\n",
              "    }\n",
              "\n",
              "    .colab-df-convert:hover {\n",
              "      background-color: #E2EBFA;\n",
              "      box-shadow: 0px 1px 2px rgba(60, 64, 67, 0.3), 0px 1px 3px 1px rgba(60, 64, 67, 0.15);\n",
              "      fill: #174EA6;\n",
              "    }\n",
              "\n",
              "    [theme=dark] .colab-df-convert {\n",
              "      background-color: #3B4455;\n",
              "      fill: #D2E3FC;\n",
              "    }\n",
              "\n",
              "    [theme=dark] .colab-df-convert:hover {\n",
              "      background-color: #434B5C;\n",
              "      box-shadow: 0px 1px 3px 1px rgba(0, 0, 0, 0.15);\n",
              "      filter: drop-shadow(0px 1px 2px rgba(0, 0, 0, 0.3));\n",
              "      fill: #FFFFFF;\n",
              "    }\n",
              "  </style>\n",
              "\n",
              "      <script>\n",
              "        const buttonEl =\n",
              "          document.querySelector('#df-cffdea3b-e819-4a76-9d22-d4c869c86d01 button.colab-df-convert');\n",
              "        buttonEl.style.display =\n",
              "          google.colab.kernel.accessAllowed ? 'block' : 'none';\n",
              "\n",
              "        async function convertToInteractive(key) {\n",
              "          const element = document.querySelector('#df-cffdea3b-e819-4a76-9d22-d4c869c86d01');\n",
              "          const dataTable =\n",
              "            await google.colab.kernel.invokeFunction('convertToInteractive',\n",
              "                                                     [key], {});\n",
              "          if (!dataTable) return;\n",
              "\n",
              "          const docLinkHtml = 'Like what you see? Visit the ' +\n",
              "            '<a target=\"_blank\" href=https://colab.research.google.com/notebooks/data_table.ipynb>data table notebook</a>'\n",
              "            + ' to learn more about interactive tables.';\n",
              "          element.innerHTML = '';\n",
              "          dataTable['output_type'] = 'display_data';\n",
              "          await google.colab.output.renderOutput(dataTable, element);\n",
              "          const docLink = document.createElement('div');\n",
              "          docLink.innerHTML = docLinkHtml;\n",
              "          element.appendChild(docLink);\n",
              "        }\n",
              "      </script>\n",
              "    </div>\n",
              "  </div>\n",
              "  "
            ]
          },
          "metadata": {},
          "execution_count": 102
        }
      ]
    },
    {
      "cell_type": "code",
      "source": [
        "train_df[\"line_number\"].value_counts()"
      ],
      "metadata": {
        "colab": {
          "base_uri": "https://localhost:8080/"
        },
        "id": "-lPXl4Dd6IKc",
        "outputId": "434a6150-ec4c-4fd1-a3a2-370ee4e6fc23"
      },
      "execution_count": null,
      "outputs": [
        {
          "output_type": "execute_result",
          "data": {
            "text/plain": [
              "0     15000\n",
              "1     15000\n",
              "2     15000\n",
              "3     15000\n",
              "4     14992\n",
              "5     14949\n",
              "6     14758\n",
              "7     14279\n",
              "8     13346\n",
              "9     11981\n",
              "10    10041\n",
              "11     7892\n",
              "12     5853\n",
              "13     4152\n",
              "14     2835\n",
              "15     1861\n",
              "16     1188\n",
              "17      751\n",
              "18      462\n",
              "19      286\n",
              "20      162\n",
              "21      101\n",
              "22       66\n",
              "23       33\n",
              "24       22\n",
              "25       14\n",
              "26        7\n",
              "27        4\n",
              "28        3\n",
              "29        1\n",
              "30        1\n",
              "Name: line_number, dtype: int64"
            ]
          },
          "metadata": {},
          "execution_count": 103
        }
      ]
    },
    {
      "cell_type": "markdown",
      "source": [
        "To use the line numbers as a positional embedding layer, we first need to do a one-hot encode. Now, we have 30 possible values in this column, and one-hot encoding all 30 values would be counterproducent. "
      ],
      "metadata": {
        "id": "RLqJxPj46L2-"
      }
    },
    {
      "cell_type": "code",
      "source": [
        "train_df.line_number.plot.hist();"
      ],
      "metadata": {
        "colab": {
          "base_uri": "https://localhost:8080/",
          "height": 265
        },
        "id": "H27Gspic7206",
        "outputId": "d2230b4b-3a7d-4806-ef11-8421cde54028"
      },
      "execution_count": null,
      "outputs": [
        {
          "output_type": "display_data",
          "data": {
            "text/plain": [
              "<Figure size 432x288 with 1 Axes>"
            ],
            "image/png": "[encoded data removed]"
          },
          "metadata": {
            "needs_background": "light"
          }
        }
      ]
    },
    {
      "cell_type": "markdown",
      "source": [
        "So cutting our one-hot to 15 lines puts the majority of the data into line numbers"
      ],
      "metadata": {
        "id": "Tt1Qqo73758U"
      }
    },
    {
      "cell_type": "code",
      "source": [
        "line_number_depth = int(np.percentile(train_df.line_number, 95))"
      ],
      "metadata": {
        "id": "BsYBhueJ8C6x"
      },
      "execution_count": null,
      "outputs": []
    },
    {
      "cell_type": "code",
      "source": [
        "# Use tensorflow to create one-hot-encoded tensors of our line numbers\n",
        "train_line_numbers_one_hot = tf.one_hot(train_df.line_number.to_numpy(), depth=line_number_depth)\n",
        "val_line_numbers_one_hot = tf.one_hot(val_df.line_number.to_numpy(), depth=line_number_depth)\n",
        "test_line_numbers_one_hot = tf.one_hot(test_df.line_number.to_numpy(), depth=line_number_depth)\n",
        "\n",
        "train_line_numbers_one_hot[:10], train_line_numbers_one_hot.shape"
      ],
      "metadata": {
        "colab": {
          "base_uri": "https://localhost:8080/"
        },
        "id": "pFWtl5k18YRw",
        "outputId": "385a2e84-3af0-4b1f-9c21-58a0e7d0fe58"
      },
      "execution_count": null,
      "outputs": [
        {
          "output_type": "execute_result",
          "data": {
            "text/plain": [
              "(<tf.Tensor: shape=(10, 13), dtype=float32, numpy=\n",
              " array([[1., 0., 0., 0., 0., 0., 0., 0., 0., 0., 0., 0., 0.],\n",
              "        [0., 1., 0., 0., 0., 0., 0., 0., 0., 0., 0., 0., 0.],\n",
              "        [0., 0., 1., 0., 0., 0., 0., 0., 0., 0., 0., 0., 0.],\n",
              "        [0., 0., 0., 1., 0., 0., 0., 0., 0., 0., 0., 0., 0.],\n",
              "        [0., 0., 0., 0., 1., 0., 0., 0., 0., 0., 0., 0., 0.],\n",
              "        [0., 0., 0., 0., 0., 1., 0., 0., 0., 0., 0., 0., 0.],\n",
              "        [0., 0., 0., 0., 0., 0., 1., 0., 0., 0., 0., 0., 0.],\n",
              "        [0., 0., 0., 0., 0., 0., 0., 1., 0., 0., 0., 0., 0.],\n",
              "        [0., 0., 0., 0., 0., 0., 0., 0., 1., 0., 0., 0., 0.],\n",
              "        [0., 0., 0., 0., 0., 0., 0., 0., 0., 1., 0., 0., 0.]],\n",
              "       dtype=float32)>, TensorShape([180040, 13]))"
            ]
          },
          "metadata": {},
          "execution_count": 106
        }
      ]
    },
    {
      "cell_type": "markdown",
      "source": [
        "Now we've encoded our line number features, we'll encode the total lines features "
      ],
      "metadata": {
        "id": "gS-OSezi-0-G"
      }
    },
    {
      "cell_type": "code",
      "source": [
        "# Check out total_lines \n",
        "\n",
        "train_df.head()"
      ],
      "metadata": {
        "colab": {
          "base_uri": "https://localhost:8080/",
          "height": 206
        },
        "id": "wJISBxMk9BN8",
        "outputId": "493e3bee-879b-4818-c490-8202f588b552"
      },
      "execution_count": null,
      "outputs": [
        {
          "output_type": "execute_result",
          "data": {
            "text/plain": [
              "      target  \\\n",
              "0  OBJECTIVE   \n",
              "1    METHODS   \n",
              "2    METHODS   \n",
              "3    METHODS   \n",
              "4    METHODS   \n",
              "\n",
              "                                                                                                                                                                                                                                                                                        text  \\\n",
              "0  to investigate the efficacy of @ weeks of daily low-dose oral prednisolone in improving pain , mobility , and systemic low-grade inflammation in the short term and whether the effect would be sustained at @ weeks in older adults with moderate to severe knee osteoarthritis ( oa ) .   \n",
              "1                                                                                                                                                  a total of @ patients with primary knee oa were randomized @:@ ; @ received @ mg/day of prednisolone and @ received placebo for @ weeks .   \n",
              "2                                                                                                                                                                            outcome measures included pain reduction and improvement in function scores and systemic inflammation markers .   \n",
              "3                                                                                                                                                                                                                          pain was assessed using the visual analog pain scale ( @-@ mm ) .   \n",
              "4                                                                          secondary outcome measures included the western ontario and mcmaster universities osteoarthritis index scores , patient global assessment ( pga ) of the severity of knee oa , and @-min walk distance ( @mwd ) .   \n",
              "\n",
              "   line_number  total_lines  \n",
              "0            0           11  \n",
              "1            1           11  \n",
              "2            2           11  \n",
              "3            3           11  \n",
              "4            4           11  "
            ],
            "text/html": [
              "\n",
              "  <div id=\"df-cf5789c1-6a8c-4888-afdf-18ab8bf00554\">\n",
              "    <div class=\"colab-df-container\">\n",
              "      <div>\n",
              "<style scoped>\n",
              "    .dataframe tbody tr th:only-of-type {\n",
              "        vertical-align: middle;\n",
              "    }\n",
              "\n",
              "    .dataframe tbody tr th {\n",
              "        vertical-align: top;\n",
              "    }\n",
              "\n",
              "    .dataframe thead th {\n",
              "        text-align: right;\n",
              "    }\n",
              "</style>\n",
              "<table border=\"1\" class=\"dataframe\">\n",
              "  <thead>\n",
              "    <tr style=\"text-align: right;\">\n",
              "      <th></th>\n",
              "      <th>target</th>\n",
              "      <th>text</th>\n",
              "      <th>line_number</th>\n",
              "      <th>total_lines</th>\n",
              "    </tr>\n",
              "  </thead>\n",
              "  <tbody>\n",
              "    <tr>\n",
              "      <th>0</th>\n",
              "      <td>OBJECTIVE</td>\n",
              "      <td>to investigate the efficacy of @ weeks of daily low-dose oral prednisolone in improving pain , mobility , and systemic low-grade inflammation in the short term and whether the effect would be sustained at @ weeks in older adults with moderate to severe knee osteoarthritis ( oa ) .</td>\n",
              "      <td>0</td>\n",
              "      <td>11</td>\n",
              "    </tr>\n",
              "    <tr>\n",
              "      <th>1</th>\n",
              "      <td>METHODS</td>\n",
              "      <td>a total of @ patients with primary knee oa were randomized @:@ ; @ received @ mg/day of prednisolone and @ received placebo for @ weeks .</td>\n",
              "      <td>1</td>\n",
              "      <td>11</td>\n",
              "    </tr>\n",
              "    <tr>\n",
              "      <th>2</th>\n",
              "      <td>METHODS</td>\n",
              "      <td>outcome measures included pain reduction and improvement in function scores and systemic inflammation markers .</td>\n",
              "      <td>2</td>\n",
              "      <td>11</td>\n",
              "    </tr>\n",
              "    <tr>\n",
              "      <th>3</th>\n",
              "      <td>METHODS</td>\n",
              "      <td>pain was assessed using the visual analog pain scale ( @-@ mm ) .</td>\n",
              "      <td>3</td>\n",
              "      <td>11</td>\n",
              "    </tr>\n",
              "    <tr>\n",
              "      <th>4</th>\n",
              "      <td>METHODS</td>\n",
              "      <td>secondary outcome measures included the western ontario and mcmaster universities osteoarthritis index scores , patient global assessment ( pga ) of the severity of knee oa , and @-min walk distance ( @mwd ) .</td>\n",
              "      <td>4</td>\n",
              "      <td>11</td>\n",
              "    </tr>\n",
              "  </tbody>\n",
              "</table>\n",
              "</div>\n",
              "      <button class=\"colab-df-convert\" onclick=\"convertToInteractive('df-cf5789c1-6a8c-4888-afdf-18ab8bf00554')\"\n",
              "              title=\"Convert this dataframe to an interactive table.\"\n",
              "              style=\"display:none;\">\n",
              "        \n",
              "  <svg xmlns=\"http://www.w3.org/2000/svg\" height=\"24px\"viewBox=\"0 0 24 24\"\n",
              "       width=\"24px\">\n",
              "    <path d=\"M0 0h24v24H0V0z\" fill=\"none\"/>\n",
              "    <path d=\"M18.56 5.44l.94 2.06.94-2.06 2.06-.94-2.06-.94-.94-2.06-.94 2.06-2.06.94zm-11 1L8.5 8.5l.94-2.06 2.06-.94-2.06-.94L8.5 2.5l-.94 2.06-2.06.94zm10 10l.94 2.06.94-2.06 2.06-.94-2.06-.94-.94-2.06-.94 2.06-2.06.94z\"/><path d=\"M17.41 7.96l-1.37-1.37c-.4-.4-.92-.59-1.43-.59-.52 0-1.04.2-1.43.59L10.3 9.45l-7.72 7.72c-.78.78-.78 2.05 0 2.83L4 21.41c.39.39.9.59 1.41.59.51 0 1.02-.2 1.41-.59l7.78-7.78 2.81-2.81c.8-.78.8-2.07 0-2.86zM5.41 20L4 18.59l7.72-7.72 1.47 1.35L5.41 20z\"/>\n",
              "  </svg>\n",
              "      </button>\n",
              "      \n",
              "  <style>\n",
              "    .colab-df-container {\n",
              "      display:flex;\n",
              "      flex-wrap:wrap;\n",
              "      gap: 12px;\n",
              "    }\n",
              "\n",
              "    .colab-df-convert {\n",
              "      background-color: #E8F0FE;\n",
              "      border: none;\n",
              "      border-radius: 50%;\n",
              "      cursor: pointer;\n",
              "      display: none;\n",
              "      fill: #1967D2;\n",
              "      height: 32px;\n",
              "      padding: 0 0 0 0;\n",
              "      width: 32px;\n",
              "    }\n",
              "\n",
              "    .colab-df-convert:hover {\n",
              "      background-color: #E2EBFA;\n",
              "      box-shadow: 0px 1px 2px rgba(60, 64, 67, 0.3), 0px 1px 3px 1px rgba(60, 64, 67, 0.15);\n",
              "      fill: #174EA6;\n",
              "    }\n",
              "\n",
              "    [theme=dark] .colab-df-convert {\n",
              "      background-color: #3B4455;\n",
              "      fill: #D2E3FC;\n",
              "    }\n",
              "\n",
              "    [theme=dark] .colab-df-convert:hover {\n",
              "      background-color: #434B5C;\n",
              "      box-shadow: 0px 1px 3px 1px rgba(0, 0, 0, 0.15);\n",
              "      filter: drop-shadow(0px 1px 2px rgba(0, 0, 0, 0.3));\n",
              "      fill: #FFFFFF;\n",
              "    }\n",
              "  </style>\n",
              "\n",
              "      <script>\n",
              "        const buttonEl =\n",
              "          document.querySelector('#df-cf5789c1-6a8c-4888-afdf-18ab8bf00554 button.colab-df-convert');\n",
              "        buttonEl.style.display =\n",
              "          google.colab.kernel.accessAllowed ? 'block' : 'none';\n",
              "\n",
              "        async function convertToInteractive(key) {\n",
              "          const element = document.querySelector('#df-cf5789c1-6a8c-4888-afdf-18ab8bf00554');\n",
              "          const dataTable =\n",
              "            await google.colab.kernel.invokeFunction('convertToInteractive',\n",
              "                                                     [key], {});\n",
              "          if (!dataTable) return;\n",
              "\n",
              "          const docLinkHtml = 'Like what you see? Visit the ' +\n",
              "            '<a target=\"_blank\" href=https://colab.research.google.com/notebooks/data_table.ipynb>data table notebook</a>'\n",
              "            + ' to learn more about interactive tables.';\n",
              "          element.innerHTML = '';\n",
              "          dataTable['output_type'] = 'display_data';\n",
              "          await google.colab.output.renderOutput(dataTable, element);\n",
              "          const docLink = document.createElement('div');\n",
              "          docLink.innerHTML = docLinkHtml;\n",
              "          element.appendChild(docLink);\n",
              "        }\n",
              "      </script>\n",
              "    </div>\n",
              "  </div>\n",
              "  "
            ]
          },
          "metadata": {},
          "execution_count": 107
        }
      ]
    },
    {
      "cell_type": "code",
      "source": [
        "train_df.total_lines.value_counts()"
      ],
      "metadata": {
        "colab": {
          "base_uri": "https://localhost:8080/"
        },
        "id": "tbC7Z7Gb-CU6",
        "outputId": "d99ce92f-2a07-4e17-f29e-796fa63bb10f"
      },
      "execution_count": null,
      "outputs": [
        {
          "output_type": "execute_result",
          "data": {
            "text/plain": [
              "11    24468\n",
              "10    23639\n",
              "12    22113\n",
              "9     19400\n",
              "13    18438\n",
              "14    14610\n",
              "8     12285\n",
              "15    10768\n",
              "7      7464\n",
              "16     7429\n",
              "17     5202\n",
              "6      3353\n",
              "18     3344\n",
              "19     2480\n",
              "20     1281\n",
              "5      1146\n",
              "21      770\n",
              "22      759\n",
              "23      264\n",
              "4       215\n",
              "24      200\n",
              "25      182\n",
              "26       81\n",
              "28       58\n",
              "3        32\n",
              "30       31\n",
              "27       28\n",
              "Name: total_lines, dtype: int64"
            ]
          },
          "metadata": {},
          "execution_count": 108
        }
      ]
    },
    {
      "cell_type": "code",
      "source": [
        "train_df.total_lines.plot.hist();"
      ],
      "metadata": {
        "colab": {
          "base_uri": "https://localhost:8080/",
          "height": 267
        },
        "id": "8PE7vbjo-FcX",
        "outputId": "cf1a9514-d313-4cee-ef50-8637f4498d48"
      },
      "execution_count": null,
      "outputs": [
        {
          "output_type": "display_data",
          "data": {
            "text/plain": [
              "<Figure size 432x288 with 1 Axes>"
            ],
            "image/png": "[encoded data removed]"
          },
          "metadata": {
            "needs_background": "light"
          }
        }
      ]
    },
    {
      "cell_type": "code",
      "source": [
        "total_lines_depth = int(np.percentile(train_df.total_lines, 95))"
      ],
      "metadata": {
        "id": "gqkQHVZ8-HRd"
      },
      "execution_count": null,
      "outputs": []
    },
    {
      "cell_type": "code",
      "source": [
        "train_total_lines_one_hot = tf.one_hot(train_df.total_lines.to_numpy(), depth=total_lines_depth)\n",
        "val_total_lines_one_hot = tf.one_hot(val_df.total_lines.to_numpy(), depth=total_lines_depth)\n",
        "test_total_lines_one_hot = tf.one_hot(test_df.total_lines.to_numpy(), depth=total_lines_depth)"
      ],
      "metadata": {
        "id": "7ineJRc_-NMN"
      },
      "execution_count": null,
      "outputs": []
    },
    {
      "cell_type": "code",
      "source": [
        "train_total_lines_one_hot.shape, train_total_lines_one_hot[:10]"
      ],
      "metadata": {
        "id": "_XDkR02b-nwJ",
        "colab": {
          "base_uri": "https://localhost:8080/"
        },
        "outputId": "12eca507-dddd-4aba-c614-6f8ad670aee2"
      },
      "execution_count": null,
      "outputs": [
        {
          "output_type": "execute_result",
          "data": {
            "text/plain": [
              "(TensorShape([180040, 18]), <tf.Tensor: shape=(10, 18), dtype=float32, numpy=\n",
              " array([[0., 0., 0., 0., 0., 0., 0., 0., 0., 0., 0., 1., 0., 0., 0., 0.,\n",
              "         0., 0.],\n",
              "        [0., 0., 0., 0., 0., 0., 0., 0., 0., 0., 0., 1., 0., 0., 0., 0.,\n",
              "         0., 0.],\n",
              "        [0., 0., 0., 0., 0., 0., 0., 0., 0., 0., 0., 1., 0., 0., 0., 0.,\n",
              "         0., 0.],\n",
              "        [0., 0., 0., 0., 0., 0., 0., 0., 0., 0., 0., 1., 0., 0., 0., 0.,\n",
              "         0., 0.],\n",
              "        [0., 0., 0., 0., 0., 0., 0., 0., 0., 0., 0., 1., 0., 0., 0., 0.,\n",
              "         0., 0.],\n",
              "        [0., 0., 0., 0., 0., 0., 0., 0., 0., 0., 0., 1., 0., 0., 0., 0.,\n",
              "         0., 0.],\n",
              "        [0., 0., 0., 0., 0., 0., 0., 0., 0., 0., 0., 1., 0., 0., 0., 0.,\n",
              "         0., 0.],\n",
              "        [0., 0., 0., 0., 0., 0., 0., 0., 0., 0., 0., 1., 0., 0., 0., 0.,\n",
              "         0., 0.],\n",
              "        [0., 0., 0., 0., 0., 0., 0., 0., 0., 0., 0., 1., 0., 0., 0., 0.,\n",
              "         0., 0.],\n",
              "        [0., 0., 0., 0., 0., 0., 0., 0., 0., 0., 0., 1., 0., 0., 0., 0.,\n",
              "         0., 0.]], dtype=float32)>)"
            ]
          },
          "metadata": {},
          "execution_count": 112
        }
      ]
    },
    {
      "cell_type": "markdown",
      "source": [
        "### Building a tribrid embedding model\n",
        "\n",
        "1. Create a token-level model\n",
        "2. Create a character-level model\n",
        "3. Create a model for the \"line_number\" feature\n",
        "4. Create a model for the \"total_lines\" feature\n",
        "5. Combine the outputs of 1 and 2 using `tf.keras.layers.Concatenate`\n",
        "6. Combine the outputs of 3, 4, 5 using `tf.keras.layers.Concatenate`\n",
        "7. Create an output layer to accept the tribrid embedding and output label probabilities.\n",
        "8. Combine inputs of 1, 2, 3, 4, and outputs of into a `tf.keras.Model`"
      ],
      "metadata": {
        "id": "EhyHCTexFONM"
      }
    },
    {
      "cell_type": "code",
      "source": [
        "# 1. Token inputs\n",
        "token_inputs = layers.Input(shape=[], dtype=tf.string, name=\"token_inputs\")\n",
        "token_embeddings = tf_hub_embedding_layer(token_inputs)\n",
        "token_outputs = layers.Dense(128, activation =\"relu\")(token_embeddings)\n",
        "token_model = tf.keras.Model(inputs=token_inputs,\n",
        "                             outputs=token_outputs)\n",
        "\n",
        "# 2. Character level model\n",
        "char_inputs = layers.Input(shape=(1,), dtype=tf.string, name=\"char_inputs\")\n",
        "char_vectors = char_vectorizer(char_inputs)\n",
        "char_embeddings = char_embed(char_vectors)\n",
        "char_bi_lstm = layers.Bidirectional(layers.LSTM(24))(char_embeddings)\n",
        "char_model = tf.keras.Model(inputs=char_inputs,\n",
        "                            outputs=char_bi_lstm)\n",
        "\n",
        "# 3. Line numbers model\n",
        "line_number_inputs = layers.Input(shape=(line_number_depth,), \n",
        "                                  dtype=tf.float32, \n",
        "                                  name=\"line_number_inputs\")\n",
        "\n",
        "x = layers.Dense(32, activation=\"relu\")(line_number_inputs)\n",
        "\n",
        "# Combine inputs and dense layer into a model\n",
        "line_numbers_model = tf.keras.Model(inputs=line_number_inputs,\n",
        "                                    outputs=x)\n",
        "\n",
        "\n",
        "# 4. total lines model\n",
        "total_lines_inputs = layers.Input(shape=(total_lines_depth,), dtype=tf.float32, name=\"total_lines_inputs\")\n",
        "y = layers.Dense(32, activation=\"relu\")(total_lines_inputs)\n",
        "total_lines_model = tf.keras.Model(inputs=total_lines_inputs,\n",
        "                                  outputs=y)\n",
        "\n",
        "# 5. Combine token and char embeddings into a hybrid embedding\n",
        "combined_embeddings = layers.Concatenate(name=\"token_char_hybrid_embedding\")([token_model.output,\n",
        "                                                                              char_model.output])\n",
        "\n",
        "z = layers.Dense(256, activation=\"relu\")(combined_embeddings)\n",
        "z = layers.Dropout(0.5)(z)\n",
        "\n",
        "# 6. Combine line_numbers_model and total_line_model\n",
        "tribrid_embeddings = layers.Concatenate(name=\"token_char_positional_concat\")([line_numbers_model.output,\n",
        "                                                                              total_lines_model.output,\n",
        "                                                                              z])\n",
        "\n",
        "# 7. Create an output layer to accept the tribried embedding and output label probabilities.\n",
        "output_layer = layers.Dense(5, activation=\"softmax\")(tribrid_embeddings)\n",
        "\n",
        "# 8. Combine inputs of 1, 2, 3, 4, and outputs of into a `tf.keras.Model`\n",
        "model_5 = tf.keras.Model(inputs=[token_model.input, char_model.input,\n",
        "                                 line_numbers_model.input,\n",
        "                                 total_lines_model.input],\n",
        "                         outputs=output_layer,\n",
        "                         name=\"tribrid_embedding_model\")\n",
        "\n",
        "\n",
        "\n",
        "model_5.summary()"
      ],
      "metadata": {
        "id": "yUsvdTvNAneZ",
        "colab": {
          "base_uri": "https://localhost:8080/"
        },
        "outputId": "f4012c56-c547-43a9-8798-5f44957fdbc6"
      },
      "execution_count": null,
      "outputs": [
        {
          "output_type": "stream",
          "name": "stdout",
          "text": [
            "Model: \"tribrid_embedding_model\"\n",
            "__________________________________________________________________________________________________\n",
            " Layer (type)                   Output Shape         Param #     Connected to                     \n",
            "==================================================================================================\n",
            " char_inputs (InputLayer)       [(None, 1)]          0           []                               \n",
            "                                                                                                  \n",
            " token_inputs (InputLayer)      [(None,)]            0           []                               \n",
            "                                                                                                  \n",
            " char_vectorizer (TextVectoriza  (None, 290)         0           ['char_inputs[0][0]']            \n",
            " tion)                                                                                            \n",
            "                                                                                                  \n",
            " universal_sentence_encoder (Ke  (None, 512)         256797824   ['token_inputs[0][0]']           \n",
            " rasLayer)                                                                                        \n",
            "                                                                                                  \n",
            " char_embedding (Embedding)     (None, 290, 25)      700         ['char_vectorizer[2][0]']        \n",
            "                                                                                                  \n",
            " dense_7 (Dense)                (None, 128)          65664       ['universal_sentence_encoder[2][0\n",
            "                                                                 ]']                              \n",
            "                                                                                                  \n",
            " bidirectional_1 (Bidirectional  (None, 48)          9600        ['char_embedding[2][0]']         \n",
            " )                                                                                                \n",
            "                                                                                                  \n",
            " token_char_hybrid_embedding (C  (None, 176)         0           ['dense_7[0][0]',                \n",
            " oncatenate)                                                      'bidirectional_1[0][0]']        \n",
            "                                                                                                  \n",
            " line_number_inputs (InputLayer  [(None, 13)]        0           []                               \n",
            " )                                                                                                \n",
            "                                                                                                  \n",
            " total_lines_inputs (InputLayer  [(None, 18)]        0           []                               \n",
            " )                                                                                                \n",
            "                                                                                                  \n",
            " dense_10 (Dense)               (None, 256)          45312       ['token_char_hybrid_embedding[0][\n",
            "                                                                 0]']                             \n",
            "                                                                                                  \n",
            " dense_8 (Dense)                (None, 32)           448         ['line_number_inputs[0][0]']     \n",
            "                                                                                                  \n",
            " dense_9 (Dense)                (None, 32)           608         ['total_lines_inputs[0][0]']     \n",
            "                                                                                                  \n",
            " dropout_2 (Dropout)            (None, 256)          0           ['dense_10[0][0]']               \n",
            "                                                                                                  \n",
            " token_char_positional_concat (  (None, 320)         0           ['dense_8[0][0]',                \n",
            " Concatenate)                                                     'dense_9[0][0]',                \n",
            "                                                                  'dropout_2[0][0]']              \n",
            "                                                                                                  \n",
            " dense_11 (Dense)               (None, 5)            1605        ['token_char_positional_concat[0]\n",
            "                                                                 [0]']                            \n",
            "                                                                                                  \n",
            "==================================================================================================\n",
            "Total params: 256,921,761\n",
            "Trainable params: 123,937\n",
            "Non-trainable params: 256,797,824\n",
            "__________________________________________________________________________________________________\n"
          ]
        }
      ]
    },
    {
      "cell_type": "code",
      "source": [
        "# Label smoothing helps to prevent overfitting \n",
        "model_5.compile(loss=tf.keras.losses.CategoricalCrossentropy(label_smoothing=0.2),\n",
        "                \n",
        "                optimizer=tf.keras.optimizers.Adam(),\n",
        "                metrics=[\"accuracy\"])"
      ],
      "metadata": {
        "id": "JUu4RFtjgEWZ"
      },
      "execution_count": null,
      "outputs": []
    },
    {
      "cell_type": "markdown",
      "source": [
        ">**What is label smoothing -** For example, if our model gets too confident on a single class (e.g. its prediction probability is really high), it may get stuck on that class and not consider other classes. Consider a eally confident prediction probability `[0.0, 0.0, 1.0, 0.0, 0.0]`. What label smoothing does is it assigns some of the value from the highest pred prob ot other classes, in turn, hopefully improving generalization: `[0.01, 0.01, 0.01, 0.96, 0.01, 0.01]`\n",
        "\n",
        "For more on label smoothing, [see this blog post from PyImageSearch](https://www.pyimagesearch.com/2019/12/30/label-smoothing-with-keras-tensorflow-and-deep-learning/)"
      ],
      "metadata": {
        "id": "9k_g5PeXgGMD"
      }
    },
    {
      "cell_type": "code",
      "source": [
        "plot_model(model_5, show_shapes=True)"
      ],
      "metadata": {
        "id": "bpJF5eMQPD0k",
        "colab": {
          "base_uri": "https://localhost:8080/",
          "height": 976
        },
        "outputId": "d7c98d28-a032-4392-ebb5-ea04b58f109a"
      },
      "execution_count": null,
      "outputs": [
        {
          "output_type": "execute_result",
          "data": {
            "image/png": "[encoded data removed]",
            "text/plain": [
              "<IPython.core.display.Image object>"
            ]
          },
          "metadata": {},
          "execution_count": 115
        }
      ]
    },
    {
      "cell_type": "markdown",
      "source": [
        "## Create performant data pipeline for model 5.\n",
        "Like we did on model 4, now we need to integrate two more inputs and outputs to our model.\n",
        "\n",
        "Repeat this process for train, validation and test data:\n",
        "\n",
        "1. Create dataset from tensor slices (use tuple of all input data as argument).\n",
        "2. Create label dataset and use tuples of all input labels as argument\n",
        "3. zip dataset and labels.\n",
        "\n"
      ],
      "metadata": {
        "id": "rwzFsI3dEs8Z"
      }
    },
    {
      "cell_type": "code",
      "source": [
        "# combine token and character data:\n",
        "\n",
        "# Train data\n",
        "train_tribrid_data = tf.data.Dataset.from_tensor_slices((train_sentences, train_chars,\n",
        "                                                         train_line_numbers_one_hot,\n",
        "                                                         train_total_lines_one_hot))\n",
        "train_tribrid_labels = tf.data.Dataset.from_tensor_slices(train_labels_one_hot)\n",
        "train_tribrid_dataset = tf.data.Dataset.zip((train_tribrid_data, train_tribrid_labels))\n",
        "train_tribrid_dataset = train_tribrid_dataset.batch(32).prefetch(tf.data.AUTOTUNE)\n",
        "\n",
        "# Validation data\n",
        "val_tribrid_data = tf.data.Dataset.from_tensor_slices((val_sentences, val_chars,\n",
        "                                                       val_line_numbers_one_hot,\n",
        "                                                       val_total_lines_one_hot))\n",
        "val_tribrid_labels = tf.data.Dataset.from_tensor_slices(val_labels_one_hot)\n",
        "val_tribrid_dataset = tf.data.Dataset.zip((val_tribrid_data, val_tribrid_labels))\n",
        "val_tribrid_dataset = val_tribrid_dataset.batch(32).prefetch(tf.data.AUTOTUNE)\n",
        "\n"
      ],
      "metadata": {
        "id": "ElD-BVQikRG7"
      },
      "execution_count": null,
      "outputs": []
    },
    {
      "cell_type": "code",
      "source": [
        "# Check input shapes\n",
        "train_tribrid_dataset, val_tribrid_dataset"
      ],
      "metadata": {
        "id": "ZP0SO0vzy64s",
        "colab": {
          "base_uri": "https://localhost:8080/"
        },
        "outputId": "91272ccc-7507-4b4b-b579-539d60cc07c1"
      },
      "execution_count": null,
      "outputs": [
        {
          "output_type": "execute_result",
          "data": {
            "text/plain": [
              "(<PrefetchDataset element_spec=((TensorSpec(shape=(None,), dtype=tf.string, name=None), TensorSpec(shape=(None,), dtype=tf.string, name=None), TensorSpec(shape=(None, 13), dtype=tf.float32, name=None), TensorSpec(shape=(None, 18), dtype=tf.float32, name=None)), TensorSpec(shape=(None, 5), dtype=tf.float64, name=None))>,\n",
              " <PrefetchDataset element_spec=((TensorSpec(shape=(None,), dtype=tf.string, name=None), TensorSpec(shape=(None,), dtype=tf.string, name=None), TensorSpec(shape=(None, 13), dtype=tf.float32, name=None), TensorSpec(shape=(None, 18), dtype=tf.float32, name=None)), TensorSpec(shape=(None, 5), dtype=tf.float64, name=None))>)"
            ]
          },
          "metadata": {},
          "execution_count": 117
        }
      ]
    },
    {
      "cell_type": "code",
      "source": [
        "history_model_5 = model_5.fit(train_tribrid_dataset,\n",
        "                              epochs=3,\n",
        "                              steps_per_epoch=int(0.1*len(train_tribrid_dataset)),\n",
        "                              validation_data=val_tribrid_dataset,\n",
        "                              validation_steps=int(0.1*len(val_tribrid_dataset)))"
      ],
      "metadata": {
        "id": "cHQokl1jl6v7",
        "colab": {
          "base_uri": "https://localhost:8080/"
        },
        "outputId": "5301656b-665e-46be-ca5b-8303ff2f5b9b"
      },
      "execution_count": null,
      "outputs": [
        {
          "output_type": "stream",
          "name": "stdout",
          "text": [
            "Epoch 1/3\n",
            "562/562 [==============================] - 34s 46ms/step - loss: 1.0918 - accuracy: 0.7290 - val_loss: 0.9823 - val_accuracy: 0.8015\n",
            "Epoch 2/3\n",
            "562/562 [==============================] - 23s 40ms/step - loss: 0.9683 - accuracy: 0.8160 - val_loss: 0.9505 - val_accuracy: 0.8275\n",
            "Epoch 3/3\n",
            "562/562 [==============================] - 21s 37ms/step - loss: 0.9506 - accuracy: 0.8205 - val_loss: 0.9366 - val_accuracy: 0.8334\n"
          ]
        }
      ]
    },
    {
      "cell_type": "code",
      "source": [
        "# Evaluate model\n",
        "model_5.evaluate(val_tribrid_dataset)"
      ],
      "metadata": {
        "id": "X6DTMyXPxgGK",
        "colab": {
          "base_uri": "https://localhost:8080/"
        },
        "outputId": "288e94c3-9c22-4673-cd4f-058eb5fbcfc2"
      },
      "execution_count": null,
      "outputs": [
        {
          "output_type": "stream",
          "name": "stdout",
          "text": [
            "945/945 [==============================] - 19s 20ms/step - loss: 0.9352 - accuracy: 0.8324\n"
          ]
        },
        {
          "output_type": "execute_result",
          "data": {
            "text/plain": [
              "[0.9351701140403748, 0.832384467124939]"
            ]
          },
          "metadata": {},
          "execution_count": 119
        }
      ]
    },
    {
      "cell_type": "code",
      "source": [
        "# Make predictions with model_5\n",
        "model_5_pred_probs = model_5.predict(val_tribrid_dataset)\n",
        "model_5_preds = tf.argmax(model_5_pred_probs, axis=1)\n",
        "model_5_preds[:10]"
      ],
      "metadata": {
        "id": "Az3IzSKy1dyN",
        "colab": {
          "base_uri": "https://localhost:8080/"
        },
        "outputId": "3ce95273-1d2b-4f93-aea1-5705f9f49556"
      },
      "execution_count": null,
      "outputs": [
        {
          "output_type": "execute_result",
          "data": {
            "text/plain": [
              "<tf.Tensor: shape=(10,), dtype=int64, numpy=array([0, 0, 3, 2, 2, 4, 4, 4, 4, 1])>"
            ]
          },
          "metadata": {},
          "execution_count": 120
        }
      ]
    },
    {
      "cell_type": "code",
      "source": [
        "# Calculate model_5 results\n",
        "model_5_results = calculate_results(y_true=val_labels_encoded,\n",
        "                                    y_pred=model_5_preds)\n",
        "model_5_results"
      ],
      "metadata": {
        "id": "mppTto6W12o6",
        "colab": {
          "base_uri": "https://localhost:8080/"
        },
        "outputId": "70ec5951-5b12-4c39-b33d-cc3558f6c060"
      },
      "execution_count": null,
      "outputs": [
        {
          "output_type": "execute_result",
          "data": {
            "text/plain": [
              "{'accuracy': 83.23844829868926,\n",
              " 'precision': 0.8310299931857428,\n",
              " 'recall': 0.8323844829868926,\n",
              " 'f1': 0.831219539748062}"
            ]
          },
          "metadata": {},
          "execution_count": 121
        }
      ]
    },
    {
      "cell_type": "code",
      "source": [
        "baseline_results"
      ],
      "metadata": {
        "id": "Vkv34OM22M8t",
        "colab": {
          "base_uri": "https://localhost:8080/"
        },
        "outputId": "51ee1586-3182-4183-dad9-00baa1dc05cc"
      },
      "execution_count": null,
      "outputs": [
        {
          "output_type": "execute_result",
          "data": {
            "text/plain": [
              "{'accuracy': 72.1832384482987,\n",
              " 'precision': 0.7186466952323352,\n",
              " 'recall': 0.7218323844829869,\n",
              " 'f1': 0.6989250353450294}"
            ]
          },
          "metadata": {},
          "execution_count": 122
        }
      ]
    },
    {
      "cell_type": "code",
      "source": [
        "model_4_results"
      ],
      "metadata": {
        "id": "fxQxdpaR2dMG",
        "colab": {
          "base_uri": "https://localhost:8080/"
        },
        "outputId": "13902583-dd6e-4654-fadf-e9aafbfa1627"
      },
      "execution_count": null,
      "outputs": [
        {
          "output_type": "execute_result",
          "data": {
            "text/plain": [
              "{'accuracy': 73.69919237389117,\n",
              " 'precision': 0.7371155155926274,\n",
              " 'recall': 0.7369919237389116,\n",
              " 'f1': 0.7353071076514588}"
            ]
          },
          "metadata": {},
          "execution_count": 123
        }
      ]
    },
    {
      "cell_type": "code",
      "source": [
        "## Compare all our different model results\n",
        "all_model_results = pd.DataFrame({\"model_0_baseline\" :baseline_results,\n",
        "                                  \"model_1_custom_token_embedding\": model_1_results,\n",
        "                                  \"model_2_pretrained_token_embedding\": model_2_results,\n",
        "                                  \"model_3_char_embedding\": model_3_results,\n",
        "                                  \"model_4_hybrid_char_token_embedding\": model_4_results,\n",
        "                                  \"model_5_pos_char_token_embedding\": model_5_results})\n",
        "\n",
        "all_model_results = all_model_results.transpose().sort_values(by=\"f1\", ascending=False)\n",
        "all_model_results[\"accuracy\"] = all_model_results.accuracy/100\n",
        "all_model_results"
      ],
      "metadata": {
        "id": "8UFf1kuc3gW-",
        "colab": {
          "base_uri": "https://localhost:8080/",
          "height": 238
        },
        "outputId": "80f8ee10-4b54-4d7d-f9f4-0f23a5cd8468"
      },
      "execution_count": null,
      "outputs": [
        {
          "output_type": "execute_result",
          "data": {
            "text/plain": [
              "                                     accuracy  precision    recall        f1\n",
              "model_5_pos_char_token_embedding     0.832384   0.831030  0.832384  0.831220\n",
              "model_1_custom_token_embedding       0.786906   0.784366  0.786906  0.784605\n",
              "model_4_hybrid_char_token_embedding  0.736992   0.737116  0.736992  0.735307\n",
              "model_2_pretrained_token_embedding   0.713624   0.713659  0.713624  0.710734\n",
              "model_0_baseline                     0.721832   0.718647  0.721832  0.698925\n",
              "model_3_char_embedding               0.692970   0.689478  0.692970  0.685259"
            ],
            "text/html": [
              "\n",
              "  <div id=\"df-5e948c6b-46bc-4c89-ac5f-be8e25282624\">\n",
              "    <div class=\"colab-df-container\">\n",
              "      <div>\n",
              "<style scoped>\n",
              "    .dataframe tbody tr th:only-of-type {\n",
              "        vertical-align: middle;\n",
              "    }\n",
              "\n",
              "    .dataframe tbody tr th {\n",
              "        vertical-align: top;\n",
              "    }\n",
              "\n",
              "    .dataframe thead th {\n",
              "        text-align: right;\n",
              "    }\n",
              "</style>\n",
              "<table border=\"1\" class=\"dataframe\">\n",
              "  <thead>\n",
              "    <tr style=\"text-align: right;\">\n",
              "      <th></th>\n",
              "      <th>accuracy</th>\n",
              "      <th>precision</th>\n",
              "      <th>recall</th>\n",
              "      <th>f1</th>\n",
              "    </tr>\n",
              "  </thead>\n",
              "  <tbody>\n",
              "    <tr>\n",
              "      <th>model_5_pos_char_token_embedding</th>\n",
              "      <td>0.832384</td>\n",
              "      <td>0.831030</td>\n",
              "      <td>0.832384</td>\n",
              "      <td>0.831220</td>\n",
              "    </tr>\n",
              "    <tr>\n",
              "      <th>model_1_custom_token_embedding</th>\n",
              "      <td>0.786906</td>\n",
              "      <td>0.784366</td>\n",
              "      <td>0.786906</td>\n",
              "      <td>0.784605</td>\n",
              "    </tr>\n",
              "    <tr>\n",
              "      <th>model_4_hybrid_char_token_embedding</th>\n",
              "      <td>0.736992</td>\n",
              "      <td>0.737116</td>\n",
              "      <td>0.736992</td>\n",
              "      <td>0.735307</td>\n",
              "    </tr>\n",
              "    <tr>\n",
              "      <th>model_2_pretrained_token_embedding</th>\n",
              "      <td>0.713624</td>\n",
              "      <td>0.713659</td>\n",
              "      <td>0.713624</td>\n",
              "      <td>0.710734</td>\n",
              "    </tr>\n",
              "    <tr>\n",
              "      <th>model_0_baseline</th>\n",
              "      <td>0.721832</td>\n",
              "      <td>0.718647</td>\n",
              "      <td>0.721832</td>\n",
              "      <td>0.698925</td>\n",
              "    </tr>\n",
              "    <tr>\n",
              "      <th>model_3_char_embedding</th>\n",
              "      <td>0.692970</td>\n",
              "      <td>0.689478</td>\n",
              "      <td>0.692970</td>\n",
              "      <td>0.685259</td>\n",
              "    </tr>\n",
              "  </tbody>\n",
              "</table>\n",
              "</div>\n",
              "      <button class=\"colab-df-convert\" onclick=\"convertToInteractive('df-5e948c6b-46bc-4c89-ac5f-be8e25282624')\"\n",
              "              title=\"Convert this dataframe to an interactive table.\"\n",
              "              style=\"display:none;\">\n",
              "        \n",
              "  <svg xmlns=\"http://www.w3.org/2000/svg\" height=\"24px\"viewBox=\"0 0 24 24\"\n",
              "       width=\"24px\">\n",
              "    <path d=\"M0 0h24v24H0V0z\" fill=\"none\"/>\n",
              "    <path d=\"M18.56 5.44l.94 2.06.94-2.06 2.06-.94-2.06-.94-.94-2.06-.94 2.06-2.06.94zm-11 1L8.5 8.5l.94-2.06 2.06-.94-2.06-.94L8.5 2.5l-.94 2.06-2.06.94zm10 10l.94 2.06.94-2.06 2.06-.94-2.06-.94-.94-2.06-.94 2.06-2.06.94z\"/><path d=\"M17.41 7.96l-1.37-1.37c-.4-.4-.92-.59-1.43-.59-.52 0-1.04.2-1.43.59L10.3 9.45l-7.72 7.72c-.78.78-.78 2.05 0 2.83L4 21.41c.39.39.9.59 1.41.59.51 0 1.02-.2 1.41-.59l7.78-7.78 2.81-2.81c.8-.78.8-2.07 0-2.86zM5.41 20L4 18.59l7.72-7.72 1.47 1.35L5.41 20z\"/>\n",
              "  </svg>\n",
              "      </button>\n",
              "      \n",
              "  <style>\n",
              "    .colab-df-container {\n",
              "      display:flex;\n",
              "      flex-wrap:wrap;\n",
              "      gap: 12px;\n",
              "    }\n",
              "\n",
              "    .colab-df-convert {\n",
              "      background-color: #E8F0FE;\n",
              "      border: none;\n",
              "      border-radius: 50%;\n",
              "      cursor: pointer;\n",
              "      display: none;\n",
              "      fill: #1967D2;\n",
              "      height: 32px;\n",
              "      padding: 0 0 0 0;\n",
              "      width: 32px;\n",
              "    }\n",
              "\n",
              "    .colab-df-convert:hover {\n",
              "      background-color: #E2EBFA;\n",
              "      box-shadow: 0px 1px 2px rgba(60, 64, 67, 0.3), 0px 1px 3px 1px rgba(60, 64, 67, 0.15);\n",
              "      fill: #174EA6;\n",
              "    }\n",
              "\n",
              "    [theme=dark] .colab-df-convert {\n",
              "      background-color: #3B4455;\n",
              "      fill: #D2E3FC;\n",
              "    }\n",
              "\n",
              "    [theme=dark] .colab-df-convert:hover {\n",
              "      background-color: #434B5C;\n",
              "      box-shadow: 0px 1px 3px 1px rgba(0, 0, 0, 0.15);\n",
              "      filter: drop-shadow(0px 1px 2px rgba(0, 0, 0, 0.3));\n",
              "      fill: #FFFFFF;\n",
              "    }\n",
              "  </style>\n",
              "\n",
              "      <script>\n",
              "        const buttonEl =\n",
              "          document.querySelector('#df-5e948c6b-46bc-4c89-ac5f-be8e25282624 button.colab-df-convert');\n",
              "        buttonEl.style.display =\n",
              "          google.colab.kernel.accessAllowed ? 'block' : 'none';\n",
              "\n",
              "        async function convertToInteractive(key) {\n",
              "          const element = document.querySelector('#df-5e948c6b-46bc-4c89-ac5f-be8e25282624');\n",
              "          const dataTable =\n",
              "            await google.colab.kernel.invokeFunction('convertToInteractive',\n",
              "                                                     [key], {});\n",
              "          if (!dataTable) return;\n",
              "\n",
              "          const docLinkHtml = 'Like what you see? Visit the ' +\n",
              "            '<a target=\"_blank\" href=https://colab.research.google.com/notebooks/data_table.ipynb>data table notebook</a>'\n",
              "            + ' to learn more about interactive tables.';\n",
              "          element.innerHTML = '';\n",
              "          dataTable['output_type'] = 'display_data';\n",
              "          await google.colab.output.renderOutput(dataTable, element);\n",
              "          const docLink = document.createElement('div');\n",
              "          docLink.innerHTML = docLinkHtml;\n",
              "          element.appendChild(docLink);\n",
              "        }\n",
              "      </script>\n",
              "    </div>\n",
              "  </div>\n",
              "  "
            ]
          },
          "metadata": {},
          "execution_count": 124
        }
      ]
    },
    {
      "cell_type": "code",
      "source": [
        "all_model_results.plot(kind=\"bar\", figsize=(10, 7)).legend(bbox_to_anchor=(1.0, 1.0));"
      ],
      "metadata": {
        "id": "j4NBgm9e7QSq",
        "colab": {
          "base_uri": "https://localhost:8080/",
          "height": 619
        },
        "outputId": "6ef3c644-9306-4755-abf5-3cedc5dc35ca"
      },
      "execution_count": null,
      "outputs": [
        {
          "output_type": "display_data",
          "data": {
            "text/plain": [
              "<Figure size 720x504 with 1 Axes>"
            ],
            "image/png": "[encoded data removed]"
          },
          "metadata": {
            "needs_background": "light"
          }
        }
      ]
    },
    {
      "cell_type": "code",
      "source": [
        "from helper_functions import make_confusion_matrix\n",
        "\n",
        "class_names = np.concatenate([y for x, y in val_tribrid_dataset],axis=0)\n",
        "make_confusion_matrix(y_true=val_labels_encoded,\n",
        "                      y_pred=model_5_preds,\n",
        "                      classes=class_names.all())"
      ],
      "metadata": {
        "id": "z-ScEgS68a3R",
        "colab": {
          "base_uri": "https://localhost:8080/",
          "height": 574
        },
        "outputId": "50352fc8-3963-4ae8-a0de-e6b98671d9a1"
      },
      "execution_count": null,
      "outputs": [
        {
          "output_type": "display_data",
          "data": {
            "text/plain": [
              "<Figure size 720x720 with 2 Axes>"
            ],
            "image/png": "[encoded data removed]"
          },
          "metadata": {
            "needs_background": "light"
          }
        }
      ]
    },
    {
      "cell_type": "code",
      "source": [
        "model_5.save(\"skimlit_tribrid_model\")"
      ],
      "metadata": {
        "id": "gqYz5ZGf91h0",
        "colab": {
          "base_uri": "https://localhost:8080/"
        },
        "outputId": "844f5fc0-d50a-42d6-d261-63bdc3b83e2d"
      },
      "execution_count": null,
      "outputs": [
        {
          "output_type": "stream",
          "name": "stderr",
          "text": [
            "WARNING:absl:Found untraced functions such as lstm_cell_4_layer_call_fn, lstm_cell_4_layer_call_and_return_conditional_losses, lstm_cell_5_layer_call_fn, lstm_cell_5_layer_call_and_return_conditional_losses while saving (showing 4 of 4). These functions will not be directly callable after loading.\n",
            "WARNING:absl:<keras.layers.recurrent.LSTMCell object at 0x7f7461ebe590> has the same name 'LSTMCell' as a built-in Keras object. Consider renaming <class 'keras.layers.recurrent.LSTMCell'> to avoid naming conflicts when loading with `tf.keras.models.load_model`. If renaming is not possible, pass the object in the `custom_objects` parameter of the load function.\n",
            "WARNING:absl:<keras.layers.recurrent.LSTMCell object at 0x7f7461e42b10> has the same name 'LSTMCell' as a built-in Keras object. Consider renaming <class 'keras.layers.recurrent.LSTMCell'> to avoid naming conflicts when loading with `tf.keras.models.load_model`. If renaming is not possible, pass the object in the `custom_objects` parameter of the load function.\n"
          ]
        }
      ]
    },
    {
      "cell_type": "code",
      "source": [
        "# Load in best performing model\n",
        "loaded_model = tf.keras.models.load_model(\"skimlit_tribrid_model\")"
      ],
      "metadata": {
        "id": "6caww71z_44K"
      },
      "execution_count": null,
      "outputs": []
    },
    {
      "cell_type": "code",
      "source": [
        "\n",
        "loaded_model.evaluate(val_tribrid_dataset)"
      ],
      "metadata": {
        "id": "Wf8HL4JzEiOv",
        "colab": {
          "base_uri": "https://localhost:8080/"
        },
        "outputId": "39e1f669-62bf-416e-bd00-837ef129ec4d"
      },
      "execution_count": null,
      "outputs": [
        {
          "output_type": "stream",
          "name": "stdout",
          "text": [
            "945/945 [==============================] - 21s 19ms/step - loss: 0.9352 - accuracy: 0.8324\n"
          ]
        },
        {
          "output_type": "execute_result",
          "data": {
            "text/plain": [
              "[0.9351701140403748, 0.832384467124939]"
            ]
          },
          "metadata": {},
          "execution_count": 129
        }
      ]
    },
    {
      "cell_type": "code",
      "source": [
        "# Make predictions with the loaded model on the validation set\n",
        "loaded_pred_probs = loaded_model.predict(val_tribrid_dataset)\n",
        "loaded_preds = tf.argmax(loaded_pred_probs, axis=1)\n",
        "loaded_preds[:10]"
      ],
      "metadata": {
        "id": "qYkkAemOE3-o",
        "colab": {
          "base_uri": "https://localhost:8080/"
        },
        "outputId": "97df2067-dd63-4987-f009-7d326415104b"
      },
      "execution_count": null,
      "outputs": [
        {
          "output_type": "execute_result",
          "data": {
            "text/plain": [
              "<tf.Tensor: shape=(10,), dtype=int64, numpy=array([0, 0, 3, 2, 2, 4, 4, 4, 4, 1])>"
            ]
          },
          "metadata": {},
          "execution_count": 130
        }
      ]
    },
    {
      "cell_type": "code",
      "source": [
        "# Calculate results of our loaded model\n",
        "loaded_model_results = calculate_results(y_true=val_labels_encoded,\n",
        "                                        y_pred=loaded_preds)\n",
        "loaded_model_results"
      ],
      "metadata": {
        "id": "f-8nHjpqFFmk",
        "colab": {
          "base_uri": "https://localhost:8080/"
        },
        "outputId": "9661af82-9686-4ed6-d2cf-b887d8f4c6b0"
      },
      "execution_count": null,
      "outputs": [
        {
          "output_type": "execute_result",
          "data": {
            "text/plain": [
              "{'accuracy': 83.23844829868926,\n",
              " 'precision': 0.8310299931857428,\n",
              " 'recall': 0.8323844829868926,\n",
              " 'f1': 0.831219539748062}"
            ]
          },
          "metadata": {},
          "execution_count": 131
        }
      ]
    },
    {
      "cell_type": "code",
      "source": [
        "assert model_5_results == loaded_model_results"
      ],
      "metadata": {
        "id": "AAeKHCd8ExT2"
      },
      "execution_count": null,
      "outputs": []
    },
    {
      "cell_type": "code",
      "source": [
        "## Download and load in a pretrined model from Google Storage\n",
        "!wget https://storage.googleapis.com/ztm_tf_course/skimlit/skimlit_tribrid_model.zip\n",
        "!mdir skimlit_gs_model\n",
        "!unzip skimlit_tribrid_ymodel.zip -d skimlit_gs_model\n"
      ],
      "metadata": {
        "id": "I0Xvq5HVE3J3",
        "colab": {
          "base_uri": "https://localhost:8080/"
        },
        "outputId": "417f0bca-c57b-44f2-d6aa-d33dd3473664"
      },
      "execution_count": null,
      "outputs": [
        {
          "output_type": "stream",
          "name": "stdout",
          "text": [
            "--2022-09-02 13:22:42--  https://storage.googleapis.com/ztm_tf_course/skimlit/skimlit_tribrid_model.zip\n",
            "Resolving storage.googleapis.com (storage.googleapis.com)... 108.177.127.128, 142.250.153.128, 142.250.145.128, ...\n",
            "Connecting to storage.googleapis.com (storage.googleapis.com)|108.177.127.128|:443... connected.\n",
            "HTTP request sent, awaiting response... 200 OK\n",
            "Length: 962561955 (918M) [application/zip]\n",
            "Saving to: ‘skimlit_tribrid_model.zip’\n",
            "\n",
            "skimlit_tribrid_mod 100%[===================>] 917.97M   109MB/s    in 9.2s    \n",
            "\n",
            "2022-09-02 13:22:51 (99.3 MB/s) - ‘skimlit_tribrid_model.zip’ saved [962561955/962561955]\n",
            "\n",
            "/bin/bash: mdir: command not found\n",
            "unzip:  cannot find or open skimlit_tribrid_ymodel.zip, skimlit_tribrid_ymodel.zip.zip or skimlit_tribrid_ymodel.zip.ZIP.\n"
          ]
        }
      ]
    },
    {
      "cell_type": "code",
      "source": [
        "model_5_pred_probs = model_5.predict(val_tribrid_dataset)\n",
        "model_5_preds = tf.argmax(model_5_pred_probs, axis=1)\n",
        "model_5_preds[:10]\n"
      ],
      "metadata": {
        "id": "RyAkdg3QHWsA",
        "colab": {
          "base_uri": "https://localhost:8080/"
        },
        "outputId": "a9816249-8616-452e-9576-6e4f03aaf5c5"
      },
      "execution_count": null,
      "outputs": [
        {
          "output_type": "execute_result",
          "data": {
            "text/plain": [
              "<tf.Tensor: shape=(10,), dtype=int64, numpy=array([0, 0, 3, 2, 2, 4, 4, 4, 4, 1])>"
            ]
          },
          "metadata": {},
          "execution_count": 134
        }
      ]
    },
    {
      "cell_type": "markdown",
      "source": [
        "# Challenges:\n",
        "\n",
        "1. Turn the test data samples into a tf.data Dataset (fast loading) and evaluate the best performing model on the test samples.\n",
        "\n",
        "2. Find the most wrong predictions from 1 (these are the samples where the model has predicted the wrong labels with the highest prediction probability).\n",
        "\n",
        "3. Make example predictions (on RCT abstracts from the wild). Go on to [PubMed](https://pubmed.ncbi.nlm.nih.gov/), find and use our model to predict on 3-4 different abstracts from the wild.\n",
        "  * [Some examples](https://github.com/mrdbourke/tensorflow-deep-learning/blob/main/extras/skimlit_example_abstracts.json).\n",
        "\n",
        "4. See the exercises and extra curriculum section on GitHub to further test skills (for section 09)"
      ],
      "metadata": {
        "id": "eT09PVIRKeCd"
      }
    },
    {
      "cell_type": "markdown",
      "source": [
        "### 1. Turn test data samples into a `tf.data` dataset."
      ],
      "metadata": {
        "id": "qUoqqlNXMIJv"
      }
    },
    {
      "cell_type": "code",
      "source": [
        "test_df.head()"
      ],
      "metadata": {
        "id": "Wz0ktY_7TN1d",
        "colab": {
          "base_uri": "https://localhost:8080/",
          "height": 268
        },
        "outputId": "6052ebcb-6f9b-4a7d-a2e5-e5d47872c42e"
      },
      "execution_count": null,
      "outputs": [
        {
          "output_type": "execute_result",
          "data": {
            "text/plain": [
              "       target  \\\n",
              "0  BACKGROUND   \n",
              "1     RESULTS   \n",
              "2     RESULTS   \n",
              "3     RESULTS   \n",
              "4     RESULTS   \n",
              "\n",
              "                                                                                                                                                                                                                                                                                                                                                               text  \\\n",
              "0                                                                                                                                                                                                                      this study analyzed liver function abnormalities in heart failure patients admitted with severe acute decompensated heart failure ( adhf ) .   \n",
              "1                                                                                                                                                                                      a post hoc analysis was conducted with the use of data from the evaluation study of congestive heart failure and pulmonary artery catheterization effectiveness ( escape ) .   \n",
              "2                                                                                                                                                                                                                                        liver function tests ( lfts ) were measured at @ time points from baseline , at discharge , and up to @ months follow-up .   \n",
              "3  survival analyses were used to assess the association between admission model of end-stage liver disease excluding international normalized ratio ( meld-xi ) scores and patient outcome.there was a high prevalence of abnormal baseline ( admission ) lfts ( albumin @ % , aspartate transaminase @ % , alanine transaminase @ % , and total bilirubin @ % ) .   \n",
              "4                                                                                                                                                                                                                                                     the percentage of patients with abnormal lfts decreased significantly from baseline to @-months ' follow-up .   \n",
              "\n",
              "   line_number  total_lines  \n",
              "0            0            8  \n",
              "1            1            8  \n",
              "2            2            8  \n",
              "3            3            8  \n",
              "4            4            8  "
            ],
            "text/html": [
              "\n",
              "  <div id=\"df-fbd2e35f-f5ac-4cc1-96a7-c4db42df4b08\">\n",
              "    <div class=\"colab-df-container\">\n",
              "      <div>\n",
              "<style scoped>\n",
              "    .dataframe tbody tr th:only-of-type {\n",
              "        vertical-align: middle;\n",
              "    }\n",
              "\n",
              "    .dataframe tbody tr th {\n",
              "        vertical-align: top;\n",
              "    }\n",
              "\n",
              "    .dataframe thead th {\n",
              "        text-align: right;\n",
              "    }\n",
              "</style>\n",
              "<table border=\"1\" class=\"dataframe\">\n",
              "  <thead>\n",
              "    <tr style=\"text-align: right;\">\n",
              "      <th></th>\n",
              "      <th>target</th>\n",
              "      <th>text</th>\n",
              "      <th>line_number</th>\n",
              "      <th>total_lines</th>\n",
              "    </tr>\n",
              "  </thead>\n",
              "  <tbody>\n",
              "    <tr>\n",
              "      <th>0</th>\n",
              "      <td>BACKGROUND</td>\n",
              "      <td>this study analyzed liver function abnormalities in heart failure patients admitted with severe acute decompensated heart failure ( adhf ) .</td>\n",
              "      <td>0</td>\n",
              "      <td>8</td>\n",
              "    </tr>\n",
              "    <tr>\n",
              "      <th>1</th>\n",
              "      <td>RESULTS</td>\n",
              "      <td>a post hoc analysis was conducted with the use of data from the evaluation study of congestive heart failure and pulmonary artery catheterization effectiveness ( escape ) .</td>\n",
              "      <td>1</td>\n",
              "      <td>8</td>\n",
              "    </tr>\n",
              "    <tr>\n",
              "      <th>2</th>\n",
              "      <td>RESULTS</td>\n",
              "      <td>liver function tests ( lfts ) were measured at @ time points from baseline , at discharge , and up to @ months follow-up .</td>\n",
              "      <td>2</td>\n",
              "      <td>8</td>\n",
              "    </tr>\n",
              "    <tr>\n",
              "      <th>3</th>\n",
              "      <td>RESULTS</td>\n",
              "      <td>survival analyses were used to assess the association between admission model of end-stage liver disease excluding international normalized ratio ( meld-xi ) scores and patient outcome.there was a high prevalence of abnormal baseline ( admission ) lfts ( albumin @ % , aspartate transaminase @ % , alanine transaminase @ % , and total bilirubin @ % ) .</td>\n",
              "      <td>3</td>\n",
              "      <td>8</td>\n",
              "    </tr>\n",
              "    <tr>\n",
              "      <th>4</th>\n",
              "      <td>RESULTS</td>\n",
              "      <td>the percentage of patients with abnormal lfts decreased significantly from baseline to @-months ' follow-up .</td>\n",
              "      <td>4</td>\n",
              "      <td>8</td>\n",
              "    </tr>\n",
              "  </tbody>\n",
              "</table>\n",
              "</div>\n",
              "      <button class=\"colab-df-convert\" onclick=\"convertToInteractive('df-fbd2e35f-f5ac-4cc1-96a7-c4db42df4b08')\"\n",
              "              title=\"Convert this dataframe to an interactive table.\"\n",
              "              style=\"display:none;\">\n",
              "        \n",
              "  <svg xmlns=\"http://www.w3.org/2000/svg\" height=\"24px\"viewBox=\"0 0 24 24\"\n",
              "       width=\"24px\">\n",
              "    <path d=\"M0 0h24v24H0V0z\" fill=\"none\"/>\n",
              "    <path d=\"M18.56 5.44l.94 2.06.94-2.06 2.06-.94-2.06-.94-.94-2.06-.94 2.06-2.06.94zm-11 1L8.5 8.5l.94-2.06 2.06-.94-2.06-.94L8.5 2.5l-.94 2.06-2.06.94zm10 10l.94 2.06.94-2.06 2.06-.94-2.06-.94-.94-2.06-.94 2.06-2.06.94z\"/><path d=\"M17.41 7.96l-1.37-1.37c-.4-.4-.92-.59-1.43-.59-.52 0-1.04.2-1.43.59L10.3 9.45l-7.72 7.72c-.78.78-.78 2.05 0 2.83L4 21.41c.39.39.9.59 1.41.59.51 0 1.02-.2 1.41-.59l7.78-7.78 2.81-2.81c.8-.78.8-2.07 0-2.86zM5.41 20L4 18.59l7.72-7.72 1.47 1.35L5.41 20z\"/>\n",
              "  </svg>\n",
              "      </button>\n",
              "      \n",
              "  <style>\n",
              "    .colab-df-container {\n",
              "      display:flex;\n",
              "      flex-wrap:wrap;\n",
              "      gap: 12px;\n",
              "    }\n",
              "\n",
              "    .colab-df-convert {\n",
              "      background-color: #E8F0FE;\n",
              "      border: none;\n",
              "      border-radius: 50%;\n",
              "      cursor: pointer;\n",
              "      display: none;\n",
              "      fill: #1967D2;\n",
              "      height: 32px;\n",
              "      padding: 0 0 0 0;\n",
              "      width: 32px;\n",
              "    }\n",
              "\n",
              "    .colab-df-convert:hover {\n",
              "      background-color: #E2EBFA;\n",
              "      box-shadow: 0px 1px 2px rgba(60, 64, 67, 0.3), 0px 1px 3px 1px rgba(60, 64, 67, 0.15);\n",
              "      fill: #174EA6;\n",
              "    }\n",
              "\n",
              "    [theme=dark] .colab-df-convert {\n",
              "      background-color: #3B4455;\n",
              "      fill: #D2E3FC;\n",
              "    }\n",
              "\n",
              "    [theme=dark] .colab-df-convert:hover {\n",
              "      background-color: #434B5C;\n",
              "      box-shadow: 0px 1px 3px 1px rgba(0, 0, 0, 0.15);\n",
              "      filter: drop-shadow(0px 1px 2px rgba(0, 0, 0, 0.3));\n",
              "      fill: #FFFFFF;\n",
              "    }\n",
              "  </style>\n",
              "\n",
              "      <script>\n",
              "        const buttonEl =\n",
              "          document.querySelector('#df-fbd2e35f-f5ac-4cc1-96a7-c4db42df4b08 button.colab-df-convert');\n",
              "        buttonEl.style.display =\n",
              "          google.colab.kernel.accessAllowed ? 'block' : 'none';\n",
              "\n",
              "        async function convertToInteractive(key) {\n",
              "          const element = document.querySelector('#df-fbd2e35f-f5ac-4cc1-96a7-c4db42df4b08');\n",
              "          const dataTable =\n",
              "            await google.colab.kernel.invokeFunction('convertToInteractive',\n",
              "                                                     [key], {});\n",
              "          if (!dataTable) return;\n",
              "\n",
              "          const docLinkHtml = 'Like what you see? Visit the ' +\n",
              "            '<a target=\"_blank\" href=https://colab.research.google.com/notebooks/data_table.ipynb>data table notebook</a>'\n",
              "            + ' to learn more about interactive tables.';\n",
              "          element.innerHTML = '';\n",
              "          dataTable['output_type'] = 'display_data';\n",
              "          await google.colab.output.renderOutput(dataTable, element);\n",
              "          const docLink = document.createElement('div');\n",
              "          docLink.innerHTML = docLinkHtml;\n",
              "          element.appendChild(docLink);\n",
              "        }\n",
              "      </script>\n",
              "    </div>\n",
              "  </div>\n",
              "  "
            ]
          },
          "metadata": {},
          "execution_count": 135
        }
      ]
    },
    {
      "cell_type": "markdown",
      "source": [
        "For test data samples, I need (1) to set up the dataset object with the four following:\n",
        "\n",
        "* `test_sentences`\n",
        "* `test_chars`\n",
        "* `test_line_numbers_one_hot`\n",
        "* `test_total_lines_one_hot`\n",
        "\n",
        "Then, (2) set up the label as a tf.data.Dataset object\n",
        "\n",
        "* `test_labels_one_hot`\n",
        "\n",
        "Afterwards, (3) create a dataset with zipped (1) and (2) into a single dataset.\n",
        "\n",
        "Finally (4) make the dataset loader performant, with batching and `tf.data.AUTOTUNE`."
      ],
      "metadata": {
        "id": "qjv7qEC0TSdU"
      }
    },
    {
      "cell_type": "code",
      "source": [
        "# 1. Set data without labels as tf.data.Dataset object\n",
        "test_tribrid_data = tf.data.Dataset.from_tensor_slices((test_sentences, test_chars, \n",
        "                                                        test_line_numbers_one_hot, \n",
        "                                                        test_total_lines_one_hot))\n",
        "\n",
        "# 2. Set labels as tf.data.Dataset object\n",
        "test_tribrid_labels = tf.data.Dataset.from_tensor_slices(test_labels_one_hot)\n",
        "\n",
        "# 3. Zip data and labels into single dataset. This makes tuples inside the single dataset, which is taken by the model.\n",
        "test_tribrid_dataset = tf.data.Dataset.zip((test_tribrid_data, test_tribrid_labels))\n",
        "\n",
        "# 4. Make dataset performant\n",
        "test_tribrid_dataset = test_tribrid_dataset.batch(32).prefetch(tf.data.AUTOTUNE)"
      ],
      "metadata": {
        "id": "bq4_n05jUTGn"
      },
      "execution_count": null,
      "outputs": []
    },
    {
      "cell_type": "code",
      "source": [
        "model_5.evaluate(test_tribrid_dataset)"
      ],
      "metadata": {
        "id": "L_QafAkGU-VY",
        "colab": {
          "base_uri": "https://localhost:8080/"
        },
        "outputId": "455e3b4c-6911-4825-8d03-33a140c7b8ca"
      },
      "execution_count": null,
      "outputs": [
        {
          "output_type": "stream",
          "name": "stdout",
          "text": [
            "942/942 [==============================] - 18s 20ms/step - loss: 0.9440 - accuracy: 0.8284\n"
          ]
        },
        {
          "output_type": "execute_result",
          "data": {
            "text/plain": [
              "[0.9440087676048279, 0.8284386992454529]"
            ]
          },
          "metadata": {},
          "execution_count": 137
        }
      ]
    },
    {
      "cell_type": "code",
      "source": [
        "test_model_5_pred_probs = model_5.predict(test_tribrid_dataset)"
      ],
      "metadata": {
        "id": "LfGFLgTqWFOQ"
      },
      "execution_count": null,
      "outputs": []
    },
    {
      "cell_type": "code",
      "source": [
        "test_data_model_5_preds = tf.argmax(test_model_5_pred_probs, axis=1)"
      ],
      "metadata": {
        "id": "6w38C8vfW-Oy"
      },
      "execution_count": null,
      "outputs": []
    },
    {
      "cell_type": "code",
      "source": [
        "test_data_model_5_results = calculate_results(y_true=test_labels_encoded,\n",
        "                                              y_pred=test_data_model_5_preds)\n",
        "test_data_model_5_results"
      ],
      "metadata": {
        "id": "ACN3NgNzX-Md",
        "colab": {
          "base_uri": "https://localhost:8080/"
        },
        "outputId": "cbd4f45b-e885-4c34-c6b5-cbcbbfe22e98"
      },
      "execution_count": null,
      "outputs": [
        {
          "output_type": "execute_result",
          "data": {
            "text/plain": [
              "{'accuracy': 82.84386925501907,\n",
              " 'precision': 0.826733039610497,\n",
              " 'recall': 0.8284386925501908,\n",
              " 'f1': 0.8271907956056315}"
            ]
          },
          "metadata": {},
          "execution_count": 140
        }
      ]
    },
    {
      "cell_type": "code",
      "source": [
        "model_5_results"
      ],
      "metadata": {
        "id": "DpzBrqOUYFB8",
        "colab": {
          "base_uri": "https://localhost:8080/"
        },
        "outputId": "c20ab153-0671-4005-df8e-d51c688fe99e"
      },
      "execution_count": null,
      "outputs": [
        {
          "output_type": "execute_result",
          "data": {
            "text/plain": [
              "{'accuracy': 83.23844829868926,\n",
              " 'precision': 0.8310299931857428,\n",
              " 'recall': 0.8323844829868926,\n",
              " 'f1': 0.831219539748062}"
            ]
          },
          "metadata": {},
          "execution_count": 141
        }
      ]
    },
    {
      "cell_type": "code",
      "source": [
        "## Compare all our different model results\n",
        "all_model_results = pd.DataFrame({\"model_0_baseline\" :baseline_results,\n",
        "                                  \"model_1_custom_token_embedding\": model_1_results,\n",
        "                                  \"model_2_pretrained_token_embedding\": model_2_results,\n",
        "                                  \"model_3_char_embedding\": model_3_results,\n",
        "                                  \"model_4_hybrid_char_token_embedding\": model_4_results,\n",
        "                                  \"model_5_pos_char_token_embedding\": model_5_results,\n",
        "                                  \"test_data_model_5\":test_data_model_5_results})\n",
        "\n",
        "all_model_results = all_model_results.transpose().sort_values(by=\"f1\", ascending=False)\n",
        "all_model_results[\"accuracy\"] = all_model_results.accuracy/100\n",
        "all_model_results\n"
      ],
      "metadata": {
        "id": "CUV3_5sMYXfS",
        "colab": {
          "base_uri": "https://localhost:8080/",
          "height": 269
        },
        "outputId": "34678582-1535-483a-cf59-c4e80b96d0cb"
      },
      "execution_count": null,
      "outputs": [
        {
          "output_type": "execute_result",
          "data": {
            "text/plain": [
              "                                     accuracy  precision    recall        f1\n",
              "model_5_pos_char_token_embedding     0.832384   0.831030  0.832384  0.831220\n",
              "test_data_model_5                    0.828439   0.826733  0.828439  0.827191\n",
              "model_1_custom_token_embedding       0.786906   0.784366  0.786906  0.784605\n",
              "model_4_hybrid_char_token_embedding  0.736992   0.737116  0.736992  0.735307\n",
              "model_2_pretrained_token_embedding   0.713624   0.713659  0.713624  0.710734\n",
              "model_0_baseline                     0.721832   0.718647  0.721832  0.698925\n",
              "model_3_char_embedding               0.692970   0.689478  0.692970  0.685259"
            ],
            "text/html": [
              "\n",
              "  <div id=\"df-34edc71e-82d4-4131-9d12-066319c16b30\">\n",
              "    <div class=\"colab-df-container\">\n",
              "      <div>\n",
              "<style scoped>\n",
              "    .dataframe tbody tr th:only-of-type {\n",
              "        vertical-align: middle;\n",
              "    }\n",
              "\n",
              "    .dataframe tbody tr th {\n",
              "        vertical-align: top;\n",
              "    }\n",
              "\n",
              "    .dataframe thead th {\n",
              "        text-align: right;\n",
              "    }\n",
              "</style>\n",
              "<table border=\"1\" class=\"dataframe\">\n",
              "  <thead>\n",
              "    <tr style=\"text-align: right;\">\n",
              "      <th></th>\n",
              "      <th>accuracy</th>\n",
              "      <th>precision</th>\n",
              "      <th>recall</th>\n",
              "      <th>f1</th>\n",
              "    </tr>\n",
              "  </thead>\n",
              "  <tbody>\n",
              "    <tr>\n",
              "      <th>model_5_pos_char_token_embedding</th>\n",
              "      <td>0.832384</td>\n",
              "      <td>0.831030</td>\n",
              "      <td>0.832384</td>\n",
              "      <td>0.831220</td>\n",
              "    </tr>\n",
              "    <tr>\n",
              "      <th>test_data_model_5</th>\n",
              "      <td>0.828439</td>\n",
              "      <td>0.826733</td>\n",
              "      <td>0.828439</td>\n",
              "      <td>0.827191</td>\n",
              "    </tr>\n",
              "    <tr>\n",
              "      <th>model_1_custom_token_embedding</th>\n",
              "      <td>0.786906</td>\n",
              "      <td>0.784366</td>\n",
              "      <td>0.786906</td>\n",
              "      <td>0.784605</td>\n",
              "    </tr>\n",
              "    <tr>\n",
              "      <th>model_4_hybrid_char_token_embedding</th>\n",
              "      <td>0.736992</td>\n",
              "      <td>0.737116</td>\n",
              "      <td>0.736992</td>\n",
              "      <td>0.735307</td>\n",
              "    </tr>\n",
              "    <tr>\n",
              "      <th>model_2_pretrained_token_embedding</th>\n",
              "      <td>0.713624</td>\n",
              "      <td>0.713659</td>\n",
              "      <td>0.713624</td>\n",
              "      <td>0.710734</td>\n",
              "    </tr>\n",
              "    <tr>\n",
              "      <th>model_0_baseline</th>\n",
              "      <td>0.721832</td>\n",
              "      <td>0.718647</td>\n",
              "      <td>0.721832</td>\n",
              "      <td>0.698925</td>\n",
              "    </tr>\n",
              "    <tr>\n",
              "      <th>model_3_char_embedding</th>\n",
              "      <td>0.692970</td>\n",
              "      <td>0.689478</td>\n",
              "      <td>0.692970</td>\n",
              "      <td>0.685259</td>\n",
              "    </tr>\n",
              "  </tbody>\n",
              "</table>\n",
              "</div>\n",
              "      <button class=\"colab-df-convert\" onclick=\"convertToInteractive('df-34edc71e-82d4-4131-9d12-066319c16b30')\"\n",
              "              title=\"Convert this dataframe to an interactive table.\"\n",
              "              style=\"display:none;\">\n",
              "        \n",
              "  <svg xmlns=\"http://www.w3.org/2000/svg\" height=\"24px\"viewBox=\"0 0 24 24\"\n",
              "       width=\"24px\">\n",
              "    <path d=\"M0 0h24v24H0V0z\" fill=\"none\"/>\n",
              "    <path d=\"M18.56 5.44l.94 2.06.94-2.06 2.06-.94-2.06-.94-.94-2.06-.94 2.06-2.06.94zm-11 1L8.5 8.5l.94-2.06 2.06-.94-2.06-.94L8.5 2.5l-.94 2.06-2.06.94zm10 10l.94 2.06.94-2.06 2.06-.94-2.06-.94-.94-2.06-.94 2.06-2.06.94z\"/><path d=\"M17.41 7.96l-1.37-1.37c-.4-.4-.92-.59-1.43-.59-.52 0-1.04.2-1.43.59L10.3 9.45l-7.72 7.72c-.78.78-.78 2.05 0 2.83L4 21.41c.39.39.9.59 1.41.59.51 0 1.02-.2 1.41-.59l7.78-7.78 2.81-2.81c.8-.78.8-2.07 0-2.86zM5.41 20L4 18.59l7.72-7.72 1.47 1.35L5.41 20z\"/>\n",
              "  </svg>\n",
              "      </button>\n",
              "      \n",
              "  <style>\n",
              "    .colab-df-container {\n",
              "      display:flex;\n",
              "      flex-wrap:wrap;\n",
              "      gap: 12px;\n",
              "    }\n",
              "\n",
              "    .colab-df-convert {\n",
              "      background-color: #E8F0FE;\n",
              "      border: none;\n",
              "      border-radius: 50%;\n",
              "      cursor: pointer;\n",
              "      display: none;\n",
              "      fill: #1967D2;\n",
              "      height: 32px;\n",
              "      padding: 0 0 0 0;\n",
              "      width: 32px;\n",
              "    }\n",
              "\n",
              "    .colab-df-convert:hover {\n",
              "      background-color: #E2EBFA;\n",
              "      box-shadow: 0px 1px 2px rgba(60, 64, 67, 0.3), 0px 1px 3px 1px rgba(60, 64, 67, 0.15);\n",
              "      fill: #174EA6;\n",
              "    }\n",
              "\n",
              "    [theme=dark] .colab-df-convert {\n",
              "      background-color: #3B4455;\n",
              "      fill: #D2E3FC;\n",
              "    }\n",
              "\n",
              "    [theme=dark] .colab-df-convert:hover {\n",
              "      background-color: #434B5C;\n",
              "      box-shadow: 0px 1px 3px 1px rgba(0, 0, 0, 0.15);\n",
              "      filter: drop-shadow(0px 1px 2px rgba(0, 0, 0, 0.3));\n",
              "      fill: #FFFFFF;\n",
              "    }\n",
              "  </style>\n",
              "\n",
              "      <script>\n",
              "        const buttonEl =\n",
              "          document.querySelector('#df-34edc71e-82d4-4131-9d12-066319c16b30 button.colab-df-convert');\n",
              "        buttonEl.style.display =\n",
              "          google.colab.kernel.accessAllowed ? 'block' : 'none';\n",
              "\n",
              "        async function convertToInteractive(key) {\n",
              "          const element = document.querySelector('#df-34edc71e-82d4-4131-9d12-066319c16b30');\n",
              "          const dataTable =\n",
              "            await google.colab.kernel.invokeFunction('convertToInteractive',\n",
              "                                                     [key], {});\n",
              "          if (!dataTable) return;\n",
              "\n",
              "          const docLinkHtml = 'Like what you see? Visit the ' +\n",
              "            '<a target=\"_blank\" href=https://colab.research.google.com/notebooks/data_table.ipynb>data table notebook</a>'\n",
              "            + ' to learn more about interactive tables.';\n",
              "          element.innerHTML = '';\n",
              "          dataTable['output_type'] = 'display_data';\n",
              "          await google.colab.output.renderOutput(dataTable, element);\n",
              "          const docLink = document.createElement('div');\n",
              "          docLink.innerHTML = docLinkHtml;\n",
              "          element.appendChild(docLink);\n",
              "        }\n",
              "      </script>\n",
              "    </div>\n",
              "  </div>\n",
              "  "
            ]
          },
          "metadata": {},
          "execution_count": 142
        }
      ]
    },
    {
      "cell_type": "code",
      "source": [
        "all_model_results.plot(kind=\"bar\", figsize=(10, 7)).legend(bbox_to_anchor=(1.0, 1.0));"
      ],
      "metadata": {
        "id": "5lFD5H4KdvJF",
        "colab": {
          "base_uri": "https://localhost:8080/",
          "height": 619
        },
        "outputId": "fb0d1438-a0cd-4ce2-a37b-1d224d82f85e"
      },
      "execution_count": null,
      "outputs": [
        {
          "output_type": "display_data",
          "data": {
            "text/plain": [
              "<Figure size 720x504 with 1 Axes>"
            ],
            "image/png": "[encoded data removed]"
          },
          "metadata": {
            "needs_background": "light"
          }
        }
      ]
    },
    {
      "cell_type": "code",
      "source": [
        "test_data_model_5_pred_probs = tf.reduce_max(test_model_5_pred_probs,axis=1)\n",
        "test_data_model_5_pred_probs.numpy()"
      ],
      "metadata": {
        "id": "PzxWVCHfegtm",
        "colab": {
          "base_uri": "https://localhost:8080/"
        },
        "outputId": "ccfa22fb-da66-493f-e610-9f4bf7b2020e"
      },
      "execution_count": null,
      "outputs": [
        {
          "output_type": "execute_result",
          "data": {
            "text/plain": [
              "array([0.5203149, 0.37002  , 0.7980109, ..., 0.706204 , 0.7452937,\n",
              "       0.6617912], dtype=float32)"
            ]
          },
          "metadata": {},
          "execution_count": 144
        }
      ]
    },
    {
      "cell_type": "markdown",
      "source": [
        "Background = 0\n",
        "Objectives = 1\n",
        "Methods = 2\n",
        "Results = 3\n",
        "Conclusion = 4"
      ],
      "metadata": {
        "id": "1KhY6BfxlwA0"
      }
    },
    {
      "cell_type": "code",
      "source": [
        "test_eval_df = pd.DataFrame({\"text\": test_df.text.to_numpy(),\n",
        "                             \"target\": test_df.target.to_numpy(),\n",
        "                             \"target_encoded\": test_labels_encoded,\n",
        "                             \"pred\": test_data_model_5_preds,\n",
        "                             \"pred_prob\": tf.reduce_max(test_model_5_pred_probs, axis=1)})\n",
        "\n",
        "test_eval_df = test_eval_df\n",
        "test_eval_df.head(10)"
      ],
      "metadata": {
        "id": "c2Bq4bdMYvR8",
        "colab": {
          "base_uri": "https://localhost:8080/",
          "height": 424
        },
        "outputId": "d74ba2ea-d65a-418d-e958-c9ace221c695"
      },
      "execution_count": null,
      "outputs": [
        {
          "output_type": "execute_result",
          "data": {
            "text/plain": [
              "                                                                                                                                                                                                                                                                                                                                                               text  \\\n",
              "0                                                                                                                                                                                                                      this study analyzed liver function abnormalities in heart failure patients admitted with severe acute decompensated heart failure ( adhf ) .   \n",
              "1                                                                                                                                                                                      a post hoc analysis was conducted with the use of data from the evaluation study of congestive heart failure and pulmonary artery catheterization effectiveness ( escape ) .   \n",
              "2                                                                                                                                                                                                                                        liver function tests ( lfts ) were measured at @ time points from baseline , at discharge , and up to @ months follow-up .   \n",
              "3  survival analyses were used to assess the association between admission model of end-stage liver disease excluding international normalized ratio ( meld-xi ) scores and patient outcome.there was a high prevalence of abnormal baseline ( admission ) lfts ( albumin @ % , aspartate transaminase @ % , alanine transaminase @ % , and total bilirubin @ % ) .   \n",
              "4                                                                                                                                                                                                                                                     the percentage of patients with abnormal lfts decreased significantly from baseline to @-months ' follow-up .   \n",
              "5                                                                                                           when mean hemodynamic profiles were compared in patients with abnormal versus normal lfts , elevated total bilirubin was associated with a significantly lower cardiac index ( @ vs @ ; p < @ ) and higher central venous pressure ( @ vs @ ; p = @ ) .   \n",
              "6                              multivariable analyses revealed that patients with elevated meld-xi scores ( @ ) had a @-fold ( hazard ratio@ @ , @ % confidence interval @-@ @ ) increased risk of death , rehospitalization , or transplantation after adjusting for baseline lfts , age , sex , race , body mass index , diabetes , and systolic blood pressure .   \n",
              "7                                                                                                                                                                                                                                                       abnormal lfts are common in the adhf population and are a dynamic marker of an impaired hemodynamic state .   \n",
              "8                                                                                                                                                                                                                                                                     elevated meld-xi scores are associated with poor outcomes among patients admitted with adhf .   \n",
              "9                                                                                                                                                                                       minimally invasive endovascular aneurysm repair ( evar ) could be a surgical technique that improves outcome of patients with ruptured abdominal aortic aneurysm ( raaa ) .   \n",
              "\n",
              "        target  target_encoded  pred  pred_prob  \n",
              "0   BACKGROUND               0     3   0.520315  \n",
              "1      RESULTS               4     3   0.370020  \n",
              "2      RESULTS               4     2   0.798011  \n",
              "3      RESULTS               4     2   0.670548  \n",
              "4      RESULTS               4     4   0.756002  \n",
              "5      RESULTS               4     4   0.896541  \n",
              "6      RESULTS               4     4   0.519146  \n",
              "7  CONCLUSIONS               1     1   0.464296  \n",
              "8  CONCLUSIONS               1     4   0.492077  \n",
              "9   BACKGROUND               0     0   0.571553  "
            ],
            "text/html": [
              "\n",
              "  <div id=\"df-90aa6a07-a73d-4a96-b18d-459fea8e5d94\">\n",
              "    <div class=\"colab-df-container\">\n",
              "      <div>\n",
              "<style scoped>\n",
              "    .dataframe tbody tr th:only-of-type {\n",
              "        vertical-align: middle;\n",
              "    }\n",
              "\n",
              "    .dataframe tbody tr th {\n",
              "        vertical-align: top;\n",
              "    }\n",
              "\n",
              "    .dataframe thead th {\n",
              "        text-align: right;\n",
              "    }\n",
              "</style>\n",
              "<table border=\"1\" class=\"dataframe\">\n",
              "  <thead>\n",
              "    <tr style=\"text-align: right;\">\n",
              "      <th></th>\n",
              "      <th>text</th>\n",
              "      <th>target</th>\n",
              "      <th>target_encoded</th>\n",
              "      <th>pred</th>\n",
              "      <th>pred_prob</th>\n",
              "    </tr>\n",
              "  </thead>\n",
              "  <tbody>\n",
              "    <tr>\n",
              "      <th>0</th>\n",
              "      <td>this study analyzed liver function abnormalities in heart failure patients admitted with severe acute decompensated heart failure ( adhf ) .</td>\n",
              "      <td>BACKGROUND</td>\n",
              "      <td>0</td>\n",
              "      <td>3</td>\n",
              "      <td>0.520315</td>\n",
              "    </tr>\n",
              "    <tr>\n",
              "      <th>1</th>\n",
              "      <td>a post hoc analysis was conducted with the use of data from the evaluation study of congestive heart failure and pulmonary artery catheterization effectiveness ( escape ) .</td>\n",
              "      <td>RESULTS</td>\n",
              "      <td>4</td>\n",
              "      <td>3</td>\n",
              "      <td>0.370020</td>\n",
              "    </tr>\n",
              "    <tr>\n",
              "      <th>2</th>\n",
              "      <td>liver function tests ( lfts ) were measured at @ time points from baseline , at discharge , and up to @ months follow-up .</td>\n",
              "      <td>RESULTS</td>\n",
              "      <td>4</td>\n",
              "      <td>2</td>\n",
              "      <td>0.798011</td>\n",
              "    </tr>\n",
              "    <tr>\n",
              "      <th>3</th>\n",
              "      <td>survival analyses were used to assess the association between admission model of end-stage liver disease excluding international normalized ratio ( meld-xi ) scores and patient outcome.there was a high prevalence of abnormal baseline ( admission ) lfts ( albumin @ % , aspartate transaminase @ % , alanine transaminase @ % , and total bilirubin @ % ) .</td>\n",
              "      <td>RESULTS</td>\n",
              "      <td>4</td>\n",
              "      <td>2</td>\n",
              "      <td>0.670548</td>\n",
              "    </tr>\n",
              "    <tr>\n",
              "      <th>4</th>\n",
              "      <td>the percentage of patients with abnormal lfts decreased significantly from baseline to @-months ' follow-up .</td>\n",
              "      <td>RESULTS</td>\n",
              "      <td>4</td>\n",
              "      <td>4</td>\n",
              "      <td>0.756002</td>\n",
              "    </tr>\n",
              "    <tr>\n",
              "      <th>5</th>\n",
              "      <td>when mean hemodynamic profiles were compared in patients with abnormal versus normal lfts , elevated total bilirubin was associated with a significantly lower cardiac index ( @ vs @ ; p &lt; @ ) and higher central venous pressure ( @ vs @ ; p = @ ) .</td>\n",
              "      <td>RESULTS</td>\n",
              "      <td>4</td>\n",
              "      <td>4</td>\n",
              "      <td>0.896541</td>\n",
              "    </tr>\n",
              "    <tr>\n",
              "      <th>6</th>\n",
              "      <td>multivariable analyses revealed that patients with elevated meld-xi scores ( @ ) had a @-fold ( hazard ratio@ @ , @ % confidence interval @-@ @ ) increased risk of death , rehospitalization , or transplantation after adjusting for baseline lfts , age , sex , race , body mass index , diabetes , and systolic blood pressure .</td>\n",
              "      <td>RESULTS</td>\n",
              "      <td>4</td>\n",
              "      <td>4</td>\n",
              "      <td>0.519146</td>\n",
              "    </tr>\n",
              "    <tr>\n",
              "      <th>7</th>\n",
              "      <td>abnormal lfts are common in the adhf population and are a dynamic marker of an impaired hemodynamic state .</td>\n",
              "      <td>CONCLUSIONS</td>\n",
              "      <td>1</td>\n",
              "      <td>1</td>\n",
              "      <td>0.464296</td>\n",
              "    </tr>\n",
              "    <tr>\n",
              "      <th>8</th>\n",
              "      <td>elevated meld-xi scores are associated with poor outcomes among patients admitted with adhf .</td>\n",
              "      <td>CONCLUSIONS</td>\n",
              "      <td>1</td>\n",
              "      <td>4</td>\n",
              "      <td>0.492077</td>\n",
              "    </tr>\n",
              "    <tr>\n",
              "      <th>9</th>\n",
              "      <td>minimally invasive endovascular aneurysm repair ( evar ) could be a surgical technique that improves outcome of patients with ruptured abdominal aortic aneurysm ( raaa ) .</td>\n",
              "      <td>BACKGROUND</td>\n",
              "      <td>0</td>\n",
              "      <td>0</td>\n",
              "      <td>0.571553</td>\n",
              "    </tr>\n",
              "  </tbody>\n",
              "</table>\n",
              "</div>\n",
              "      <button class=\"colab-df-convert\" onclick=\"convertToInteractive('df-90aa6a07-a73d-4a96-b18d-459fea8e5d94')\"\n",
              "              title=\"Convert this dataframe to an interactive table.\"\n",
              "              style=\"display:none;\">\n",
              "        \n",
              "  <svg xmlns=\"http://www.w3.org/2000/svg\" height=\"24px\"viewBox=\"0 0 24 24\"\n",
              "       width=\"24px\">\n",
              "    <path d=\"M0 0h24v24H0V0z\" fill=\"none\"/>\n",
              "    <path d=\"M18.56 5.44l.94 2.06.94-2.06 2.06-.94-2.06-.94-.94-2.06-.94 2.06-2.06.94zm-11 1L8.5 8.5l.94-2.06 2.06-.94-2.06-.94L8.5 2.5l-.94 2.06-2.06.94zm10 10l.94 2.06.94-2.06 2.06-.94-2.06-.94-.94-2.06-.94 2.06-2.06.94z\"/><path d=\"M17.41 7.96l-1.37-1.37c-.4-.4-.92-.59-1.43-.59-.52 0-1.04.2-1.43.59L10.3 9.45l-7.72 7.72c-.78.78-.78 2.05 0 2.83L4 21.41c.39.39.9.59 1.41.59.51 0 1.02-.2 1.41-.59l7.78-7.78 2.81-2.81c.8-.78.8-2.07 0-2.86zM5.41 20L4 18.59l7.72-7.72 1.47 1.35L5.41 20z\"/>\n",
              "  </svg>\n",
              "      </button>\n",
              "      \n",
              "  <style>\n",
              "    .colab-df-container {\n",
              "      display:flex;\n",
              "      flex-wrap:wrap;\n",
              "      gap: 12px;\n",
              "    }\n",
              "\n",
              "    .colab-df-convert {\n",
              "      background-color: #E8F0FE;\n",
              "      border: none;\n",
              "      border-radius: 50%;\n",
              "      cursor: pointer;\n",
              "      display: none;\n",
              "      fill: #1967D2;\n",
              "      height: 32px;\n",
              "      padding: 0 0 0 0;\n",
              "      width: 32px;\n",
              "    }\n",
              "\n",
              "    .colab-df-convert:hover {\n",
              "      background-color: #E2EBFA;\n",
              "      box-shadow: 0px 1px 2px rgba(60, 64, 67, 0.3), 0px 1px 3px 1px rgba(60, 64, 67, 0.15);\n",
              "      fill: #174EA6;\n",
              "    }\n",
              "\n",
              "    [theme=dark] .colab-df-convert {\n",
              "      background-color: #3B4455;\n",
              "      fill: #D2E3FC;\n",
              "    }\n",
              "\n",
              "    [theme=dark] .colab-df-convert:hover {\n",
              "      background-color: #434B5C;\n",
              "      box-shadow: 0px 1px 3px 1px rgba(0, 0, 0, 0.15);\n",
              "      filter: drop-shadow(0px 1px 2px rgba(0, 0, 0, 0.3));\n",
              "      fill: #FFFFFF;\n",
              "    }\n",
              "  </style>\n",
              "\n",
              "      <script>\n",
              "        const buttonEl =\n",
              "          document.querySelector('#df-90aa6a07-a73d-4a96-b18d-459fea8e5d94 button.colab-df-convert');\n",
              "        buttonEl.style.display =\n",
              "          google.colab.kernel.accessAllowed ? 'block' : 'none';\n",
              "\n",
              "        async function convertToInteractive(key) {\n",
              "          const element = document.querySelector('#df-90aa6a07-a73d-4a96-b18d-459fea8e5d94');\n",
              "          const dataTable =\n",
              "            await google.colab.kernel.invokeFunction('convertToInteractive',\n",
              "                                                     [key], {});\n",
              "          if (!dataTable) return;\n",
              "\n",
              "          const docLinkHtml = 'Like what you see? Visit the ' +\n",
              "            '<a target=\"_blank\" href=https://colab.research.google.com/notebooks/data_table.ipynb>data table notebook</a>'\n",
              "            + ' to learn more about interactive tables.';\n",
              "          element.innerHTML = '';\n",
              "          dataTable['output_type'] = 'display_data';\n",
              "          await google.colab.output.renderOutput(dataTable, element);\n",
              "          const docLink = document.createElement('div');\n",
              "          docLink.innerHTML = docLinkHtml;\n",
              "          element.appendChild(docLink);\n",
              "        }\n",
              "      </script>\n",
              "    </div>\n",
              "  </div>\n",
              "  "
            ]
          },
          "metadata": {},
          "execution_count": 145
        }
      ]
    },
    {
      "cell_type": "code",
      "source": [
        "pd.set_option('max_rows', 99999)\n",
        "pd.set_option('max_colwidth', 400)\n",
        "pd.describe_option('max_colwidth')\n",
        "\n",
        "most_wrong = test_eval_df[test_eval_df[\"target_encoded\"] != test_eval_df[\"pred\"]].sort_values(by=\"pred_prob\", ascending=False)\n",
        "most_wrong.tail()"
      ],
      "metadata": {
        "id": "9sKdXQTOf5tB",
        "colab": {
          "base_uri": "https://localhost:8080/",
          "height": 354
        },
        "outputId": "a48a837e-c995-4960-ab02-9214baa40dec"
      },
      "execution_count": null,
      "outputs": [
        {
          "output_type": "stream",
          "name": "stdout",
          "text": [
            "display.max_colwidth : int or None\n",
            "    The maximum width in characters of a column in the repr of\n",
            "    a pandas data structure. When the column overflows, a \"...\"\n",
            "    placeholder is embedded in the output. A 'None' value means unlimited.\n",
            "    [default: 50] [currently: 400]\n"
          ]
        },
        {
          "output_type": "execute_result",
          "data": {
            "text/plain": [
              "                                                                                                                                                                                                                                                                                                                                                        text  \\\n",
              "19439                                                                                                                                                                                                                                                         it also looks at whether ` feedback-informed treatment ' affects the quality of the alliance .   \n",
              "1319                                                                                                                                                                                                                            the authors identified @ patients ( @ % of the sample ) who might benefit from changes in their psychotropic prescriptions .   \n",
              "24332  we hypothesized that increased hypoxic chemosensitivity in men could be associated with the development of nocturnal periodic breathing at altitude more frequently than in women , and that acetazolamide , by leftward shifting the co@ ventilatory response , could improve nocturnal periodic breathing at altitude in a sex-independent manner .   \n",
              "23020                                                                                                 overall , there were improvements in risk factor recording and in prescribing of recommended treatments among under-treated individuals , but it is unclear how this intervention was used in practice and what factors promoted or hindered its use .   \n",
              "23023                                                                                                                                                                            our aims are to understand how , why , and for whom the intervention produced the observed outcomes and to develop effective strategies for translation and dissemination .   \n",
              "\n",
              "           target  target_encoded  pred  pred_prob  \n",
              "19439  BACKGROUND               0     2   0.242828  \n",
              "1319      RESULTS               4     3   0.240763  \n",
              "24332   OBJECTIVE               3     0   0.239042  \n",
              "23020  BACKGROUND               0     1   0.235849  \n",
              "23023  BACKGROUND               0     2   0.234473  "
            ],
            "text/html": [
              "\n",
              "  <div id=\"df-fb7b4bd3-a6ba-4247-972d-d12060a887be\">\n",
              "    <div class=\"colab-df-container\">\n",
              "      <div>\n",
              "<style scoped>\n",
              "    .dataframe tbody tr th:only-of-type {\n",
              "        vertical-align: middle;\n",
              "    }\n",
              "\n",
              "    .dataframe tbody tr th {\n",
              "        vertical-align: top;\n",
              "    }\n",
              "\n",
              "    .dataframe thead th {\n",
              "        text-align: right;\n",
              "    }\n",
              "</style>\n",
              "<table border=\"1\" class=\"dataframe\">\n",
              "  <thead>\n",
              "    <tr style=\"text-align: right;\">\n",
              "      <th></th>\n",
              "      <th>text</th>\n",
              "      <th>target</th>\n",
              "      <th>target_encoded</th>\n",
              "      <th>pred</th>\n",
              "      <th>pred_prob</th>\n",
              "    </tr>\n",
              "  </thead>\n",
              "  <tbody>\n",
              "    <tr>\n",
              "      <th>19439</th>\n",
              "      <td>it also looks at whether ` feedback-informed treatment ' affects the quality of the alliance .</td>\n",
              "      <td>BACKGROUND</td>\n",
              "      <td>0</td>\n",
              "      <td>2</td>\n",
              "      <td>0.242828</td>\n",
              "    </tr>\n",
              "    <tr>\n",
              "      <th>1319</th>\n",
              "      <td>the authors identified @ patients ( @ % of the sample ) who might benefit from changes in their psychotropic prescriptions .</td>\n",
              "      <td>RESULTS</td>\n",
              "      <td>4</td>\n",
              "      <td>3</td>\n",
              "      <td>0.240763</td>\n",
              "    </tr>\n",
              "    <tr>\n",
              "      <th>24332</th>\n",
              "      <td>we hypothesized that increased hypoxic chemosensitivity in men could be associated with the development of nocturnal periodic breathing at altitude more frequently than in women , and that acetazolamide , by leftward shifting the co@ ventilatory response , could improve nocturnal periodic breathing at altitude in a sex-independent manner .</td>\n",
              "      <td>OBJECTIVE</td>\n",
              "      <td>3</td>\n",
              "      <td>0</td>\n",
              "      <td>0.239042</td>\n",
              "    </tr>\n",
              "    <tr>\n",
              "      <th>23020</th>\n",
              "      <td>overall , there were improvements in risk factor recording and in prescribing of recommended treatments among under-treated individuals , but it is unclear how this intervention was used in practice and what factors promoted or hindered its use .</td>\n",
              "      <td>BACKGROUND</td>\n",
              "      <td>0</td>\n",
              "      <td>1</td>\n",
              "      <td>0.235849</td>\n",
              "    </tr>\n",
              "    <tr>\n",
              "      <th>23023</th>\n",
              "      <td>our aims are to understand how , why , and for whom the intervention produced the observed outcomes and to develop effective strategies for translation and dissemination .</td>\n",
              "      <td>BACKGROUND</td>\n",
              "      <td>0</td>\n",
              "      <td>2</td>\n",
              "      <td>0.234473</td>\n",
              "    </tr>\n",
              "  </tbody>\n",
              "</table>\n",
              "</div>\n",
              "      <button class=\"colab-df-convert\" onclick=\"convertToInteractive('df-fb7b4bd3-a6ba-4247-972d-d12060a887be')\"\n",
              "              title=\"Convert this dataframe to an interactive table.\"\n",
              "              style=\"display:none;\">\n",
              "        \n",
              "  <svg xmlns=\"http://www.w3.org/2000/svg\" height=\"24px\"viewBox=\"0 0 24 24\"\n",
              "       width=\"24px\">\n",
              "    <path d=\"M0 0h24v24H0V0z\" fill=\"none\"/>\n",
              "    <path d=\"M18.56 5.44l.94 2.06.94-2.06 2.06-.94-2.06-.94-.94-2.06-.94 2.06-2.06.94zm-11 1L8.5 8.5l.94-2.06 2.06-.94-2.06-.94L8.5 2.5l-.94 2.06-2.06.94zm10 10l.94 2.06.94-2.06 2.06-.94-2.06-.94-.94-2.06-.94 2.06-2.06.94z\"/><path d=\"M17.41 7.96l-1.37-1.37c-.4-.4-.92-.59-1.43-.59-.52 0-1.04.2-1.43.59L10.3 9.45l-7.72 7.72c-.78.78-.78 2.05 0 2.83L4 21.41c.39.39.9.59 1.41.59.51 0 1.02-.2 1.41-.59l7.78-7.78 2.81-2.81c.8-.78.8-2.07 0-2.86zM5.41 20L4 18.59l7.72-7.72 1.47 1.35L5.41 20z\"/>\n",
              "  </svg>\n",
              "      </button>\n",
              "      \n",
              "  <style>\n",
              "    .colab-df-container {\n",
              "      display:flex;\n",
              "      flex-wrap:wrap;\n",
              "      gap: 12px;\n",
              "    }\n",
              "\n",
              "    .colab-df-convert {\n",
              "      background-color: #E8F0FE;\n",
              "      border: none;\n",
              "      border-radius: 50%;\n",
              "      cursor: pointer;\n",
              "      display: none;\n",
              "      fill: #1967D2;\n",
              "      height: 32px;\n",
              "      padding: 0 0 0 0;\n",
              "      width: 32px;\n",
              "    }\n",
              "\n",
              "    .colab-df-convert:hover {\n",
              "      background-color: #E2EBFA;\n",
              "      box-shadow: 0px 1px 2px rgba(60, 64, 67, 0.3), 0px 1px 3px 1px rgba(60, 64, 67, 0.15);\n",
              "      fill: #174EA6;\n",
              "    }\n",
              "\n",
              "    [theme=dark] .colab-df-convert {\n",
              "      background-color: #3B4455;\n",
              "      fill: #D2E3FC;\n",
              "    }\n",
              "\n",
              "    [theme=dark] .colab-df-convert:hover {\n",
              "      background-color: #434B5C;\n",
              "      box-shadow: 0px 1px 3px 1px rgba(0, 0, 0, 0.15);\n",
              "      filter: drop-shadow(0px 1px 2px rgba(0, 0, 0, 0.3));\n",
              "      fill: #FFFFFF;\n",
              "    }\n",
              "  </style>\n",
              "\n",
              "      <script>\n",
              "        const buttonEl =\n",
              "          document.querySelector('#df-fb7b4bd3-a6ba-4247-972d-d12060a887be button.colab-df-convert');\n",
              "        buttonEl.style.display =\n",
              "          google.colab.kernel.accessAllowed ? 'block' : 'none';\n",
              "\n",
              "        async function convertToInteractive(key) {\n",
              "          const element = document.querySelector('#df-fb7b4bd3-a6ba-4247-972d-d12060a887be');\n",
              "          const dataTable =\n",
              "            await google.colab.kernel.invokeFunction('convertToInteractive',\n",
              "                                                     [key], {});\n",
              "          if (!dataTable) return;\n",
              "\n",
              "          const docLinkHtml = 'Like what you see? Visit the ' +\n",
              "            '<a target=\"_blank\" href=https://colab.research.google.com/notebooks/data_table.ipynb>data table notebook</a>'\n",
              "            + ' to learn more about interactive tables.';\n",
              "          element.innerHTML = '';\n",
              "          dataTable['output_type'] = 'display_data';\n",
              "          await google.colab.output.renderOutput(dataTable, element);\n",
              "          const docLink = document.createElement('div');\n",
              "          docLink.innerHTML = docLinkHtml;\n",
              "          element.appendChild(docLink);\n",
              "        }\n",
              "      </script>\n",
              "    </div>\n",
              "  </div>\n",
              "  "
            ]
          },
          "metadata": {},
          "execution_count": 146
        }
      ]
    },
    {
      "cell_type": "markdown",
      "source": [
        "### 4. Test data in the wild\n",
        "\n",
        "\n",
        "\n"
      ],
      "metadata": {
        "id": "ZgifHQ-NidPO"
      }
    },
    {
      "cell_type": "code",
      "source": [
        "abstract = ''' Cannabidiol (CBD) and Δ9-tetrahydrocannabinol (THC) are the most represented phytocannabinoids in Cannabis sativa plants. \n",
        "However, CBD may present with a different activity compared with the psychotomimetic THC. \n",
        "Most typically, CBD is reported to be used in some medical conditions, including chronic pain. \n",
        "Conversely, the main aim of this systematic review is to assess and summarise the available body of evidence relating to both efficacy and safety of CBD as a treatment for psychiatric disorders, alone and/or in combination with other treatments. \n",
        "Eligible studies included randomized controlled trials (RCT) assessing the effect of CBD in a range of psychopathological conditions, \n",
        "such as substance use; psychosis, anxiety, mood disturbances, and other psychiatric (e.g., cognitive impairment; sleep; personality; eating; obsessive-compulsive; post-traumatic stress/PTSD; dissociative; and somatic) disorders. \n",
        "For data gathering purposes, the PRISMA guidelines were followed. \n",
        "The initial search strategy identified some n = 1301 papers; n = 190 studies were included after the abstract's screening and n = 27 articles met the inclusion criteria. \n",
        "There is currently limited evidence regarding the safety and efficacy of CBD for the treatment of psychiatric disorders. \n",
        "However, available trials reported potential therapeutic effects for specific psychopathological conditions, such as substance use disorders, chronic psychosis, and anxiety. \n",
        "Further large-scale RCTs are required to better evaluate the efficacy of CBD in both acute and chronic illnesses, special categories, as well as to exclude any possible abuse liability.\n",
        "'''\n",
        "\n",
        "sentences = abstract.split(\".\")\n",
        "total_lines = len(sentences)\n",
        "\n",
        "chars = [split_chars(sentence) for sentence in sentences]\n",
        "total_lines = [total_lines for sentence in sentences]\n",
        "total_lines = np.array(total_lines)\n",
        "\n",
        "line_numbers = [i for i, sentence in enumerate(sentences)]\n",
        "line_numbers = np.array(line_numbers)\n"
      ],
      "metadata": {
        "id": "ys6h-vZgt2IH"
      },
      "execution_count": null,
      "outputs": []
    },
    {
      "cell_type": "code",
      "source": [
        "total_lines.shape"
      ],
      "metadata": {
        "id": "TvCOvYXg1Kp-",
        "colab": {
          "base_uri": "https://localhost:8080/"
        },
        "outputId": "cab6d78e-a149-4f6b-b681-2c2affbbeac7"
      },
      "execution_count": null,
      "outputs": [
        {
          "output_type": "execute_result",
          "data": {
            "text/plain": [
              "(13,)"
            ]
          },
          "metadata": {},
          "execution_count": 148
        }
      ]
    },
    {
      "cell_type": "code",
      "source": [
        "# Create one-hot encoding for line number\n",
        "line_numbers_one_hot = tf.one_hot(line_numbers, depth=line_number_depth)\n",
        "total_lines_one_hot = tf.one_hot(total_lines, depth=total_lines_depth)\n",
        "\n",
        "line_numbers_one_hot\n"
      ],
      "metadata": {
        "id": "KG40g14HzjtY",
        "colab": {
          "base_uri": "https://localhost:8080/"
        },
        "outputId": "f4dffcf1-441a-471b-b2c5-8bc0423eafa2"
      },
      "execution_count": null,
      "outputs": [
        {
          "output_type": "execute_result",
          "data": {
            "text/plain": [
              "<tf.Tensor: shape=(13, 13), dtype=float32, numpy=\n",
              "array([[1., 0., 0., 0., 0., 0., 0., 0., 0., 0., 0., 0., 0.],\n",
              "       [0., 1., 0., 0., 0., 0., 0., 0., 0., 0., 0., 0., 0.],\n",
              "       [0., 0., 1., 0., 0., 0., 0., 0., 0., 0., 0., 0., 0.],\n",
              "       [0., 0., 0., 1., 0., 0., 0., 0., 0., 0., 0., 0., 0.],\n",
              "       [0., 0., 0., 0., 1., 0., 0., 0., 0., 0., 0., 0., 0.],\n",
              "       [0., 0., 0., 0., 0., 1., 0., 0., 0., 0., 0., 0., 0.],\n",
              "       [0., 0., 0., 0., 0., 0., 1., 0., 0., 0., 0., 0., 0.],\n",
              "       [0., 0., 0., 0., 0., 0., 0., 1., 0., 0., 0., 0., 0.],\n",
              "       [0., 0., 0., 0., 0., 0., 0., 0., 1., 0., 0., 0., 0.],\n",
              "       [0., 0., 0., 0., 0., 0., 0., 0., 0., 1., 0., 0., 0.],\n",
              "       [0., 0., 0., 0., 0., 0., 0., 0., 0., 0., 1., 0., 0.],\n",
              "       [0., 0., 0., 0., 0., 0., 0., 0., 0., 0., 0., 1., 0.],\n",
              "       [0., 0., 0., 0., 0., 0., 0., 0., 0., 0., 0., 0., 1.]],\n",
              "      dtype=float32)>"
            ]
          },
          "metadata": {},
          "execution_count": 149
        }
      ]
    },
    {
      "cell_type": "code",
      "source": [
        "abstract_data = tf.data.Dataset.from_tensor_slices((sentences, chars, line_numbers_one_hot, total_lines_one_hot))\n",
        "\n",
        "abstract_data = abstract_data.batch(32)"
      ],
      "metadata": {
        "id": "O9waHKhlyxN_"
      },
      "execution_count": null,
      "outputs": []
    },
    {
      "cell_type": "code",
      "source": [
        "val_tribrid_dataset"
      ],
      "metadata": {
        "id": "sA1WayjZ26J0",
        "colab": {
          "base_uri": "https://localhost:8080/"
        },
        "outputId": "5e77b097-83f6-43f5-d9c1-27b4c34ceebd"
      },
      "execution_count": null,
      "outputs": [
        {
          "output_type": "execute_result",
          "data": {
            "text/plain": [
              "<PrefetchDataset element_spec=((TensorSpec(shape=(None,), dtype=tf.string, name=None), TensorSpec(shape=(None,), dtype=tf.string, name=None), TensorSpec(shape=(None, 13), dtype=tf.float32, name=None), TensorSpec(shape=(None, 18), dtype=tf.float32, name=None)), TensorSpec(shape=(None, 5), dtype=tf.float64, name=None))>"
            ]
          },
          "metadata": {},
          "execution_count": 151
        }
      ]
    },
    {
      "cell_type": "code",
      "source": [
        "abstract_dataset = tf.data.Dataset.zip((abstract_data, ))"
      ],
      "metadata": {
        "id": "-29PFT4l3y0b"
      },
      "execution_count": null,
      "outputs": []
    },
    {
      "cell_type": "code",
      "source": [
        "abstract_pred_probs = model_5.predict(abstract_dataset)\n",
        "abstract_preds = tf.argmax(abstract_pred_probs, axis=1)\n",
        "abstract_preds"
      ],
      "metadata": {
        "id": "agILDMSg340z",
        "colab": {
          "base_uri": "https://localhost:8080/"
        },
        "outputId": "ff9ad1ec-6bc6-413c-c25c-7f0146920316"
      },
      "execution_count": null,
      "outputs": [
        {
          "output_type": "execute_result",
          "data": {
            "text/plain": [
              "<tf.Tensor: shape=(13,), dtype=int64, numpy=array([0, 0, 0, 0, 2, 2, 2, 2, 4, 1, 1, 1, 0])>"
            ]
          },
          "metadata": {},
          "execution_count": 153
        }
      ]
    },
    {
      "cell_type": "code",
      "source": [
        "abstract"
      ],
      "metadata": {
        "id": "cei59vYl4iO4",
        "colab": {
          "base_uri": "https://localhost:8080/",
          "height": 87
        },
        "outputId": "458ea6e1-3814-4fe4-b869-eff02abc9a3c"
      },
      "execution_count": null,
      "outputs": [
        {
          "output_type": "execute_result",
          "data": {
            "text/plain": [
              "\" Cannabidiol (CBD) and Δ9-tetrahydrocannabinol (THC) are the most represented phytocannabinoids in Cannabis sativa plants. \\nHowever, CBD may present with a different activity compared with the psychotomimetic THC. \\nMost typically, CBD is reported to be used in some medical conditions, including chronic pain. \\nConversely, the main aim of this systematic review is to assess and summarise the available body of evidence relating to both efficacy and safety of CBD as a treatment for psychiatric disorders, alone and/or in combination with other treatments. \\nEligible studies included randomized controlled trials (RCT) assessing the effect of CBD in a range of psychopathological conditions, \\nsuch as substance use; psychosis, anxiety, mood disturbances, and other psychiatric (e.g., cognitive impairment; sleep; personality; eating; obsessive-compulsive; post-traumatic stress/PTSD; dissociative; and somatic) disorders. \\nFor data gathering purposes, the PRISMA guidelines were followed. \\nThe initial search strategy identified some n = 1301 papers; n = 190 studies were included after the abstract's screening and n = 27 articles met the inclusion criteria. \\nThere is currently limited evidence regarding the safety and efficacy of CBD for the treatment of psychiatric disorders. \\nHowever, available trials reported potential therapeutic effects for specific psychopathological conditions, such as substance use disorders, chronic psychosis, and anxiety. \\nFurther large-scale RCTs are required to better evaluate the efficacy of CBD in both acute and chronic illnesses, special categories, as well as to exclude any possible abuse liability.\\n\""
            ],
            "application/vnd.google.colaboratory.intrinsic+json": {
              "type": "string"
            }
          },
          "metadata": {},
          "execution_count": 154
        }
      ]
    },
    {
      "cell_type": "code",
      "source": [
        "abstract_df = pd.DataFrame({\"sentence\": sentences,\n",
        "                            \"pred\":abstract_preds,\n",
        "                            \"pred_prob\": tf.reduce_max(abstract_pred_probs, axis=1)})\n",
        "\n",
        "abstract_df"
      ],
      "metadata": {
        "id": "Z9rxoaEr6Jp1",
        "colab": {
          "base_uri": "https://localhost:8080/",
          "height": 457
        },
        "outputId": "aecfa09d-bf2e-412d-8336-218b31fb330f"
      },
      "execution_count": null,
      "outputs": [
        {
          "output_type": "execute_result",
          "data": {
            "text/plain": [
              "                                                                                                                                                                                                                                                   sentence  \\\n",
              "0                                                                                                                                  Cannabidiol (CBD) and Δ9-tetrahydrocannabinol (THC) are the most represented phytocannabinoids in Cannabis sativa plants   \n",
              "1                                                                                                                                                                \\nHowever, CBD may present with a different activity compared with the psychotomimetic THC   \n",
              "2                                                                                                                                                           \\nMost typically, CBD is reported to be used in some medical conditions, including chronic pain   \n",
              "3    \\nConversely, the main aim of this systematic review is to assess and summarise the available body of evidence relating to both efficacy and safety of CBD as a treatment for psychiatric disorders, alone and/or in combination with other treatments   \n",
              "4                          \\nEligible studies included randomized controlled trials (RCT) assessing the effect of CBD in a range of psychopathological conditions, \\nsuch as substance use; psychosis, anxiety, mood disturbances, and other psychiatric (e   \n",
              "5                                                                                                                                                                                                                                                         g   \n",
              "6                                                                                                                , cognitive impairment; sleep; personality; eating; obsessive-compulsive; post-traumatic stress/PTSD; dissociative; and somatic) disorders   \n",
              "7                                                                                                                                                                                        \\nFor data gathering purposes, the PRISMA guidelines were followed   \n",
              "8                                                                                \\nThe initial search strategy identified some n = 1301 papers; n = 190 studies were included after the abstract's screening and n = 27 articles met the inclusion criteria   \n",
              "9                                                                                                                                 \\nThere is currently limited evidence regarding the safety and efficacy of CBD for the treatment of psychiatric disorders   \n",
              "10                                                                           \\nHowever, available trials reported potential therapeutic effects for specific psychopathological conditions, such as substance use disorders, chronic psychosis, and anxiety   \n",
              "11                                                               \\nFurther large-scale RCTs are required to better evaluate the efficacy of CBD in both acute and chronic illnesses, special categories, as well as to exclude any possible abuse liability   \n",
              "12                                                                                                                                                                                                                                                       \\n   \n",
              "\n",
              "    pred  pred_prob  \n",
              "0      0   0.725645  \n",
              "1      0   0.603842  \n",
              "2      0   0.600355  \n",
              "3      0   0.451259  \n",
              "4      2   0.744478  \n",
              "5      2   0.784368  \n",
              "6      2   0.575888  \n",
              "7      2   0.567154  \n",
              "8      4   0.526399  \n",
              "9      1   0.718243  \n",
              "10     1   0.622624  \n",
              "11     1   0.818452  \n",
              "12     0   0.753098  "
            ],
            "text/html": [
              "\n",
              "  <div id=\"df-d249bbc6-079e-4530-983e-42ddd4d46cce\">\n",
              "    <div class=\"colab-df-container\">\n",
              "      <div>\n",
              "<style scoped>\n",
              "    .dataframe tbody tr th:only-of-type {\n",
              "        vertical-align: middle;\n",
              "    }\n",
              "\n",
              "    .dataframe tbody tr th {\n",
              "        vertical-align: top;\n",
              "    }\n",
              "\n",
              "    .dataframe thead th {\n",
              "        text-align: right;\n",
              "    }\n",
              "</style>\n",
              "<table border=\"1\" class=\"dataframe\">\n",
              "  <thead>\n",
              "    <tr style=\"text-align: right;\">\n",
              "      <th></th>\n",
              "      <th>sentence</th>\n",
              "      <th>pred</th>\n",
              "      <th>pred_prob</th>\n",
              "    </tr>\n",
              "  </thead>\n",
              "  <tbody>\n",
              "    <tr>\n",
              "      <th>0</th>\n",
              "      <td>Cannabidiol (CBD) and Δ9-tetrahydrocannabinol (THC) are the most represented phytocannabinoids in Cannabis sativa plants</td>\n",
              "      <td>0</td>\n",
              "      <td>0.725645</td>\n",
              "    </tr>\n",
              "    <tr>\n",
              "      <th>1</th>\n",
              "      <td>\\nHowever, CBD may present with a different activity compared with the psychotomimetic THC</td>\n",
              "      <td>0</td>\n",
              "      <td>0.603842</td>\n",
              "    </tr>\n",
              "    <tr>\n",
              "      <th>2</th>\n",
              "      <td>\\nMost typically, CBD is reported to be used in some medical conditions, including chronic pain</td>\n",
              "      <td>0</td>\n",
              "      <td>0.600355</td>\n",
              "    </tr>\n",
              "    <tr>\n",
              "      <th>3</th>\n",
              "      <td>\\nConversely, the main aim of this systematic review is to assess and summarise the available body of evidence relating to both efficacy and safety of CBD as a treatment for psychiatric disorders, alone and/or in combination with other treatments</td>\n",
              "      <td>0</td>\n",
              "      <td>0.451259</td>\n",
              "    </tr>\n",
              "    <tr>\n",
              "      <th>4</th>\n",
              "      <td>\\nEligible studies included randomized controlled trials (RCT) assessing the effect of CBD in a range of psychopathological conditions, \\nsuch as substance use; psychosis, anxiety, mood disturbances, and other psychiatric (e</td>\n",
              "      <td>2</td>\n",
              "      <td>0.744478</td>\n",
              "    </tr>\n",
              "    <tr>\n",
              "      <th>5</th>\n",
              "      <td>g</td>\n",
              "      <td>2</td>\n",
              "      <td>0.784368</td>\n",
              "    </tr>\n",
              "    <tr>\n",
              "      <th>6</th>\n",
              "      <td>, cognitive impairment; sleep; personality; eating; obsessive-compulsive; post-traumatic stress/PTSD; dissociative; and somatic) disorders</td>\n",
              "      <td>2</td>\n",
              "      <td>0.575888</td>\n",
              "    </tr>\n",
              "    <tr>\n",
              "      <th>7</th>\n",
              "      <td>\\nFor data gathering purposes, the PRISMA guidelines were followed</td>\n",
              "      <td>2</td>\n",
              "      <td>0.567154</td>\n",
              "    </tr>\n",
              "    <tr>\n",
              "      <th>8</th>\n",
              "      <td>\\nThe initial search strategy identified some n = 1301 papers; n = 190 studies were included after the abstract's screening and n = 27 articles met the inclusion criteria</td>\n",
              "      <td>4</td>\n",
              "      <td>0.526399</td>\n",
              "    </tr>\n",
              "    <tr>\n",
              "      <th>9</th>\n",
              "      <td>\\nThere is currently limited evidence regarding the safety and efficacy of CBD for the treatment of psychiatric disorders</td>\n",
              "      <td>1</td>\n",
              "      <td>0.718243</td>\n",
              "    </tr>\n",
              "    <tr>\n",
              "      <th>10</th>\n",
              "      <td>\\nHowever, available trials reported potential therapeutic effects for specific psychopathological conditions, such as substance use disorders, chronic psychosis, and anxiety</td>\n",
              "      <td>1</td>\n",
              "      <td>0.622624</td>\n",
              "    </tr>\n",
              "    <tr>\n",
              "      <th>11</th>\n",
              "      <td>\\nFurther large-scale RCTs are required to better evaluate the efficacy of CBD in both acute and chronic illnesses, special categories, as well as to exclude any possible abuse liability</td>\n",
              "      <td>1</td>\n",
              "      <td>0.818452</td>\n",
              "    </tr>\n",
              "    <tr>\n",
              "      <th>12</th>\n",
              "      <td>\\n</td>\n",
              "      <td>0</td>\n",
              "      <td>0.753098</td>\n",
              "    </tr>\n",
              "  </tbody>\n",
              "</table>\n",
              "</div>\n",
              "      <button class=\"colab-df-convert\" onclick=\"convertToInteractive('df-d249bbc6-079e-4530-983e-42ddd4d46cce')\"\n",
              "              title=\"Convert this dataframe to an interactive table.\"\n",
              "              style=\"display:none;\">\n",
              "        \n",
              "  <svg xmlns=\"http://www.w3.org/2000/svg\" height=\"24px\"viewBox=\"0 0 24 24\"\n",
              "       width=\"24px\">\n",
              "    <path d=\"M0 0h24v24H0V0z\" fill=\"none\"/>\n",
              "    <path d=\"M18.56 5.44l.94 2.06.94-2.06 2.06-.94-2.06-.94-.94-2.06-.94 2.06-2.06.94zm-11 1L8.5 8.5l.94-2.06 2.06-.94-2.06-.94L8.5 2.5l-.94 2.06-2.06.94zm10 10l.94 2.06.94-2.06 2.06-.94-2.06-.94-.94-2.06-.94 2.06-2.06.94z\"/><path d=\"M17.41 7.96l-1.37-1.37c-.4-.4-.92-.59-1.43-.59-.52 0-1.04.2-1.43.59L10.3 9.45l-7.72 7.72c-.78.78-.78 2.05 0 2.83L4 21.41c.39.39.9.59 1.41.59.51 0 1.02-.2 1.41-.59l7.78-7.78 2.81-2.81c.8-.78.8-2.07 0-2.86zM5.41 20L4 18.59l7.72-7.72 1.47 1.35L5.41 20z\"/>\n",
              "  </svg>\n",
              "      </button>\n",
              "      \n",
              "  <style>\n",
              "    .colab-df-container {\n",
              "      display:flex;\n",
              "      flex-wrap:wrap;\n",
              "      gap: 12px;\n",
              "    }\n",
              "\n",
              "    .colab-df-convert {\n",
              "      background-color: #E8F0FE;\n",
              "      border: none;\n",
              "      border-radius: 50%;\n",
              "      cursor: pointer;\n",
              "      display: none;\n",
              "      fill: #1967D2;\n",
              "      height: 32px;\n",
              "      padding: 0 0 0 0;\n",
              "      width: 32px;\n",
              "    }\n",
              "\n",
              "    .colab-df-convert:hover {\n",
              "      background-color: #E2EBFA;\n",
              "      box-shadow: 0px 1px 2px rgba(60, 64, 67, 0.3), 0px 1px 3px 1px rgba(60, 64, 67, 0.15);\n",
              "      fill: #174EA6;\n",
              "    }\n",
              "\n",
              "    [theme=dark] .colab-df-convert {\n",
              "      background-color: #3B4455;\n",
              "      fill: #D2E3FC;\n",
              "    }\n",
              "\n",
              "    [theme=dark] .colab-df-convert:hover {\n",
              "      background-color: #434B5C;\n",
              "      box-shadow: 0px 1px 3px 1px rgba(0, 0, 0, 0.15);\n",
              "      filter: drop-shadow(0px 1px 2px rgba(0, 0, 0, 0.3));\n",
              "      fill: #FFFFFF;\n",
              "    }\n",
              "  </style>\n",
              "\n",
              "      <script>\n",
              "        const buttonEl =\n",
              "          document.querySelector('#df-d249bbc6-079e-4530-983e-42ddd4d46cce button.colab-df-convert');\n",
              "        buttonEl.style.display =\n",
              "          google.colab.kernel.accessAllowed ? 'block' : 'none';\n",
              "\n",
              "        async function convertToInteractive(key) {\n",
              "          const element = document.querySelector('#df-d249bbc6-079e-4530-983e-42ddd4d46cce');\n",
              "          const dataTable =\n",
              "            await google.colab.kernel.invokeFunction('convertToInteractive',\n",
              "                                                     [key], {});\n",
              "          if (!dataTable) return;\n",
              "\n",
              "          const docLinkHtml = 'Like what you see? Visit the ' +\n",
              "            '<a target=\"_blank\" href=https://colab.research.google.com/notebooks/data_table.ipynb>data table notebook</a>'\n",
              "            + ' to learn more about interactive tables.';\n",
              "          element.innerHTML = '';\n",
              "          dataTable['output_type'] = 'display_data';\n",
              "          await google.colab.output.renderOutput(dataTable, element);\n",
              "          const docLink = document.createElement('div');\n",
              "          docLink.innerHTML = docLinkHtml;\n",
              "          element.appendChild(docLink);\n",
              "        }\n",
              "      </script>\n",
              "    </div>\n",
              "  </div>\n",
              "  "
            ]
          },
          "metadata": {},
          "execution_count": 155
        }
      ]
    },
    {
      "cell_type": "code",
      "source": [
        "abstract_2 = \"\"\" Parkinson’s disease (PD) is a chronic neurodegenerative disorder characterized by motor symptoms such as bradykinesia, rest tremor, postural disturbances, and rigidity. PD is also characterized by non-motor symptoms such as sleep disturbances, cognitive deficits, and psychiatric disorders such as psychosis, depression, and anxiety. The pharmacological treatment for these symptoms is limited in efficacy and induce significant adverse reactions, highlighting the need for better treatment options. Cannabidiol (CBD) is a phytocannabinoid devoid of the euphoriant and cognitive effects of tetrahydrocannabinol, and preclinical and preliminary clinical studies suggest that this compound has therapeutic effect in non-motor symptoms of PD. In the present text, we review the clinical studies of cannabinoids in PD and the preclinical and clinical studies specifically on CBD. We found four randomized controlled trials (RCTs) involving the administration of agonists/antagonists of the cannabinoid 1 receptor, showing that these compounds were well tolerated, but only one study found positive results (reductions on levodopa-induced dyskinesia). We found seven preclinical models of PD using CBD, with six studies showing a neuroprotective effect of CBD. We found three trials involving CBD and PD: an open-label study, a case series, and an RCT. CBD was well tolerated, and all three studies reported significant therapeutic effects in non-motor symptoms (psychosis, rapid eye movement sleep behaviour disorder, daily activities, and stigma). However, sample sizes were small and CBD treatment was short (up to 6 weeks). Large-scale RCTs are needed to try to replicate these results and to assess the long-term safety of CBD.\"\"\""
      ],
      "metadata": {
        "id": "gmEd9UCk6naM"
      },
      "execution_count": null,
      "outputs": []
    },
    {
      "cell_type": "code",
      "source": [
        "abstract_2"
      ],
      "metadata": {
        "id": "lx3F6TKhq69M",
        "colab": {
          "base_uri": "https://localhost:8080/",
          "height": 87
        },
        "outputId": "f7f11207-d97c-419d-89da-0dba3226a581"
      },
      "execution_count": null,
      "outputs": [
        {
          "output_type": "execute_result",
          "data": {
            "text/plain": [
              "' Parkinson’s disease (PD) is a chronic neurodegenerative disorder characterized by motor symptoms such as bradykinesia, rest tremor, postural disturbances, and rigidity. PD is also characterized by non-motor symptoms such as sleep disturbances, cognitive deficits, and psychiatric disorders such as psychosis, depression, and anxiety. The pharmacological treatment for these symptoms is limited in efficacy and induce significant adverse reactions, highlighting the need for better treatment options. Cannabidiol (CBD) is a phytocannabinoid devoid of the euphoriant and cognitive effects of tetrahydrocannabinol, and preclinical and preliminary clinical studies suggest that this compound has therapeutic effect in non-motor symptoms of PD. In the present text, we review the clinical studies of cannabinoids in PD and the preclinical and clinical studies specifically on CBD. We found four randomized controlled trials (RCTs) involving the administration of agonists/antagonists of the cannabinoid 1 receptor, showing that these compounds were well tolerated, but only one study found positive results (reductions on levodopa-induced dyskinesia). We found seven preclinical models of PD using CBD, with six studies showing a neuroprotective effect of CBD. We found three trials involving CBD and PD: an open-label study, a case series, and an RCT. CBD was well tolerated, and all three studies reported significant therapeutic effects in non-motor symptoms (psychosis, rapid eye movement sleep behaviour disorder, daily activities, and stigma). However, sample sizes were small and CBD treatment was short (up to 6 weeks). Large-scale RCTs are needed to try to replicate these results and to assess the long-term safety of CBD.'"
            ],
            "application/vnd.google.colaboratory.intrinsic+json": {
              "type": "string"
            }
          },
          "metadata": {},
          "execution_count": 157
        }
      ]
    },
    {
      "cell_type": "code",
      "source": [
        "sentences_2 = abstract_2.split(\".\")\n",
        "total_lines_2 = len(sentences_2)\n",
        "\n",
        "chars_2 = [split_chars(sentence) for sentence in sentences_2]\n",
        "total_lines_2 = [total_lines_2 for sentence in sentences_2]\n",
        "total_lines_2 = np.array(total_lines_2)\n",
        "\n",
        "line_numbers_2 = [i for i, sentence in enumerate(sentences_2)]\n",
        "line_numbers_2 = np.array(line_numbers_2)\n",
        "\n",
        "line_numbers_2_one_hot = tf.one_hot(line_numbers_2, depth=line_number_depth)\n",
        "total_lines_2_one_hot = tf.one_hot(total_lines_2, depth=total_lines_depth)\n"
      ],
      "metadata": {
        "id": "UYfsVjjjq8qB"
      },
      "execution_count": null,
      "outputs": []
    },
    {
      "cell_type": "code",
      "source": [
        "len(total_lines_2)"
      ],
      "metadata": {
        "id": "AFuzY1Lz27gy",
        "colab": {
          "base_uri": "https://localhost:8080/"
        },
        "outputId": "55b5eeec-11e1-46cc-bafd-b8b4877f7a18"
      },
      "execution_count": null,
      "outputs": [
        {
          "output_type": "execute_result",
          "data": {
            "text/plain": [
              "12"
            ]
          },
          "metadata": {},
          "execution_count": 159
        }
      ]
    },
    {
      "cell_type": "code",
      "source": [
        "abstract_2_data = tf.data.Dataset.from_tensor_slices((sentences_2, chars_2, \n",
        "                                                    line_numbers_2_one_hot, \n",
        "                                                    total_lines_2_one_hot))\n",
        "abstract_2_data = abstract_2_data.batch(32)\n",
        "\n",
        "abstract_2_dataset = tf.data.Dataset.zip((abstract_2_data,))"
      ],
      "metadata": {
        "id": "PUzA8-S9ztvo"
      },
      "execution_count": null,
      "outputs": []
    },
    {
      "cell_type": "code",
      "source": [
        "abstract_2_pred_probs = model_5.predict(abstract_2_dataset)\n",
        "\n",
        "abstract_2_preds = tf.argmax(abstract_2_pred_probs, axis=1)"
      ],
      "metadata": {
        "id": "IuBLY6yR0v04"
      },
      "execution_count": null,
      "outputs": []
    },
    {
      "cell_type": "code",
      "source": [
        "abstract_2_preds"
      ],
      "metadata": {
        "id": "EmUm-_wZ01-v",
        "colab": {
          "base_uri": "https://localhost:8080/"
        },
        "outputId": "b76f04f2-db11-47e8-f3a7-a4058b194b14"
      },
      "execution_count": null,
      "outputs": [
        {
          "output_type": "execute_result",
          "data": {
            "text/plain": [
              "<tf.Tensor: shape=(12,), dtype=int64, numpy=array([0, 2, 0, 0, 0, 4, 4, 2, 1, 4, 1, 1])>"
            ]
          },
          "metadata": {},
          "execution_count": 162
        }
      ]
    },
    {
      "cell_type": "code",
      "source": [
        "abstract_2_df = pd.DataFrame({\"sentence\":sentences_2,\n",
        "                              \"pred\": abstract_2_preds,\n",
        "                              \"pred_prob\": tf.reduce_max(abstract_2_pred_probs, axis=1)})"
      ],
      "metadata": {
        "id": "dMal9gOH06FN"
      },
      "execution_count": null,
      "outputs": []
    },
    {
      "cell_type": "code",
      "source": [
        "abstract_2_df"
      ],
      "metadata": {
        "id": "IbUO5J9Z1JoM",
        "colab": {
          "base_uri": "https://localhost:8080/",
          "height": 426
        },
        "outputId": "2e5c22f9-993e-4cf1-ab44-01e077ec2426"
      },
      "execution_count": null,
      "outputs": [
        {
          "output_type": "execute_result",
          "data": {
            "text/plain": [
              "                                                                                                                                                                                                                                                                          sentence  \\\n",
              "0                                                                                                          Parkinson’s disease (PD) is a chronic neurodegenerative disorder characterized by motor symptoms such as bradykinesia, rest tremor, postural disturbances, and rigidity   \n",
              "1                                                                                                              PD is also characterized by non-motor symptoms such as sleep disturbances, cognitive deficits, and psychiatric disorders such as psychosis, depression, and anxiety   \n",
              "2                                                                                                             The pharmacological treatment for these symptoms is limited in efficacy and induce significant adverse reactions, highlighting the need for better treatment options   \n",
              "3                                   Cannabidiol (CBD) is a phytocannabinoid devoid of the euphoriant and cognitive effects of tetrahydrocannabinol, and preclinical and preliminary clinical studies suggest that this compound has therapeutic effect in non-motor symptoms of PD   \n",
              "4                                                                                                                                           In the present text, we review the clinical studies of cannabinoids in PD and the preclinical and clinical studies specifically on CBD   \n",
              "5    We found four randomized controlled trials (RCTs) involving the administration of agonists/antagonists of the cannabinoid 1 receptor, showing that these compounds were well tolerated, but only one study found positive results (reductions on levodopa-induced dyskinesia)   \n",
              "6                                                                                                                                                                      We found seven preclinical models of PD using CBD, with six studies showing a neuroprotective effect of CBD   \n",
              "7                                                                                                                                                                                       We found three trials involving CBD and PD: an open-label study, a case series, and an RCT   \n",
              "8                                                                              CBD was well tolerated, and all three studies reported significant therapeutic effects in non-motor symptoms (psychosis, rapid eye movement sleep behaviour disorder, daily activities, and stigma)   \n",
              "9                                                                                                                                                                                                     However, sample sizes were small and CBD treatment was short (up to 6 weeks)   \n",
              "10                                                                                                                                                                         Large-scale RCTs are needed to try to replicate these results and to assess the long-term safety of CBD   \n",
              "11                                                                                                                                                                                                                                                                                   \n",
              "\n",
              "    pred  pred_prob  \n",
              "0      0   0.681958  \n",
              "1      2   0.372925  \n",
              "2      0   0.497409  \n",
              "3      0   0.385567  \n",
              "4      0   0.303145  \n",
              "5      4   0.298678  \n",
              "6      4   0.453652  \n",
              "7      2   0.385321  \n",
              "8      1   0.418987  \n",
              "9      4   0.662059  \n",
              "10     1   0.761974  \n",
              "11     1   0.374420  "
            ],
            "text/html": [
              "\n",
              "  <div id=\"df-18b3acdb-bdad-4fa4-b69d-34a622aaa8bc\">\n",
              "    <div class=\"colab-df-container\">\n",
              "      <div>\n",
              "<style scoped>\n",
              "    .dataframe tbody tr th:only-of-type {\n",
              "        vertical-align: middle;\n",
              "    }\n",
              "\n",
              "    .dataframe tbody tr th {\n",
              "        vertical-align: top;\n",
              "    }\n",
              "\n",
              "    .dataframe thead th {\n",
              "        text-align: right;\n",
              "    }\n",
              "</style>\n",
              "<table border=\"1\" class=\"dataframe\">\n",
              "  <thead>\n",
              "    <tr style=\"text-align: right;\">\n",
              "      <th></th>\n",
              "      <th>sentence</th>\n",
              "      <th>pred</th>\n",
              "      <th>pred_prob</th>\n",
              "    </tr>\n",
              "  </thead>\n",
              "  <tbody>\n",
              "    <tr>\n",
              "      <th>0</th>\n",
              "      <td>Parkinson’s disease (PD) is a chronic neurodegenerative disorder characterized by motor symptoms such as bradykinesia, rest tremor, postural disturbances, and rigidity</td>\n",
              "      <td>0</td>\n",
              "      <td>0.681958</td>\n",
              "    </tr>\n",
              "    <tr>\n",
              "      <th>1</th>\n",
              "      <td>PD is also characterized by non-motor symptoms such as sleep disturbances, cognitive deficits, and psychiatric disorders such as psychosis, depression, and anxiety</td>\n",
              "      <td>2</td>\n",
              "      <td>0.372925</td>\n",
              "    </tr>\n",
              "    <tr>\n",
              "      <th>2</th>\n",
              "      <td>The pharmacological treatment for these symptoms is limited in efficacy and induce significant adverse reactions, highlighting the need for better treatment options</td>\n",
              "      <td>0</td>\n",
              "      <td>0.497409</td>\n",
              "    </tr>\n",
              "    <tr>\n",
              "      <th>3</th>\n",
              "      <td>Cannabidiol (CBD) is a phytocannabinoid devoid of the euphoriant and cognitive effects of tetrahydrocannabinol, and preclinical and preliminary clinical studies suggest that this compound has therapeutic effect in non-motor symptoms of PD</td>\n",
              "      <td>0</td>\n",
              "      <td>0.385567</td>\n",
              "    </tr>\n",
              "    <tr>\n",
              "      <th>4</th>\n",
              "      <td>In the present text, we review the clinical studies of cannabinoids in PD and the preclinical and clinical studies specifically on CBD</td>\n",
              "      <td>0</td>\n",
              "      <td>0.303145</td>\n",
              "    </tr>\n",
              "    <tr>\n",
              "      <th>5</th>\n",
              "      <td>We found four randomized controlled trials (RCTs) involving the administration of agonists/antagonists of the cannabinoid 1 receptor, showing that these compounds were well tolerated, but only one study found positive results (reductions on levodopa-induced dyskinesia)</td>\n",
              "      <td>4</td>\n",
              "      <td>0.298678</td>\n",
              "    </tr>\n",
              "    <tr>\n",
              "      <th>6</th>\n",
              "      <td>We found seven preclinical models of PD using CBD, with six studies showing a neuroprotective effect of CBD</td>\n",
              "      <td>4</td>\n",
              "      <td>0.453652</td>\n",
              "    </tr>\n",
              "    <tr>\n",
              "      <th>7</th>\n",
              "      <td>We found three trials involving CBD and PD: an open-label study, a case series, and an RCT</td>\n",
              "      <td>2</td>\n",
              "      <td>0.385321</td>\n",
              "    </tr>\n",
              "    <tr>\n",
              "      <th>8</th>\n",
              "      <td>CBD was well tolerated, and all three studies reported significant therapeutic effects in non-motor symptoms (psychosis, rapid eye movement sleep behaviour disorder, daily activities, and stigma)</td>\n",
              "      <td>1</td>\n",
              "      <td>0.418987</td>\n",
              "    </tr>\n",
              "    <tr>\n",
              "      <th>9</th>\n",
              "      <td>However, sample sizes were small and CBD treatment was short (up to 6 weeks)</td>\n",
              "      <td>4</td>\n",
              "      <td>0.662059</td>\n",
              "    </tr>\n",
              "    <tr>\n",
              "      <th>10</th>\n",
              "      <td>Large-scale RCTs are needed to try to replicate these results and to assess the long-term safety of CBD</td>\n",
              "      <td>1</td>\n",
              "      <td>0.761974</td>\n",
              "    </tr>\n",
              "    <tr>\n",
              "      <th>11</th>\n",
              "      <td></td>\n",
              "      <td>1</td>\n",
              "      <td>0.374420</td>\n",
              "    </tr>\n",
              "  </tbody>\n",
              "</table>\n",
              "</div>\n",
              "      <button class=\"colab-df-convert\" onclick=\"convertToInteractive('df-18b3acdb-bdad-4fa4-b69d-34a622aaa8bc')\"\n",
              "              title=\"Convert this dataframe to an interactive table.\"\n",
              "              style=\"display:none;\">\n",
              "        \n",
              "  <svg xmlns=\"http://www.w3.org/2000/svg\" height=\"24px\"viewBox=\"0 0 24 24\"\n",
              "       width=\"24px\">\n",
              "    <path d=\"M0 0h24v24H0V0z\" fill=\"none\"/>\n",
              "    <path d=\"M18.56 5.44l.94 2.06.94-2.06 2.06-.94-2.06-.94-.94-2.06-.94 2.06-2.06.94zm-11 1L8.5 8.5l.94-2.06 2.06-.94-2.06-.94L8.5 2.5l-.94 2.06-2.06.94zm10 10l.94 2.06.94-2.06 2.06-.94-2.06-.94-.94-2.06-.94 2.06-2.06.94z\"/><path d=\"M17.41 7.96l-1.37-1.37c-.4-.4-.92-.59-1.43-.59-.52 0-1.04.2-1.43.59L10.3 9.45l-7.72 7.72c-.78.78-.78 2.05 0 2.83L4 21.41c.39.39.9.59 1.41.59.51 0 1.02-.2 1.41-.59l7.78-7.78 2.81-2.81c.8-.78.8-2.07 0-2.86zM5.41 20L4 18.59l7.72-7.72 1.47 1.35L5.41 20z\"/>\n",
              "  </svg>\n",
              "      </button>\n",
              "      \n",
              "  <style>\n",
              "    .colab-df-container {\n",
              "      display:flex;\n",
              "      flex-wrap:wrap;\n",
              "      gap: 12px;\n",
              "    }\n",
              "\n",
              "    .colab-df-convert {\n",
              "      background-color: #E8F0FE;\n",
              "      border: none;\n",
              "      border-radius: 50%;\n",
              "      cursor: pointer;\n",
              "      display: none;\n",
              "      fill: #1967D2;\n",
              "      height: 32px;\n",
              "      padding: 0 0 0 0;\n",
              "      width: 32px;\n",
              "    }\n",
              "\n",
              "    .colab-df-convert:hover {\n",
              "      background-color: #E2EBFA;\n",
              "      box-shadow: 0px 1px 2px rgba(60, 64, 67, 0.3), 0px 1px 3px 1px rgba(60, 64, 67, 0.15);\n",
              "      fill: #174EA6;\n",
              "    }\n",
              "\n",
              "    [theme=dark] .colab-df-convert {\n",
              "      background-color: #3B4455;\n",
              "      fill: #D2E3FC;\n",
              "    }\n",
              "\n",
              "    [theme=dark] .colab-df-convert:hover {\n",
              "      background-color: #434B5C;\n",
              "      box-shadow: 0px 1px 3px 1px rgba(0, 0, 0, 0.15);\n",
              "      filter: drop-shadow(0px 1px 2px rgba(0, 0, 0, 0.3));\n",
              "      fill: #FFFFFF;\n",
              "    }\n",
              "  </style>\n",
              "\n",
              "      <script>\n",
              "        const buttonEl =\n",
              "          document.querySelector('#df-18b3acdb-bdad-4fa4-b69d-34a622aaa8bc button.colab-df-convert');\n",
              "        buttonEl.style.display =\n",
              "          google.colab.kernel.accessAllowed ? 'block' : 'none';\n",
              "\n",
              "        async function convertToInteractive(key) {\n",
              "          const element = document.querySelector('#df-18b3acdb-bdad-4fa4-b69d-34a622aaa8bc');\n",
              "          const dataTable =\n",
              "            await google.colab.kernel.invokeFunction('convertToInteractive',\n",
              "                                                     [key], {});\n",
              "          if (!dataTable) return;\n",
              "\n",
              "          const docLinkHtml = 'Like what you see? Visit the ' +\n",
              "            '<a target=\"_blank\" href=https://colab.research.google.com/notebooks/data_table.ipynb>data table notebook</a>'\n",
              "            + ' to learn more about interactive tables.';\n",
              "          element.innerHTML = '';\n",
              "          dataTable['output_type'] = 'display_data';\n",
              "          await google.colab.output.renderOutput(dataTable, element);\n",
              "          const docLink = document.createElement('div');\n",
              "          docLink.innerHTML = docLinkHtml;\n",
              "          element.appendChild(docLink);\n",
              "        }\n",
              "      </script>\n",
              "    </div>\n",
              "  </div>\n",
              "  "
            ]
          },
          "metadata": {},
          "execution_count": 164
        }
      ]
    },
    {
      "cell_type": "markdown",
      "source": [],
      "metadata": {
        "id": "4jwxlvjq1XXB"
      }
    },
    {
      "cell_type": "code",
      "source": [
        "# 1. Token inputs\n",
        "token_inputs = layers.Input(shape=[], dtype=tf.string, name=\"token_inputs\")\n",
        "token_embeddings = tf_hub_embedding_layer(token_inputs)\n",
        "token_outputs = layers.Dense(128, activation =\"relu\")(token_embeddings)\n",
        "token_model = tf.keras.Model(inputs=token_inputs,\n",
        "                             outputs=token_outputs)\n",
        "\n",
        "# 2. Character level model\n",
        "char_inputs = layers.Input(shape=(1,), dtype=tf.string, name=\"char_inputs\")\n",
        "char_vectors = char_vectorizer(char_inputs)\n",
        "char_embeddings = char_embed(char_vectors)\n",
        "char_bi_lstm = layers.Bidirectional(layers.LSTM(24))(char_embeddings)\n",
        "char_model = tf.keras.Model(inputs=char_inputs,\n",
        "                            outputs=char_bi_lstm)\n",
        "\n",
        "# 3. Line numbers model\n",
        "line_number_inputs = layers.Input(shape=(line_number_depth,), \n",
        "                                  dtype=tf.float32, \n",
        "                                  name=\"line_number_inputs\")\n",
        "\n",
        "x = layers.Dense(32, activation=\"relu\")(line_number_inputs)\n",
        "\n",
        "# Combine inputs and dense layer into a model\n",
        "line_numbers_model = tf.keras.Model(inputs=line_number_inputs,\n",
        "                                    outputs=x)\n",
        "\n",
        "\n",
        "# 4. total lines model\n",
        "total_lines_inputs = layers.Input(shape=(total_lines_depth,), dtype=tf.float32, name=\"total_lines_inputs\")\n",
        "y = layers.Dense(32, activation=\"relu\")(total_lines_inputs)\n",
        "total_lines_model = tf.keras.Model(inputs=total_lines_inputs,\n",
        "                                  outputs=y)\n",
        "\n",
        "# 5. Combine token and char embeddings into a hybrid embedding\n",
        "combined_embeddings = layers.Concatenate(name=\"token_char_hybrid_embedding\")([token_model.output,\n",
        "                                                                              char_model.output])\n",
        "\n",
        "z = layers.Dense(256, activation=\"relu\")(combined_embeddings)\n",
        "z = layers.Dropout(0.5)(z)\n",
        "\n",
        "# 6. Combine line_numbers_model and total_line_model\n",
        "tribrid_embeddings = layers.Concatenate(name=\"token_char_positional_concat\")([line_numbers_model.output,\n",
        "                                                                              total_lines_model.output,\n",
        "                                                                              z])\n",
        "\n",
        "# 7. Create an output layer to accept the tribried embedding and output label probabilities.\n",
        "output_layer = layers.Dense(5, activation=\"softmax\")(tribrid_embeddings)\n",
        "\n",
        "# 8. Combine inputs of 1, 2, 3, 4, and outputs of into a `tf.keras.Model`\n",
        "model_6 = tf.keras.Model(inputs=[token_model.input, char_model.input,\n",
        "                                 line_numbers_model.input,\n",
        "                                 total_lines_model.input],\n",
        "                         outputs=output_layer,\n",
        "                         name=\"tribrid_embedding_model\")\n",
        "\n",
        "\n",
        "\n",
        "plot_model(model_6, show_shapes=True)"
      ],
      "metadata": {
        "id": "DM5kcY6eBpPq",
        "colab": {
          "base_uri": "https://localhost:8080/",
          "height": 976
        },
        "outputId": "1d5f43c7-3b8f-4b76-fd42-1963261c27b3"
      },
      "execution_count": null,
      "outputs": [
        {
          "output_type": "execute_result",
          "data": {
            "image/png": "[encoded data removed]",
            "text/plain": [
              "<IPython.core.display.Image object>"
            ]
          },
          "metadata": {},
          "execution_count": 165
        }
      ]
    },
    {
      "cell_type": "code",
      "source": [
        "model_6.compile(loss=tf.keras.losses.CategoricalCrossentropy(label_smoothing=0.2),\n",
        "                optimizer=tf.keras.optimizers.Adam(),\n",
        "                metrics=[\"accuracy\"])"
      ],
      "metadata": {
        "id": "E0KCiUn8JK7s"
      },
      "execution_count": null,
      "outputs": []
    },
    {
      "cell_type": "code",
      "source": [
        "model_checkpoint = tf.keras.callbacks.ModelCheckpoint(\n",
        "    filepath=\"/content/model_checkpoints\",\n",
        "    monitor=\"val_loss\",\n",
        "    verbose=0,\n",
        "    save_best_only=True,\n",
        "    save_weights_only=False,\n",
        ")\n",
        "\n"
      ],
      "metadata": {
        "id": "jBSEtLVIH-cK"
      },
      "execution_count": null,
      "outputs": []
    },
    {
      "cell_type": "code",
      "source": [
        "early_stopping = tf.keras.callbacks.EarlyStopping(\n",
        "    monitor=\"val_loss\",\n",
        "    min_delta=0,\n",
        "    patience=3\n",
        ")\n",
        "\n"
      ],
      "metadata": {
        "id": "ZJ6EulCYIcBx"
      },
      "execution_count": null,
      "outputs": []
    },
    {
      "cell_type": "code",
      "source": [
        "history_model_6 = model_6.fit(train_tribrid_dataset,\n",
        "                              steps_per_epoch=len(train_tribrid_dataset),\n",
        "                              validation_data=val_tribrid_dataset,\n",
        "                              validation_steps=len(val_tribrid_dataset),\n",
        "                              epochs=20,\n",
        "                              callbacks=[model_checkpoint,\n",
        "                                         early_stopping])"
      ],
      "metadata": {
        "id": "qiBy7u8OEqqG",
        "colab": {
          "base_uri": "https://localhost:8080/"
        },
        "outputId": "a60001d4-2d26-44e9-f9ed-2397ad1e974b"
      },
      "execution_count": null,
      "outputs": [
        {
          "output_type": "stream",
          "name": "stdout",
          "text": [
            "Epoch 1/20\n",
            "5627/5627 [==============================] - ETA: 0s - loss: 0.9516 - accuracy: 0.8251"
          ]
        },
        {
          "output_type": "stream",
          "name": "stderr",
          "text": [
            "WARNING:absl:Found untraced functions such as lstm_cell_10_layer_call_fn, lstm_cell_10_layer_call_and_return_conditional_losses, lstm_cell_11_layer_call_fn, lstm_cell_11_layer_call_and_return_conditional_losses while saving (showing 4 of 4). These functions will not be directly callable after loading.\n",
            "WARNING:absl:<keras.layers.recurrent.LSTMCell object at 0x7f745e973ad0> has the same name 'LSTMCell' as a built-in Keras object. Consider renaming <class 'keras.layers.recurrent.LSTMCell'> to avoid naming conflicts when loading with `tf.keras.models.load_model`. If renaming is not possible, pass the object in the `custom_objects` parameter of the load function.\n",
            "WARNING:absl:<keras.layers.recurrent.LSTMCell object at 0x7f745e976fd0> has the same name 'LSTMCell' as a built-in Keras object. Consider renaming <class 'keras.layers.recurrent.LSTMCell'> to avoid naming conflicts when loading with `tf.keras.models.load_model`. If renaming is not possible, pass the object in the `custom_objects` parameter of the load function.\n"
          ]
        },
        {
          "output_type": "stream",
          "name": "stdout",
          "text": [
            "\b\b\b\b\b\b\b\b\b\b\b\b\b\b\b\b\b\b\b\b\b\b\b\b\b\b\b\b\b\b\b\b\b\b\b\b\b\b\b\b\b\b\b\b\b\b\b\b\b\b\b\b\b\b\b\b\b\b\b\b\b\b\b\b\b\b\b\b\b\b\b\b\b\b\b\b\b\b\b\b\b\b\b\b\b\b\r5627/5627 [==============================] - 267s 46ms/step - loss: 0.9516 - accuracy: 0.8251 - val_loss: 0.9059 - val_accuracy: 0.8526\n",
            "Epoch 2/20\n",
            "5627/5627 [==============================] - ETA: 0s - loss: 0.9079 - accuracy: 0.8557"
          ]
        },
        {
          "output_type": "stream",
          "name": "stderr",
          "text": [
            "WARNING:absl:Found untraced functions such as lstm_cell_10_layer_call_fn, lstm_cell_10_layer_call_and_return_conditional_losses, lstm_cell_11_layer_call_fn, lstm_cell_11_layer_call_and_return_conditional_losses while saving (showing 4 of 4). These functions will not be directly callable after loading.\n",
            "WARNING:absl:<keras.layers.recurrent.LSTMCell object at 0x7f745e973ad0> has the same name 'LSTMCell' as a built-in Keras object. Consider renaming <class 'keras.layers.recurrent.LSTMCell'> to avoid naming conflicts when loading with `tf.keras.models.load_model`. If renaming is not possible, pass the object in the `custom_objects` parameter of the load function.\n",
            "WARNING:absl:<keras.layers.recurrent.LSTMCell object at 0x7f745e976fd0> has the same name 'LSTMCell' as a built-in Keras object. Consider renaming <class 'keras.layers.recurrent.LSTMCell'> to avoid naming conflicts when loading with `tf.keras.models.load_model`. If renaming is not possible, pass the object in the `custom_objects` parameter of the load function.\n"
          ]
        },
        {
          "output_type": "stream",
          "name": "stdout",
          "text": [
            "\b\b\b\b\b\b\b\b\b\b\b\b\b\b\b\b\b\b\b\b\b\b\b\b\b\b\b\b\b\b\b\b\b\b\b\b\b\b\b\b\b\b\b\b\b\b\b\b\b\b\b\b\b\b\b\b\b\b\b\b\b\b\b\b\b\b\b\b\b\b\b\b\b\b\b\b\b\b\b\b\b\b\b\b\b\b\r5627/5627 [==============================] - 251s 45ms/step - loss: 0.9079 - accuracy: 0.8557 - val_loss: 0.8978 - val_accuracy: 0.8558\n",
            "Epoch 3/20\n",
            "5627/5627 [==============================] - ETA: 0s - loss: 0.8961 - accuracy: 0.8633"
          ]
        },
        {
          "output_type": "stream",
          "name": "stderr",
          "text": [
            "WARNING:absl:Found untraced functions such as lstm_cell_10_layer_call_fn, lstm_cell_10_layer_call_and_return_conditional_losses, lstm_cell_11_layer_call_fn, lstm_cell_11_layer_call_and_return_conditional_losses while saving (showing 4 of 4). These functions will not be directly callable after loading.\n",
            "WARNING:absl:<keras.layers.recurrent.LSTMCell object at 0x7f745e973ad0> has the same name 'LSTMCell' as a built-in Keras object. Consider renaming <class 'keras.layers.recurrent.LSTMCell'> to avoid naming conflicts when loading with `tf.keras.models.load_model`. If renaming is not possible, pass the object in the `custom_objects` parameter of the load function.\n",
            "WARNING:absl:<keras.layers.recurrent.LSTMCell object at 0x7f745e976fd0> has the same name 'LSTMCell' as a built-in Keras object. Consider renaming <class 'keras.layers.recurrent.LSTMCell'> to avoid naming conflicts when loading with `tf.keras.models.load_model`. If renaming is not possible, pass the object in the `custom_objects` parameter of the load function.\n"
          ]
        },
        {
          "output_type": "stream",
          "name": "stdout",
          "text": [
            "\b\b\b\b\b\b\b\b\b\b\b\b\b\b\b\b\b\b\b\b\b\b\b\b\b\b\b\b\b\b\b\b\b\b\b\b\b\b\b\b\b\b\b\b\b\b\b\b\b\b\b\b\b\b\b\b\b\b\b\b\b\b\b\b\b\b\b\b\b\b\b\b\b\b\b\b\b\b\b\b\b\b\b\b\b\b\r5627/5627 [==============================] - 250s 45ms/step - loss: 0.8961 - accuracy: 0.8633 - val_loss: 0.8961 - val_accuracy: 0.8570\n",
            "Epoch 4/20\n",
            "5627/5627 [==============================] - ETA: 0s - loss: 0.8873 - accuracy: 0.8696"
          ]
        },
        {
          "output_type": "stream",
          "name": "stderr",
          "text": [
            "WARNING:absl:Found untraced functions such as lstm_cell_10_layer_call_fn, lstm_cell_10_layer_call_and_return_conditional_losses, lstm_cell_11_layer_call_fn, lstm_cell_11_layer_call_and_return_conditional_losses while saving (showing 4 of 4). These functions will not be directly callable after loading.\n",
            "WARNING:absl:<keras.layers.recurrent.LSTMCell object at 0x7f745e973ad0> has the same name 'LSTMCell' as a built-in Keras object. Consider renaming <class 'keras.layers.recurrent.LSTMCell'> to avoid naming conflicts when loading with `tf.keras.models.load_model`. If renaming is not possible, pass the object in the `custom_objects` parameter of the load function.\n",
            "WARNING:absl:<keras.layers.recurrent.LSTMCell object at 0x7f745e976fd0> has the same name 'LSTMCell' as a built-in Keras object. Consider renaming <class 'keras.layers.recurrent.LSTMCell'> to avoid naming conflicts when loading with `tf.keras.models.load_model`. If renaming is not possible, pass the object in the `custom_objects` parameter of the load function.\n"
          ]
        },
        {
          "output_type": "stream",
          "name": "stdout",
          "text": [
            "\b\b\b\b\b\b\b\b\b\b\b\b\b\b\b\b\b\b\b\b\b\b\b\b\b\b\b\b\b\b\b\b\b\b\b\b\b\b\b\b\b\b\b\b\b\b\b\b\b\b\b\b\b\b\b\b\b\b\b\b\b\b\b\b\b\b\b\b\b\b\b\b\b\b\b\b\b\b\b\b\b\b\b\b\b\b\r5627/5627 [==============================] - 252s 45ms/step - loss: 0.8873 - accuracy: 0.8696 - val_loss: 0.8944 - val_accuracy: 0.8573\n",
            "Epoch 5/20\n",
            "5627/5627 [==============================] - ETA: 0s - loss: 0.8805 - accuracy: 0.8747"
          ]
        },
        {
          "output_type": "stream",
          "name": "stderr",
          "text": [
            "WARNING:absl:Found untraced functions such as lstm_cell_10_layer_call_fn, lstm_cell_10_layer_call_and_return_conditional_losses, lstm_cell_11_layer_call_fn, lstm_cell_11_layer_call_and_return_conditional_losses while saving (showing 4 of 4). These functions will not be directly callable after loading.\n",
            "WARNING:absl:<keras.layers.recurrent.LSTMCell object at 0x7f745e973ad0> has the same name 'LSTMCell' as a built-in Keras object. Consider renaming <class 'keras.layers.recurrent.LSTMCell'> to avoid naming conflicts when loading with `tf.keras.models.load_model`. If renaming is not possible, pass the object in the `custom_objects` parameter of the load function.\n",
            "WARNING:absl:<keras.layers.recurrent.LSTMCell object at 0x7f745e976fd0> has the same name 'LSTMCell' as a built-in Keras object. Consider renaming <class 'keras.layers.recurrent.LSTMCell'> to avoid naming conflicts when loading with `tf.keras.models.load_model`. If renaming is not possible, pass the object in the `custom_objects` parameter of the load function.\n"
          ]
        },
        {
          "output_type": "stream",
          "name": "stdout",
          "text": [
            "\b\b\b\b\b\b\b\b\b\b\b\b\b\b\b\b\b\b\b\b\b\b\b\b\b\b\b\b\b\b\b\b\b\b\b\b\b\b\b\b\b\b\b\b\b\b\b\b\b\b\b\b\b\b\b\b\b\b\b\b\b\b\b\b\b\b\b\b\b\b\b\b\b\b\b\b\b\b\b\b\b\b\b\b\b\b\r5627/5627 [==============================] - 252s 45ms/step - loss: 0.8805 - accuracy: 0.8747 - val_loss: 0.8942 - val_accuracy: 0.8580\n",
            "Epoch 6/20\n",
            "5627/5627 [==============================] - 219s 39ms/step - loss: 0.8749 - accuracy: 0.8787 - val_loss: 0.8959 - val_accuracy: 0.8574\n",
            "Epoch 7/20\n",
            "5627/5627 [==============================] - 219s 39ms/step - loss: 0.8703 - accuracy: 0.8828 - val_loss: 0.8960 - val_accuracy: 0.8570\n",
            "Epoch 8/20\n",
            "5627/5627 [==============================] - 218s 39ms/step - loss: 0.8654 - accuracy: 0.8861 - val_loss: 0.8976 - val_accuracy: 0.8562\n"
          ]
        }
      ]
    },
    {
      "cell_type": "code",
      "source": [
        "model_6_pred_probs = model_6.predict(test_tribrid_dataset)"
      ],
      "metadata": {
        "id": "dbNVPasaJHDG"
      },
      "execution_count": null,
      "outputs": []
    },
    {
      "cell_type": "code",
      "source": [
        "model_6_preds = tf.argmax(model_6_pred_probs, axis=1)"
      ],
      "metadata": {
        "id": "1J8R75KnSvwK"
      },
      "execution_count": null,
      "outputs": []
    },
    {
      "cell_type": "code",
      "source": [
        "model_6_preds[:10]"
      ],
      "metadata": {
        "id": "TAk7St0JSzrW",
        "colab": {
          "base_uri": "https://localhost:8080/"
        },
        "outputId": "e39682aa-e97e-46a7-de57-6ca279a5ded9"
      },
      "execution_count": null,
      "outputs": [
        {
          "output_type": "execute_result",
          "data": {
            "text/plain": [
              "<tf.Tensor: shape=(10,), dtype=int64, numpy=array([3, 2, 2, 2, 4, 4, 4, 1, 1, 0])>"
            ]
          },
          "metadata": {},
          "execution_count": 172
        }
      ]
    },
    {
      "cell_type": "markdown",
      "source": [
        "### Use pretrained GloVe embeddings\n",
        "\n",
        "Source: https://keras.io/examples/nlp/pretrained_word_embeddings/"
      ],
      "metadata": {
        "id": "gQH1MmyRS9-Z"
      }
    },
    {
      "cell_type": "code",
      "source": [
        "!wget http://nlp.stanford.edu/data/glove.6B.zip\n",
        "!unzip -q glove.6B.zip"
      ],
      "metadata": {
        "id": "O1wRxw7_XbGo",
        "colab": {
          "base_uri": "https://localhost:8080/"
        },
        "outputId": "c49f0f68-ddb4-425e-a549-b454380ebd80"
      },
      "execution_count": null,
      "outputs": [
        {
          "output_type": "stream",
          "name": "stdout",
          "text": [
            "--2022-09-02 13:56:16--  http://nlp.stanford.edu/data/glove.6B.zip\n",
            "Resolving nlp.stanford.edu (nlp.stanford.edu)... 171.64.67.140\n",
            "Connecting to nlp.stanford.edu (nlp.stanford.edu)|171.64.67.140|:80... connected.\n",
            "HTTP request sent, awaiting response... 302 Found\n",
            "Location: https://nlp.stanford.edu/data/glove.6B.zip [following]\n",
            "--2022-09-02 13:56:16--  https://nlp.stanford.edu/data/glove.6B.zip\n",
            "Connecting to nlp.stanford.edu (nlp.stanford.edu)|171.64.67.140|:443... connected.\n",
            "HTTP request sent, awaiting response... 301 Moved Permanently\n",
            "Location: https://downloads.cs.stanford.edu/nlp/data/glove.6B.zip [following]\n",
            "--2022-09-02 13:56:17--  https://downloads.cs.stanford.edu/nlp/data/glove.6B.zip\n",
            "Resolving downloads.cs.stanford.edu (downloads.cs.stanford.edu)... 171.64.64.22\n",
            "Connecting to downloads.cs.stanford.edu (downloads.cs.stanford.edu)|171.64.64.22|:443... connected.\n",
            "HTTP request sent, awaiting response... 200 OK\n",
            "Length: 862182613 (822M) [application/zip]\n",
            "Saving to: ‘glove.6B.zip’\n",
            "\n",
            "glove.6B.zip        100%[===================>] 822.24M  4.99MB/s    in 2m 39s  \n",
            "\n",
            "2022-09-02 13:58:57 (5.16 MB/s) - ‘glove.6B.zip’ saved [862182613/862182613]\n",
            "\n"
          ]
        }
      ]
    },
    {
      "cell_type": "markdown",
      "source": [
        "The archive contains text files for 100, 200, 300, and 50 dimension embedding vectors.\n",
        "\n",
        "We will create a dictionary mapping of strings to their NumPy vector representation"
      ],
      "metadata": {
        "id": "REL58hPUXg0E"
      }
    },
    {
      "cell_type": "code",
      "source": [
        "path_to_glove_file = os.path.join(\n",
        "    os.path.expanduser(\"~\"), \"/content/glove.6B.100d.txt\"\n",
        ")"
      ],
      "metadata": {
        "id": "fQNgscPIyu_o"
      },
      "execution_count": null,
      "outputs": []
    },
    {
      "cell_type": "code",
      "source": [
        "path_to_glove_file\n",
        "\n",
        "embeddings_index = {}\n",
        "with open(path_to_glove_file) as f:\n",
        "  for line in f:\n",
        "    word, coefs = line.split(maxsplit=1)\n",
        "    coefs = np.fromstring(coefs, \"f\", sep=\" \")\n",
        "    embeddings_index[word] = coefs\n",
        "\n",
        "print(\"Found %s word vectors.\" % len(embeddings_index))"
      ],
      "metadata": {
        "id": "tTo5jZVjzGxl",
        "colab": {
          "base_uri": "https://localhost:8080/"
        },
        "outputId": "ee89e696-0e9f-4889-b59f-ee148d86627b"
      },
      "execution_count": null,
      "outputs": [
        {
          "output_type": "stream",
          "name": "stdout",
          "text": [
            "Found 400000 word vectors.\n"
          ]
        }
      ]
    },
    {
      "cell_type": "markdown",
      "source": [
        "Now we prepare a corresponding embedding matrix that we can use in Keras embedding layer. It's a simp NumPy matrix where entry at index i is the pretrained vector for the word of index 1 in our vectorizer0s vocabulary"
      ],
      "metadata": {
        "id": "HdGhErgQzPqX"
      }
    },
    {
      "cell_type": "code",
      "source": [
        "word_index = dict(zip(rct_20k_text_vocab, range(len(rct_20k_text_vocab))))\n",
        "\n",
        "\n",
        "num_tokens = len(rct_20k_text_vocab) + 2\n",
        "embedding_dim = 100\n",
        "hits = 0\n",
        "misses = 0\n",
        "\n",
        "embedding_matrix = np.zeros((num_tokens, embedding_dim))\n",
        "for word, i in word_index.items():\n",
        "  embedding_vector = embeddings_index.get(word)\n",
        "  if embedding_vector is not None:\n",
        "    # Words not found in embedding index will be all-zeros.\n",
        "    # This includes the representation for \"padding\" and for \"OOV\"\n",
        "    embedding_matrix[i] = embedding_vector\n",
        "    hits +=1\n",
        "  else:\n",
        "    misses+=1\n",
        "\n",
        "print(\"Converted %d words (%d misses)\" % (hits, misses))"
      ],
      "metadata": {
        "id": "sWF-fzUa3F9m",
        "colab": {
          "base_uri": "https://localhost:8080/"
        },
        "outputId": "f32f2150-f808-4ee5-b684-9f745603510a"
      },
      "execution_count": null,
      "outputs": [
        {
          "output_type": "stream",
          "name": "stdout",
          "text": [
            "Converted 29730 words (35111 misses)\n"
          ]
        }
      ]
    },
    {
      "cell_type": "markdown",
      "source": [
        "Next, we load the pretrained- word embeddings matrix into an Embedding layer. \n",
        "Note that we set `trainable=False` so as to keep the embeddings fixed (we don't want to update them during training)"
      ],
      "metadata": {
        "id": "cFQ3zLyq3Hcs"
      }
    },
    {
      "cell_type": "code",
      "source": [
        "glove_embedding = layers.Embedding(\n",
        "    num_tokens,\n",
        "    embedding_dim,\n",
        "    embeddings_initializer=tf.keras.initializers.Constant(embedding_matrix),\n",
        "    trainable=False\n",
        ")"
      ],
      "metadata": {
        "id": "JmnvIZAZ6MwB"
      },
      "execution_count": null,
      "outputs": []
    }
  ]
}